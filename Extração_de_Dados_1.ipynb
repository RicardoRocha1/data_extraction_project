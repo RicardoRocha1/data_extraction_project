{
 "cells": [
  {
   "cell_type": "markdown",
   "metadata": {
    "application/vnd.databricks.v1+cell": {
     "cellMetadata": {
      "byteLimit": 2048000,
      "rowLimit": 10000
     },
     "inputWidgets": {},
     "nuid": "33bad7bd-ba8a-4fdb-9d9e-5951efa9ab2d",
     "showTitle": false,
     "title": ""
    }
   },
   "source": [
    "# Projeto - Extração de Dados I\n",
    "\n",
    "## Sistema de Monitoramento de Avanços no Campo da Genômica\n",
    "\n",
    "### Contexto:\n",
    "\n",
    "O grupo trabalha no time de engenharia de dados na HealthGen, uma empresa especializada em genômica e pesquisa de medicina personalizada. A genômica é o estudo do conjunto completo de genes de um organismo, desempenha um papel fundamental na medicina personalizada e na pesquisa biomédica. Permite a análise do DNA para identificar variantes genéticas e mutações associadas a doenças e facilita a personalização de tratamentos com base nas características genéticas individuais dos pacientes.\n",
    "\n",
    "A empresa precisa se manter atualizada sobre os avanços mais recentes na genômica, identificar oportunidades para pesquisa e desenvolvimento de tratamentos personalizados e acompanhar as tendências em genômica que podem influenciar estratégias de pesquisa e desenvolvimento. Pensando nisso, o time de dados apresentou uma proposta de desenvolvimento de um sistema que coleta, analisa e apresenta as últimas notícias relacionadas à genômica e à medicina personalizada, e também estuda o avanço do campo nos últimos anos.\n",
    "\n",
    "O time de engenharia de dados tem como objetivo desenvolver e garantir um pipeline de dados confiável e estável. As principais atividades são:\n",
    "\n",
    "1. **Consumo de dados com a News API**:\n",
    "    - Implementar um mecanismo para consumir dados de notícias de fontes confiáveis e especializadas em genômica e medicina personalizada, a partir da News API:\n",
    "      [https://newsapi.org/](https://newsapi.org/)\n",
    "\n",
    "2. **Definir Critérios de Relevância**:\n",
    "    - Desenvolver critérios precisos de relevância para filtrar as notícias. Por exemplo, o time pode se concentrar em notícias que mencionem avanços em sequenciamento de DNA, terapias genéticas personalizadas ou descobertas relacionadas a doenças genéticas específicas.\n",
    "\n",
    "3. **Cargas em Batches**:\n",
    "    - Armazenar as notícias relevantes em um formato estruturado e facilmente acessível para consultas e análises posteriores. Essa carga deve acontecer 1 vez por hora. Se as notícias extraídas já tiverem sido armazenadas na carga anterior, o processo deve ignorar e não armazenar as notícias novamente, os dados carregados não podem ficar duplicados.\n",
    "\n",
    "4. **Dados transformados para consulta do público final**:\n",
    "    - A partir dos dados carregados, aplicar as seguintes transformações e armazenar o resultado final para a consulta do público final:\n",
    "        - Quantidade de notícias por ano, mês e dia de publicação;\n",
    "        - Quantidade de notícias por fonte e autor;\n",
    "        - Quantidade de aparições de 3 palavras-chave por ano, mês e dia de publicação (as 3 palavras-chave serão as mesmas usadas para fazer os filtros de relevância do item 2 (2. Definir Critérios de Relevância)).\n",
    "    - Atualizar os dados transformados 1 vez por dia."
   ]
  },
  {
   "cell_type": "code",
   "execution_count": 0,
   "metadata": {
    "application/vnd.databricks.v1+cell": {
     "cellMetadata": {
      "byteLimit": 2048000,
      "rowLimit": 10000
     },
     "inputWidgets": {},
     "nuid": "8b6052f4-1468-4f9a-885d-4da08a10cc09",
     "showTitle": false,
     "title": ""
    }
   },
   "outputs": [
    {
     "output_type": "display_data",
     "data": {
      "application/vnd.databricks.v1+bamboolib_hint": "{\"pd.DataFrames\": [], \"version\": \"0.0.1\"}",
      "text/plain": []
     },
     "metadata": {},
     "output_type": "display_data"
    },
    {
     "output_type": "display_data",
     "data": {
      "text/html": [
       "<style scoped>\n",
       "  .table-result-container {\n",
       "    max-height: 300px;\n",
       "    overflow: auto;\n",
       "  }\n",
       "  table, th, td {\n",
       "    border: 1px solid black;\n",
       "    border-collapse: collapse;\n",
       "  }\n",
       "  th, td {\n",
       "    padding: 5px;\n",
       "  }\n",
       "  th {\n",
       "    text-align: left;\n",
       "  }\n",
       "</style><div class='table-result-container'><table class='table-result'><thead style='background-color: white'><tr><th>source</th><th>author</th><th>title</th><th>description</th><th>url</th><th>urlToImage</th><th>publishedAt</th><th>content</th></tr></thead><tbody><tr><td>List(null, Scientific American)</td><td>Tulika Bose, Tanya Lewis</td><td>Hunger in Gaza Could Affect Survivors' Health for Decades</td><td>Epigenetics research reveals how famines can cause health problems later in life — and how those changes might be passed down to future generations.</td><td>https://www.scientificamerican.com/podcast/episode/hunger-in-gaza-could-affect-survivors-health-for-decades/</td><td>https://static.scientificamerican.com/dam/m/796975bfa0d8e4df/webimage-GAZA_FAMINE_SQUARE.png?w=1200</td><td>2024-03-11T23:00:00Z</td><td>Tanya Lewis: The situation in Gaza right now is desperate. A large percentage of the population is experiencing hunger or even dying of starvation. \r\n",
       "[Kamala Harris news clip]\r\n",
       "Tulika Bose: Videos sh… [+8169 chars]</td></tr><tr><td>List(null, Phys.Org)</td><td>Science X</td><td>Biologists discover the secrets of how gene traits are passed on</td><td>A research team has recently made a significant breakthrough in understanding how the DNA copying machine helps pass on epigenetic information to maintain gene traits at each cell division.</td><td>https://phys.org/news/2024-03-biologists-secrets-gene-traits.html</td><td>https://scx2.b-cdn.net/gfx/news/2024/biologists-discover-th-1.jpg</td><td>2024-03-07T14:46:37Z</td><td>A research team has recently made a significant breakthrough in understanding how the DNA copying machine helps pass on epigenetic information to maintain gene traits at each cell division.\r\n",
       "Understa… [+6078 chars]</td></tr><tr><td>List(null, New Atlas)</td><td>Paul McClure</td><td>‘Bad’ cholesterol gene silenced without altering the DNA sequence</td><td>By silencing the gene responsible for regulating ‘bad’ cholesterol without altering the primary DNA sequence, researchers have shown that it’s possible to use epigenetic editing to treat diseases rather than conventional DNA-breaking gene editing technology, …</td><td>https://newatlas.com/science/epigenetic-editing-cholesterol-gene-silenced/</td><td>https://assets.newatlas.com/dims4/default/48fd060/2147483647/strip/true/crop/2000x1050+0+142/resize/1200x630!/quality/90/?url=http%3A%2F%2Fnewatlas-brightspot.s3.amazonaws.com%2F1a%2F11%2Fb5b84b0f432c84e8962c950b577c%2Fepigenetic-editing-copy.jpg&na.image_optimisation=0</td><td>2024-02-29T07:30:00Z</td><td>By silencing the gene responsible for regulating bad cholesterol without altering the primary DNA sequence, researchers have shown that its possible to use epigenetic editing to treat diseases rather… [+3063 chars]</td></tr><tr><td>List(null, Frontiersin.org)</td><td>null</td><td>Acetate Revisited: A Key Biomolecule at the Nexus of Metabolism, Epigenetics</td><td>Acetate, the shortest chain fatty acid, has been implicated in providing health benefits whether it is derived from the diet or is generated from microbial f...</td><td>https://www.frontiersin.org/journals/physiology/articles/10.3389/fphys.2020.580171/full</td><td>https://www.frontiersin.org/files/MyHome%20Article%20Library/580171/580171_Thumb_400.jpg</td><td>2024-03-26T11:46:02Z</td><td>Introduction\r\n",
       "Diabetes, obesity, heart disease, cancer, and liver disease have all been linked in various ways to acetate availability, metabolism, and signaling. Acetate supplementation induces phys… [+163834 chars]</td></tr><tr><td>List(null, Phys.Org)</td><td>Science X</td><td>New tool helps decipher gene behavior</td><td>Scientists have extensively researched the structure and sequence of genetic material and its interactions with proteins in the hope of understanding how our genetics and environment interact with diseases. This research has partly focused on 'epigenetic mark…</td><td>https://phys.org/news/2024-02-tool-decipher-gene-behavior.html</td><td>https://scx2.b-cdn.net/gfx/news/hires/2024/new-tool-helps-deciphe.jpg</td><td>2024-02-28T21:49:39Z</td><td>Scientists have extensively researched the structure and sequence of genetic material and its interactions with proteins in the hope of understanding how our genetics and environment interact with di… [+3034 chars]</td></tr><tr><td>List(null, Singularity Hub)</td><td>Shelly Fan</td><td>Gene Silencing Slashes Cholesterol in Mice—No Gene Edits Required</td><td>With just one shot, scientists have slashed cholesterol levels in mice. The treatment lasted for at least half their lives. The shot may sound like gene editing, but it’s not. Instead, it relied on an up-and-coming method to control genetic activity—without d…</td><td>https://singularityhub.com/2024/02/29/gene-silencing-slashes-cholesterol-in-mice-no-gene-edits-required/</td><td>https://singularityhub.com/wp-content/uploads/2023/09/deepmind-dna-double-helix-visualization.jpeg</td><td>2024-02-29T21:26:17Z</td><td>With just one shot, scientists have slashed cholesterol levels in mice. The treatment lasted for at least half their lives.\r\n",
       "The shot may sound like gene editing, but its not. Instead, it relied on a… [+7085 chars]</td></tr><tr><td>List(null, Science Daily)</td><td>null</td><td>Cracking epigenetic inheritance: Biologists discovered the secrets of how gene traits are passed on</td><td>A research team has recently made a significant breakthrough in understanding how the DNA copying machine helps pass on epigenetic information to maintain gene traits at each cell division. Understanding how this coupled mechanism could lead to new treatments…</td><td>https://www.sciencedaily.com/releases/2024/03/240307110735.htm</td><td>https://www.sciencedaily.com/images/scidaily-icon.png</td><td>2024-03-07T16:07:35Z</td><td>A research team led by Professor Yuanliang ZHAI at the School of Biological Sciences, The University of Hong Kong (HKU) collaborating with Professor Ning GAO and Professor Qing LI from Peking Univers… [+5534 chars]</td></tr><tr><td>List(null, Forbes)</td><td>Victoria Forster, Contributor, \n",
       " Victoria Forster, Contributor\n",
       " https://www.forbes.com/sites/victoriaforster/</td><td>AI identifies New Type Of Prostate Cancer</td><td>There are two distinct types of prostate cancer, which may open the door to more personalized therapies, according to a new AI-driven study published today.</td><td>https://www.forbes.com/sites/victoriaforster/2024/02/29/ai-identifies-new-type-of-prostate-cancer/</td><td>https://imageio.forbes.com/specials-images/imageserve/65dfaa1c4adb4c8f69357735/0x0.jpg?format=jpg&height=900&width=1600&fit=bounds</td><td>2024-02-29T16:00:00Z</td><td>There are two distinct genetic types of prostate cancer according to new research which used AI ... [+] analysis\r\n",
       "getty\r\n",
       "There are two distinct types of prostate cancer, according to a new AI-driven … [+3340 chars]</td></tr><tr><td>List(null, Science Daily)</td><td>null</td><td>Sniffing our way to better health</td><td>Imagine if we could inhale scents that delay the onset of cancer, inflammation, or neurodegenerative disease. Researchers are poised to bring this futuristic technology closer to reality.</td><td>https://www.sciencedaily.com/releases/2024/02/240227172140.htm</td><td>https://www.sciencedaily.com/images/scidaily-icon.png</td><td>2024-02-27T22:21:40Z</td><td>Imagine if we could inhale scents that delay the onset of cancer, inflammation, or neurodegenerative disease. Researchers at the University of California, Riverside, are poised to bring this futurist… [+5311 chars]</td></tr><tr><td>List(null, Science Daily)</td><td>null</td><td>'Junk DNA' no more: New method to identify cancers from repeat elements of genetic code</td><td>Repeats of DNA sequences, often referred to as 'junk DNA' or 'dark matter,' that are found in chromosomes and could contribute to cancer or other diseases have been challenging to identify and characterize. Now, researchers have developed a novel approach tha…</td><td>https://www.sciencedaily.com/releases/2024/03/240313185102.htm</td><td>https://www.sciencedaily.com/images/scidaily-icon.png</td><td>2024-03-13T22:51:02Z</td><td>Repeats of DNA sequences, often referred to as \"junk DNA\" or \"dark matter,\" that are found in chromosomes and could contribute to cancer or other diseases have been challenging to identify and charac… [+8429 chars]</td></tr><tr><td>List(null, GQ Magazine)</td><td>Hannah Singleton</td><td>Can You Beat Your Genetics with Lifestyle Changes?</td><td>According to two experts in aging, we hold more power than we think.</td><td>https://www.gq.com/story/genetics-and-longevity</td><td>https://media.gq.com/photos/65e1f3bca06443701548faf9/16:9/w_1280,c_limit/genetics.jpg</td><td>2024-03-06T14:42:29Z</td><td>When it comes to our longevity, theres an age-old question of nature versus nurture: Are we destined for the path thats been laid out by our DNA? Or do our everyday choiceswhat we eat, how we move, a… [+3289 chars]</td></tr><tr><td>List(null, Science Daily)</td><td>null</td><td>New tool helps decipher gene behavior</td><td>Scientists have extensively researched the structure and sequence of genetic material and its interactions with proteins in the hope of understanding how our genetics and environment interact in diseases. This research has partly focused on 'epigenetic marks'…</td><td>https://www.sciencedaily.com/releases/2024/02/240228132043.htm</td><td>https://www.sciencedaily.com/images/scidaily-icon.png</td><td>2024-02-28T18:20:43Z</td><td>Scientists have extensively researched the structure and sequence of genetic material and its interactions with proteins in the hope of understanding how our genetics and environment interact in dise… [+2405 chars]</td></tr><tr><td>List(null, Study Finds)</td><td>StudyFinds Staff</td><td>No More Pills, Injections? Inhaling Scents Could Prevent Cancer, Brain Diseases...</td><td>No More Pills, Injections? Inhaling Scents Could Prevent Cancer, Brain Diseases...\r\n",
       "\n",
       " \n",
       " \n",
       " \n",
       " (Third column, 10th story, link)\r\n",
       "\n",
       " \r\n",
       "\n",
       " \r\n",
       "\n",
       " \n",
       " \n",
       " Drudge Report Feed needs your support!   Become a Patron</td><td>https://studyfinds.org/smelling-scents-disease/</td><td>https://studyfinds.org/wp-content/uploads/2023/07/8eqtxmqr0vg.jpg</td><td>2024-02-29T13:25:38Z</td><td>RIVERSIDE, Calif. — Can smelling things be good for your health? Researchers from the University of California-Riverside have made a fascinating discovery: inhaling certain scents could potentially d… [+4466 chars]</td></tr><tr><td>List(null, Science Daily)</td><td>null</td><td>More schooling is linked to slowed aging and increased longevity</td><td>Participants in the Framingham Heart Study who achieved higher levels of education tended to age more slowly and went on to live longer lives as compared to those who did not achieve upward educational mobility.</td><td>https://www.sciencedaily.com/releases/2024/03/240301134750.htm</td><td>https://www.sciencedaily.com/images/scidaily-icon.png</td><td>2024-03-01T18:47:50Z</td><td>Participants in the Framingham Heart Study who achieved higher levels of education tended to age more slowly and went on to live longer lives as compared to those who did not achieve upward education… [+5526 chars]</td></tr><tr><td>List(null, Science Daily)</td><td>null</td><td>Early life adversity leaves long-term signatures in baboon DNA</td><td>Early experiences in an animal's life can have a significant impact on its capacity to thrive, even years or decades later, and DNA methylation may help record their effects. In a study of 256 wild baboons, researchers found that resource limitation during ea…</td><td>https://www.sciencedaily.com/releases/2024/03/240306150717.htm</td><td>https://www.sciencedaily.com/images/scidaily-icon.png</td><td>2024-03-06T20:07:17Z</td><td>Early experiences in an animal's life can have a significant impact on its capacity to thrive, even years or decades later, and DNA methylation may help record their effects. In a study of 256 wild b… [+3746 chars]</td></tr><tr><td>List(null, Forbes)</td><td>William A. Haseltine, Contributor, \n",
       " William A. Haseltine, Contributor\n",
       " https://www.forbes.com/sites/williamhaseltine/</td><td>The Power Of Precision Medicine: Hydrogel-Based Therapy For Retinitis Pigmentosa</td><td>Recently, researchers have developed a hyaluronic acid-based inflammation-responsive hydrogel that could potentially delay vision loss in retinitis pigmentosa patients.</td><td>https://www.forbes.com/sites/williamhaseltine/2024/02/28/the-power-of-precision-medicine-hydrogel-based-therapy-for-retinitis-pigmentosa/</td><td>https://imageio.forbes.com/specials-images/imageserve/65df4615fa0f73e9ac4610b2/0x0.jpg?format=jpg&height=900&width=1600&fit=bounds</td><td>2024-02-28T14:47:42Z</td><td>Photoreceptors look healthy in a normal retina. Cells are damaged in the retina of an RP patient.\r\n",
       "National Eye Institute\r\n",
       "This story is part of a series on the current progression in Regenerative Me… [+5581 chars]</td></tr><tr><td>List(newsweek, Newsweek)</td><td>Jess Thomson</td><td>Vaping, Like Smoking, May Cause 'Similar Damaging Changes' to DNA</td><td>\"While the scientific consensus is that e-cigarettes are safer than smoking tobacco, we cannot assume they are completely safe,\" researcher Chiara Herzog said.</td><td>https://www.newsweek.com/vaping-smoking-cigarettes-cell-dna-changes-epigenetics-1880528</td><td>https://d.newsweek.com/en/full/2363914/vaping.jpg</td><td>2024-03-19T23:01:01Z</td><td>The cells of people who vape have been found to contain changes to DNA similar to those seen in the cells of smokers.\r\n",
       "These changes in cell DNA, known as epigenetic changes, were found in cells dire… [+6039 chars]</td></tr><tr><td>List(null, Elifesciences.org)</td><td>minghe@uabmc.edu (Erandi Velazquez-Miranda), minghe@uabmc.edu (Ming He)</td><td>More than just a simple barrier</td><td>Endothelial cell subpopulations are characterized by unique gene expression profiles, epigenetic landscapes and functional properties.</td><td>https://elifesciences.org/articles/97247</td><td>https://elifesciences.org/assets/images/social/icon-600x600@1.52e87ee6.png</td><td>2024-03-27T00:00:00Z</td><td>Our blood vessels are lined with a single layer of endothelial cells, known as the vascular endothelium, which provides a permeable barrier to protect the blood from toxins and other harmful substanc… [+5390 chars]</td></tr><tr><td>List(null, GlobeNewswire)</td><td>Omega Therapeutics</td><td>Omega Therapeutics Announces Two Poster Presentations at the American Association for Cancer Research Annual Meeting 2024</td><td>CAMBRIDGE, Mass., March 06, 2024 (GLOBE NEWSWIRE) -- Omega Therapeutics, Inc. (Nasdaq: OMGA) (“Omega”), a clinical-stage biotechnology company pioneering the development of a new class of programmable epigenomic mRNA medicines, today announced that it will pr…</td><td>https://www.globenewswire.com/news-release/2024/03/06/2841239/0/en/Omega-Therapeutics-Announces-Two-Poster-Presentations-at-the-American-Association-for-Cancer-Research-Annual-Meeting-2024.html</td><td>https://ml.globenewswire.com/Resource/Download/4428645b-4edb-49ba-af06-8f9ac7dc4c11</td><td>2024-03-06T12:00:00Z</td><td>CAMBRIDGE, Mass., March 06, 2024 (GLOBE NEWSWIRE) -- Omega Therapeutics, Inc. (Nasdaq: OMGA) (Omega), a clinical-stage biotechnology company pioneering the development of a new class of programmable … [+6665 chars]</td></tr><tr><td>List(null, Marketscreener.com)</td><td>null</td><td>Omega Therapeutics Announces Two Poster Presentations at the American Association for Cancer Research Annual Meeting 2024</td><td>(marketscreener.com) CAMBRIDGE, Mass., March 06, 2024 -- Omega Therapeutics, Inc. , a clinical-stage biotechnology company pioneering the development of a new class of programmable epigenomic mRNA medicines, today announced that it will present two posters at…</td><td>https://www.marketscreener.com/quote/stock/OMEGA-THERAPEUTICS-INC-125290480/news/Omega-Therapeutics-Announces-Two-Poster-Presentations-at-the-American-Association-for-Cancer-Researc-46102992/</td><td>https://www.marketscreener.com/images/twitter_MS_fdnoir.png</td><td>2024-03-06T12:01:02Z</td><td>CAMBRIDGE, Mass., March 06, 2024 (GLOBE NEWSWIRE) -- Omega Therapeutics, Inc. (Nasdaq: OMGA) (Omega), a clinical-stage biotechnology company pioneering the development of a new class of programmable … [+6667 chars]</td></tr><tr><td>List(null, ScienceAlert)</td><td>Clare Watson</td><td>The Smell of Ripe Fruit Could Halt The Growth of Cancer Cells</td><td>Ever since the COVID-19 pandemic kicked off, we've been far more aware of our sense of smell.</td><td>https://www.sciencealert.com/the-smell-of-ripe-fruit-could-halt-the-growth-of-cancer-cells</td><td>https://www.sciencealert.com/images/2024/02/WomanSmellingPineappleAtMarket.jpg</td><td>2024-02-29T06:00:24Z</td><td>Ever since the COVID-19 pandemic kicked off, we've been far more aware of our sense of smell. \r\n",
       "Now, new research shows that odors like those emanating from ripening fruits or fermented foods can lea… [+3671 chars]</td></tr><tr><td>List(null, Elifesciences.org)</td><td>binder@psych.mpg.de (Elisabeth B Binder), binder@psych.mpg.de (Signe Penner-Goeke)</td><td>Linking environmental factors and gene regulation</td><td>A technique called mSTARR-seq sheds light on how DNA methylation may shape responses to external stimuli by altering the activity of sequences that control gene expression.</td><td>https://elifesciences.org/articles/96710</td><td>https://elifesciences.org/assets/images/social/icon-600x600@1.52e87ee6.png</td><td>2024-03-18T00:00:00Z</td><td>Gene regulation is a complex process that allows cells to control when and how they express their genes. Genetic variants can influence these mechanisms, often causing issues that lead to disease (Al… [+6719 chars]</td></tr><tr><td>List(null, GlobeNewswire)</td><td>Prophecy Market insights</td><td>Molecular Biology Enzymes, Kits & Reagents Market to Exceed USD 63.0 Billion by 2034, with a CAGR of 13.7% and Pioneering Precision Medicine Solutions - By PMI</td><td>“Molecular Biology Enzymes, Kits & Reagents Market” from 2024-2034 with covered segments (Molecular Biology Enzymes, Kits & Reagents Market, By Product (Enzymes and Kits & Reagents), By Application (PCR, Sequencing, Cloning, Epigenetics, Restriction Digestion…</td><td>https://www.globenewswire.com/news-release/2024/02/28/2837520/0/en/Molecular-Biology-Enzymes-Kits-Reagents-Market-to-Exceed-USD-63-0-Billion-by-2034-with-a-CAGR-of-13-7-and-Pioneering-Precision-Medicine-Solutions-By-PMI.html</td><td>https://ml.globenewswire.com/Resource/Download/20cb1ee4-d3e9-4331-b534-eae221b5f383</td><td>2024-02-28T22:25:00Z</td><td>Covina, Feb. 28, 2024 (GLOBE NEWSWIRE) -- According to the recent research study, the Molecular Biology Enzymes, Kits &amp; Reagents Market\r\n",
       "size was valued at about USD 17.5 Billion in 2024 and expe… [+12701 chars]</td></tr><tr><td>List(null, Marketscreener.com)</td><td>null</td><td>Cardio Diagnostics Holdings, Inc. Announces Issuance of Second U.S. Patent for Compositions and Methods for Detecting Predisposition to Cardiovascular Disease</td><td>(marketscreener.com) \n",
       "Company Continues to Build and Expand the Global IP Portfolio of Its One-of-a-Kind Technology\n",
       "\n",
       "https://www.marketscreener.com/quote/stock/CARDIO-DIAGNOSTICS-HOLDIN-145899704/news/Cardio-Diagnostics-Holdings-Inc-Announces-Issuance-of-Seco…</td><td>https://www.marketscreener.com/quote/stock/CARDIO-DIAGNOSTICS-HOLDIN-145899704/news/Cardio-Diagnostics-Holdings-Inc-Announces-Issuance-of-Second-U-S-Patent-for-Compositions-and-Meth-46094463/</td><td>https://www.marketscreener.com/images/twitter_MS_fdblanc.png</td><td>2024-03-05T13:37:02Z</td><td>Company Continues to Build and Expand the Global IP Portfolio of Its One-of-a-Kind Technology\r\n",
       "Cardio Diagnostics Holdings, Inc. (NASDAQ: CDIO), an AI-driven precision cardiovascular medicine company… [+6509 chars]</td></tr><tr><td>List(null, Plos.org)</td><td>Allyson J. Swanson, Victor J. Rogowski, Jacob A. Bishop, Dylan M. Walker, Gina M. Roxas, Stacey L. Raimondi</td><td>CLEC11A methylation is correlated to AML subtypes and cytogenetic risk factors but not patient demographics</td><td>Acute myeloid leukemia (AML) is an aggressive and lethal cancer of the blood, which leads to the death of over 11,000 patients in the United States each year. Research on identifying, characterizing, and treating AML is crucial in the fight against this deadl…</td><td>https://journals.plos.org/plosone/article?id=10.1371/journal.pone.0300477</td><td>https://journals.plos.org/plosone/article/figure/image?id=10.1371/journal.pone.0300477.g003&size=inline</td><td>2024-03-11T14:00:00Z</td><td>Abstract\r\n",
       "Acute myeloid leukemia (AML) is an aggressive and lethal cancer of the blood, which leads to the death of over 11,000 patients in the United States each year. Research on identifying, chara… [+22772 chars]</td></tr><tr><td>List(null, Cshlp.org)</td><td>Foroozandeh Shahraki, M., Farahbod, M., Libbrecht, M. W.</td><td>Robust chromatin state annotation [METHOD]</td><td>With the goal of mapping genomic activity, international projects have recently measured epigenetic activity in hundreds of cell and tissue types. Chromatin state annotations produced by segmentation and genome annotation (SAGA) methods have emerged as the pr…</td><td>https://genome.cshlp.org/content/early/2024/03/21/gr.278343.123.short?rss=1</td><td>null</td><td>2024-03-21T19:00:32Z</td><td>With the goal of mapping genomic activity, international projects have recently measured epigenetic activity in hundreds of\r\n",
       " cell and tissue types. Chromatin state annotations produced by segmentati… [+1591 chars]</td></tr><tr><td>List(null, Marketscreener.com)</td><td>null</td><td>Sangamo Therapeutics Announces Data From Novel Proprietary Neurotropic AAV Capsid Demonstrating Industry-leading Blood-brain Barrier Penetration and Brain Transduction in NHPs</td><td>(marketscreener.com) \n",
       "\n",
       "Novel AAV capsid engineered by Sangamo showed robust penetration of blood-brain barrier and widespread transgene expression throughout brain in non-human primates following intravenous administration.\n",
       "\n",
       "\n",
       "\n",
       "Demonstrated industry-leading br…</td><td>https://www.marketscreener.com/quote/stock/SANGAMO-THERAPEUTICS-INC-10811/news/Sangamo-Therapeutics-Announces-Data-From-Novel-Proprietary-Neurotropic-AAV-Capsid-Demonstrating-Indu-46159948/</td><td>https://www.marketscreener.com/images/twitter_MS_fdblanc.png</td><td>2024-03-13T12:08:01Z</td><td>Novel AAV capsid engineered by Sangamo showed robust penetration of blood-brain barrier (BBB) and widespread transgene expression throughout brain in non-human primates (NHPs) following intravenous a… [+11950 chars]</td></tr><tr><td>List(null, GlobeNewswire)</td><td>Prophecy Market insights</td><td>Single-Cell Multi-Omics Market to Boost USD 11.5 Billion by 2034 and Projected to grow at 14.80% CAGR with Accelerating advancement and development – By PMI</td><td>“Single-Cell Multi-Omics Market” from 2024-2034 with covered segments (Single-Cell Multi-Omics Market, By Type (Single Cell Genomics, Single Cell Transcriptomics and Proteomics, and Single Cell Metabolomics), By Product (Instruments and Consumables), By Workf…</td><td>https://www.globenewswire.com/news-release/2024/02/29/2838349/0/en/Single-Cell-Multi-Omics-Market-to-Boost-USD-11-5-Billion-by-2034-and-Projected-to-grow-at-14-80-CAGR-with-Accelerating-advancement-and-development-By-PMI.html</td><td>https://ml.globenewswire.com/Resource/Download/20cb1ee4-d3e9-4331-b534-eae221b5f383</td><td>2024-02-29T20:05:00Z</td><td>Covina, Feb. 29, 2024 (GLOBE NEWSWIRE) -- According to the recent research study, the Single-Cell Multi-Omics Market\r\n",
       "size was valued at about USD 2.9 billion in 2024 and expected to grow at CAGR of … [+11360 chars]</td></tr><tr><td>List(null, GlobeNewswire)</td><td>Precede Biosciences, Inc.</td><td>Precede Biosciences to Present Scientific Data For Its Comprehensive Epigenomic Liquid Biopsy Platform at AACR 2024</td><td>New data in gastro-esophageal and lung cancers show the transformative potential of the platform in providing resolution into the activation status of clinically actionable genes and pathways from a simple blood draw New data in gastro-esophageal and lung can…</td><td>https://www.globenewswire.com/news-release/2024/03/05/2840958/0/en/Precede-Biosciences-to-Present-Scientific-Data-For-Its-Comprehensive-Epigenomic-Liquid-Biopsy-Platform-at-AACR-2024.html</td><td>https://ml.globenewswire.com/Resource/Download/adc7102a-f715-445b-9532-23260281465e</td><td>2024-03-05T21:35:00Z</td><td>BOSTON, March 05, 2024 (GLOBE NEWSWIRE) -- Precede Biosciences, a company impacting the development and use of precision medicines with a first-in-class liquid biopsy platform, today announced three … [+3595 chars]</td></tr><tr><td>List(null, GlobeNewswire)</td><td>Research and Markets</td><td>Omics Lab Services Market Forecast Report 2024-2029: 15% CAGR Forecast During 2024-2029, with Notable Developments in Cancer Research and Genomics</td><td>Dublin, March 15, 2024 (GLOBE NEWSWIRE) -- The \"Omics Lab Services Market - Forecasts from 2024 to 2029\" report has been added to ResearchAndMarkets.com's offering.The omics lab services market was valued at US$98.8 billion in 2022 and is expected to grow at …</td><td>https://www.globenewswire.com/news-release/2024/03/15/2846865/28124/en/Omics-Lab-Services-Market-Forecast-Report-2024-2029-15-CAGR-Forecast-During-2024-2029-with-Notable-Developments-in-Cancer-Research-and-Genomics.html</td><td>https://ml.globenewswire.com/Resource/Download/908fb457-7f8e-4a08-9081-5565e3dfb3d7</td><td>2024-03-15T09:09:00Z</td><td>Dublin, March 15, 2024 (GLOBE NEWSWIRE) -- The \"Omics Lab Services Market - Forecasts from 2024 to 2029\" report has been added to ResearchAndMarkets.com's offering.\r\n",
       "The omics lab services market was… [+7564 chars]</td></tr><tr><td>List(null, InvestorsObserver)</td><td>InvestorsObserver</td><td>Armonica Technologies announces Todd Dickinson joins Board of Directors</td><td>Armonica Technologies announces Todd Dickinson joins Board of Directors           PR Newswire             SAN DIEGO     ,     March 13, 2024     /PRNewswire/ --&#xA0;Armonica Technologies, Inc., a pioneer in sample-prep free direct optical DNA sequenci...</td><td>https://www.investorsobserver.com/news/qm-pr/5721527191685828</td><td>https://s3.amazonaws.com/images.investorsobserver.com/io-logo-800x450.jpg</td><td>2024-03-13T00:00:00Z</td><td>SAN DIEGO\r\n",
       ",\r\n",
       "March 13, 2024\r\n",
       "/PRNewswire/ -- Armonica Technologies, Inc., a pioneer in sample-prep free direct optical DNA sequencing, today announced the appointment of life science leader\r\n",
       "Todd Di… [+2376 chars]</td></tr><tr><td>List(null, menshealth.com)</td><td>Marty Munson</td><td>Can You Actually Turn Back the Aging Clock?</td><td>Dr. Peter Attia rates which anti-aging strategies are worth it, which are B.S. and to keep an eye on. Includes saunas, metformin, ice baths and more.</td><td>https://www.menshealth.com/health/a46716994/anti-aging-strategies-worth-it/</td><td>https://hips.hearstapps.com/hmg-prod/images/tbtc-lead-65f074ec153be.png?crop=1xw:1xh;center,top&resize=1200:*</td><td>2024-03-13T14:49:00Z</td><td>This story is part of Fit at Any Age: New Frontiersa next-level guide to the latest science and tips for a stronger, longer life.\r\n",
       "TECH CENTIMILLIONAIRE Bryan Johnson, a self- described rejuvenation … [+6239 chars]</td></tr><tr><td>List(null, Plos.org)</td><td>Andrey Höglund, Rie Henriksen, Allison M. Churcher, Carlos M. Guerrero-Bosagna, Alvaro Martinez-Barrio, Martin Johnsson, Per Jensen, Dominic Wright</td><td>The regulation of methylation on the Z chromosome and the identification of multiple novel Male Hyper-Methylated regions in the chicken</td><td>Author summary DNA methylation is a key regulator of eukaryote genomes, and is of particular relevance in the regulation of gene expression on the sex chromosomes, with a key role in dosage compensation in mammalian XY systems. In the case of birds, dosage co…</td><td>https://journals.plos.org/plosgenetics/article?id=10.1371/journal.pgen.1010719</td><td>https://journals.plos.org/plosgenetics/article/figure/image?id=10.1371/journal.pgen.1010719.g003&size=inline</td><td>2024-03-08T14:00:00Z</td><td>Abstract\r\n",
       "DNA methylation is a key regulator of eukaryote genomes, and is of particular relevance in the regulation of gene expression on the sex chromosomes, with a key role in dosage compensation i… [+79034 chars]</td></tr><tr><td>List(null, GlobeNewswire)</td><td>Prophecy Market insights</td><td>Biochips Market to Exceed USD 41.8 Billion by 2034, with a CAGR of 14.8% and Pioneering Precision Medicine Solutions - By PMI</td><td>“Biochips Market” from 2024-2034 with covered segments (Biochips Market, By Product (DNA Chip, Protein Chip, Lab-on-a-chip, and Others), By Application (Drug Discovery & Development, Disease Diagnostics, Genomics, Proteomics, Agriculture, and Others), By End-…</td><td>https://www.globenewswire.com/news-release/2024/02/28/2837534/0/en/Biochips-Market-to-Exceed-USD-41-8-Billion-by-2034-with-a-CAGR-of-14-8-and-Pioneering-Precision-Medicine-Solutions-By-PMI.html</td><td>https://ml.globenewswire.com/Resource/Download/20cb1ee4-d3e9-4331-b534-eae221b5f383</td><td>2024-02-28T23:28:00Z</td><td>Covina, Feb. 28, 2024 (GLOBE NEWSWIRE) -- According to the recent research study, the Biochips Market\r\n",
       "size was valued at about USD 10.5 Billion in 2024 and expected to grow at CAGR of 14.8% to exten… [+13945 chars]</td></tr><tr><td>List(null, GlobeNewswire)</td><td>Cerevance</td><td>Cerevance Announces Presentation at Alzheimer’s Research UK Conference</td><td>BOSTON, March 13, 2024 (GLOBE NEWSWIRE) -- Cerevance, a company focused on developing precision novel therapeutics for central nervous system (CNS) diseases, today announced plans to present a poster at the upcoming Alzheimer’s Research UK Conference, taking …</td><td>https://www.globenewswire.com/news-release/2024/03/13/2845419/0/en/Cerevance-Announces-Presentation-at-Alzheimer-s-Research-UK-Conference.html</td><td>https://ml.globenewswire.com/Resource/Download/5ba4e6d9-700e-4096-88f4-3aab36cea765</td><td>2024-03-13T12:30:00Z</td><td>BOSTON, March 13, 2024 (GLOBE NEWSWIRE) -- Cerevance, a company focused on developing precision novel therapeutics for central nervous system (CNS) diseases, today announced plans to present a poster… [+2852 chars]</td></tr><tr><td>List(null, Marketscreener.com)</td><td>null</td><td>Cardio Diagnostics Holdings, Inc. to Showcase HeartRisk and Actionable Clinical Intelligence Version 3 at the American College of Cardiology's 73rd Annual Scientific Session</td><td>(marketscreener.com) \n",
       "Cardio Diagnostics Holdings, Inc. , an AI-powered precision cardiovascular medicine company, announces that the Company will showcase its groundbreaking HeartRiskTM and Actionable Clinical IntelligenceTM platforms at the American College…</td><td>https://www.marketscreener.com/quote/stock/CARDIO-DIAGNOSTICS-HOLDIN-145899704/news/Cardio-Diagnostics-Holdings-Inc-to-Showcase-HeartRisk-and-Actionable-Clinical-Intelligence-Version-46197622/</td><td>https://www.marketscreener.com/images/twitter_MS_fdblanc.png</td><td>2024-03-14T12:34:01Z</td><td>Cardio Diagnostics Holdings, Inc. (NASDAQ: CDIO), an AI-powered precision cardiovascular medicine company, announces that the Company will showcase its groundbreaking HeartRiskTM and Actionable Clini… [+6466 chars]</td></tr><tr><td>List(null, Plos.org)</td><td>E. Renee Matthews, Omar D. Johnson, Kandace J. Horn, José A. Gutiérrez, Simon R. Powell, Michelle C. Ward</td><td>Anthracyclines induce cardiotoxicity through a shared gene expression response signature</td><td>Author summary Anthracycline drugs such as Doxorubicin are effective treatments for breast cancer; however, they can cause cardiotoxicity in some women. It is unclear whether women would experience the same toxicity for all drugs in this class, or whether spe…</td><td>https://journals.plos.org/plosgenetics/article?id=10.1371/journal.pgen.1011164</td><td>https://journals.plos.org/plosgenetics/article/figure/image?id=10.1371/journal.pgen.1011164.g007&size=inline</td><td>2024-02-28T14:00:00Z</td><td>Introduction\r\n",
       "Globally, breast cancer is the most common cancer in women [1]. 13% of women in the United States will be diagnosed with breast cancer during their lifetime [2]. While the number of dea… [+89888 chars]</td></tr><tr><td>List(null, The Federalist)</td><td>Anonymous</td><td>What If We Addressed The Root Of Infertility Rather Than Pushing The Questionable IVF Quick Fix?</td><td>I've seen countless couples walk into my door broke and defeated after several failed rounds of IVF. What if there is a better way?</td><td>https://thefederalist.com/2024/03/25/what-if-we-can-heal-infertile-women-rather-than-turning-to-expensive-unethical-ivf-treatments-first/</td><td>https://thefederalist.com/wp-content/uploads/2024/03/Screen-Shot-2024-03-21-at-1.26.01-PM.png</td><td>2024-03-25T07:24:00Z</td><td>When we think of fertility treatments, society has accepted in vitro fertilization (IVF) as a necessary option as a means of compassion for those who cant conceive. But what if we were all wrong? Wha… [+7857 chars]</td></tr><tr><td>List(null, ETF Daily News)</td><td>MarketBeat News</td><td>Vigil Neuroscience (NASDAQ:VIGL) versus Omega Therapeutics (NASDAQ:OMGA) Head-To-Head Review</td><td>Vigil Neuroscience (NASDAQ:VIGL – Get Free Report) and Omega Therapeutics (NASDAQ:OMGA – Get Free Report) are both small-cap medical companies, but which is the better business? We will compare the two companies based on the strength of their profitability, a…</td><td>https://www.etfdailynews.com/2024/03/03/vigil-neuroscience-nasdaqvigl-versus-omega-therapeutics-nasdaqomga-head-to-head-review/</td><td>https://www.americanbankingnews.com/wp-content/timthumb/timthumb.php?src=https://www.marketbeat.com/logos/omega-therapeutics-inc-logo-1200x675.png?v=20210816051931&w=240&h=240&zc=2</td><td>2024-03-03T07:10:44Z</td><td>Vigil Neuroscience (NASDAQ:VIGL – Get Free Report) and Omega Therapeutics (NASDAQ:OMGA – Get Free Report) are both small-cap medical companies, but which is the better business? We will compare the t… [+5375 chars]</td></tr><tr><td>List(null, ETF Daily News)</td><td>MarketBeat News</td><td>Big Cypress Acquisition (OTCMKTS:BCYP) and Omega Therapeutics (NASDAQ:OMGA) Critical Contrast</td><td>Big Cypress Acquisition (OTCMKTS:BCYP – Get Free Report) and Omega Therapeutics (NASDAQ:OMGA – Get Free Report) are both small-cap medical companies, but which is the better stock? We will compare the two companies based on the strength of their dividends, in…</td><td>https://www.etfdailynews.com/2024/02/28/big-cypress-acquisition-otcmktsbcyp-and-omega-therapeutics-nasdaqomga-critical-contrast/</td><td>https://www.americanbankingnews.com/wp-content/timthumb/timthumb.php?src=https://www.marketbeat.com/logos/omega-therapeutics-inc-logo-1200x675.png?v=20210816051931&w=240&h=240&zc=2</td><td>2024-02-28T07:16:43Z</td><td>Big Cypress Acquisition (OTCMKTS:BCYP – Get Free Report) and Omega Therapeutics (NASDAQ:OMGA – Get Free Report) are both small-cap medical companies, but which is the better stock? We will compare th… [+4242 chars]</td></tr><tr><td>List(null, ETF Daily News)</td><td>MarketBeat News</td><td>Omega Therapeutics (NASDAQ:OMGA) versus Exelixis (NASDAQ:EXEL) Critical Survey</td><td>Omega Therapeutics (NASDAQ:OMGA – Get Free Report) and Exelixis (NASDAQ:EXEL – Get Free Report) are both medical companies, but which is the better investment? We will contrast the two businesses based on the strength of their valuation, risk, earnings, analy…</td><td>https://www.etfdailynews.com/2024/03/15/omega-therapeutics-nasdaqomga-versus-exelixis-nasdaqexel-critical-survey/</td><td>https://www.americanbankingnews.com/wp-content/timthumb/timthumb.php?src=https://www.marketbeat.com/logos/exelixis-inc-logo-1200x675.jpg&w=240&h=240&zc=2</td><td>2024-03-15T08:36:43Z</td><td>Omega Therapeutics (NASDAQ:OMGA – Get Free Report) and Exelixis (NASDAQ:EXEL – Get Free Report) are both medical companies, but which is the better investment? We will contrast the two businesses bas… [+6275 chars]</td></tr><tr><td>List(null, National Institutes of Health)</td><td>null</td><td>Notice of Special Interest (NOSI): Mechanisms of Osteoarthritis</td><td>NIH Funding Opportunities and Notices in the NIH Guide for Grants and Contracts: Notice of Special Interest (NOSI):  Mechanisms of Osteoarthritis NOT-AG-24-002. NIA</td><td>https://grants.nih.gov/grants/guide/notice-files/NOT-AG-24-002.html</td><td>null</td><td>2024-02-28T07:41:07Z</td><td>This Notice of Special Interest (NOSI) invites applications on research employing genetically defined and/or modified mouse models, other animal models such as dogs and monkeys, or archived human joi… [+10237 chars]</td></tr><tr><td>List(null, Plos.org)</td><td>Kelli D. Fenelon, Julia Krause, Theodora Koromila</td><td>Opticool: Cutting-edge transgenic optical tools</td><td>Only a few short decades have passed since the sequencing of GFP, yet the modern repertoire of transgenically encoded optical tools implies an exponential proliferation of ever improving constructions to interrogate the subcellular environment. A myriad of ta…</td><td>https://journals.plos.org/plosgenetics/article?id=10.1371/journal.pgen.1011208</td><td>https://journals.plos.org/plosgenetics/article/figure/image?id=10.1371/journal.pgen.1011208.g005&size=inline</td><td>2024-03-22T14:00:00Z</td><td>Abstract\r\n",
       "Only a few short decades have passed since the sequencing of GFP, yet the modern repertoire of transgenically encoded optical tools implies an exponential proliferation of ever improving co… [+47335 chars]</td></tr><tr><td>List(null, Marketscreener.com)</td><td>null</td><td>CENTOGENE Collaborates on Research Published in Science Showing Immunopathological Landscape of Human Pre-TCRα Deficiency</td><td>(marketscreener.com) Complete Pre-TCRα Deficiency Found to be Very Rare, Partial Form More Common Than ExpectedCAMBRIDGE, Mass. and ROSTOCK, Germany and BERLIN, Feb. 29, 2024 -- CENTOGENE N.V. , the essential life science partner for data-driven answers in ra…</td><td>https://www.marketscreener.com/quote/stock/CENTOGENE-N-V-74010961/news/CENTOGENE-Collaborates-on-Research-Published-in-Science-Showing-Immunopathological-Landscape-of-Huma-46067156/</td><td>https://www.marketscreener.com/images/twitter_MS_fdblanc.png</td><td>2024-02-29T22:01:02Z</td><td>Complete Pre-TCR Deficiency Found to be Very Rare, Partial Form More Common Than Expected\r\n",
       "CAMBRIDGE, Mass. and ROSTOCK, Germany and BERLIN, Feb. 29, 2024 (GLOBE NEWSWIRE) -- CENTOGENE N.V. (Nasdaq: … [+7959 chars]</td></tr><tr><td>List(null, GlobeNewswire)</td><td>Centogene NV</td><td>CENTOGENE Collaborates on Research Published in Science Showing Immunopathological Landscape of Human Pre-TCRα Deficiency</td><td>Complete Pre-TCRα Deficiency Found to be Very Rare, Partial Form More Common Than Expected Complete Pre-TCRα Deficiency Found to be Very Rare, Partial Form More Common Than Expected</td><td>https://www.globenewswire.com/news-release/2024/02/29/2838463/0/en/CENTOGENE-Collaborates-on-Research-Published-in-Science-Showing-Immunopathological-Landscape-of-Human-Pre-TCR%CE%B1-Deficiency.html</td><td>https://ml.globenewswire.com/Resource/Download/9db085f4-b57e-4d19-84cf-62bc960c1d57</td><td>2024-02-29T22:00:00Z</td><td>CAMBRIDGE, Mass. and ROSTOCK, Germany and BERLIN, Feb. 29, 2024 (GLOBE NEWSWIRE) -- CENTOGENE N.V. (Nasdaq: CNTG) (the Company), the essential life science partner for data-driven answers in rare and… [+7856 chars]</td></tr><tr><td>List(null, Marketscreener.com)</td><td>null</td><td>CENTOGENE Extends Strategic Partnership With Takeda to Continue Providing Access to Genetic Testing for Patients With Lysosomal Storage Disorders</td><td>(marketscreener.com) Longstanding global partnership provides an efficient and timely diagnosis to patients with Lysosomal Storage Disorders CAMBRIDGE, Mass. and ROSTOCK, Germany and BERLIN, March 19, 2024 -- Centogene N.V. , the essential life science partne…</td><td>https://www.marketscreener.com/quote/stock/CENTOGENE-N-V-74010961/news/CENTOGENE-Extends-Strategic-Partnership-With-Takeda-to-Continue-Providing-Access-to-Genetic-Testing-46229921/</td><td>https://www.marketscreener.com/images/twitter_MS_fdnoir.png</td><td>2024-03-19T10:31:02Z</td><td><ul><li>Longstanding global partnership provides an efficient and timely diagnosis to patients with Lysosomal Storage Disorders (LSDs)</li></ul> CAMBRIDGE, Mass. and ROSTOCK, Germany and BERLIN, Marc… [+6267 chars]</td></tr><tr><td>List(null, GlobeNewswire)</td><td>Coherent Market Insights Pvt. Ltd</td><td>The Global Multiomics Market Reach Valued At $7.65 Billion by 2031 As Revealed In New Report</td><td>Burlingame, March 19, 2024 (GLOBE NEWSWIRE) -- Coherent Market Insights published a report, titled, Global Multiomics Market, By Product & Service (Products, Services), By Type (Single-cell Multiomics, Bulk Multiomics), By Platform (Genomics, Transcriptomics,…</td><td>https://www.globenewswire.com/news-release/2024/03/19/2848323/0/en/The-Global-Multiomics-Market-Reach-Valued-At-7-65-Billion-by-2031-As-Revealed-In-New-Report.html</td><td>https://ml.globenewswire.com/Resource/Download/450ec960-647a-4b12-8885-a4afd6739e88</td><td>2024-03-19T08:20:00Z</td><td>Burlingame, March 19, 2024 (GLOBE NEWSWIRE) -- Coherent Market Insights published a report, titled, Global Multiomics Market, By Product &amp; Service (Products, Services), By Type (Single-cell Multi… [+11717 chars]</td></tr><tr><td>List(null, GlobeNewswire)</td><td>Centogene NV</td><td>CENTOGENE Extends Strategic Partnership With Takeda to Continue Providing Access to Genetic Testing for Patients With Lysosomal Storage Disorders</td><td>CAMBRIDGE, Mass. and ROSTOCK, Germany and BERLIN, March 19, 2024 (GLOBE NEWSWIRE) -- Centogene N.V. (Nasdaq: CNTG), the essential life science partner for data-driven answers in rare and neurodegenerative diseases, today announced the extension of an ongoing …</td><td>https://www.globenewswire.com/news-release/2024/03/19/2848395/0/en/CENTOGENE-Extends-Strategic-Partnership-With-Takeda-to-Continue-Providing-Access-to-Genetic-Testing-for-Patients-With-Lysosomal-Storage-Disorders.html</td><td>https://ml.globenewswire.com/Resource/Download/9db085f4-b57e-4d19-84cf-62bc960c1d57</td><td>2024-03-19T10:30:00Z</td><td><ul><li>Longstanding global partnership provides an efficient and timely diagnosis to patients with Lysosomal Storage Disorders (LSDs)</li></ul>CAMBRIDGE, Mass. and ROSTOCK, Germany and BERLIN, March… [+6256 chars]</td></tr><tr><td>List(null, Marketscreener.com)</td><td>null</td><td>CENTOGENE Explores Strategic Alternatives</td><td>(marketscreener.com) CAMBRIDGE, Mass. and ROSTOCK, Germany and BERLIN, Feb. 28, 2024 -- Centogene N.V. , the essential life science partner for data-driven answers in rare and neurodegenerative diseases, today announced that the Company has decided to explore…</td><td>https://www.marketscreener.com/quote/stock/CENTOGENE-N-V-74010961/news/CENTOGENE-Explores-Strategic-Alternatives-46048311/</td><td>https://www.marketscreener.com/images/twitter_MS_fdnoir.png</td><td>2024-02-28T11:31:02Z</td><td>CAMBRIDGE, Mass. and ROSTOCK, Germany and BERLIN, Feb. 28, 2024 (GLOBE NEWSWIRE) -- Centogene N.V. (Nasdaq: CNTG) (the Company), the essential life science partner for data-driven answers in rare and… [+6806 chars]</td></tr><tr><td>List(null, GlobeNewswire)</td><td>Centogene NV</td><td>CENTOGENE Explores Strategic Alternatives</td><td>CAMBRIDGE, Mass. and ROSTOCK, Germany and BERLIN, Feb. 28, 2024 (GLOBE NEWSWIRE) -- Centogene N.V. (Nasdaq: CNTG) (the “Company”), the essential life science partner for data-driven answers in rare and neurodegenerative diseases, today announced that the Comp…</td><td>https://www.globenewswire.com/news-release/2024/02/28/2836749/0/en/CENTOGENE-Explores-Strategic-Alternatives.html</td><td>https://ml.globenewswire.com/Resource/Download/9db085f4-b57e-4d19-84cf-62bc960c1d57</td><td>2024-02-28T11:30:00Z</td><td>CAMBRIDGE, Mass. and ROSTOCK, Germany and BERLIN, Feb. 28, 2024 (GLOBE NEWSWIRE) -- Centogene N.V. (Nasdaq: CNTG) (the Company), the essential life science partner for data-driven answers in rare and… [+6795 chars]</td></tr><tr><td>List(null, Mercola.com)</td><td>communities@mercola.com (Dr. Joseph Mercola)</td><td>Unlocking Personalized Health: Navigating the Unique Terrain of Nutritional Individuality</td><td>In this interview, Chris Masterjohn, who has a Ph.D. in nutritional sciences from the University of Connecticut,1 and I discuss nutritional individuality, and how to assess your own personal nutritional needs.\n",
       "\n",
       "While there are many opinions about which diet m…</td><td>https://articles.mercola.com/sites/articles/archive/2024/03/03/nutritional-individuality.aspx</td><td>https://media.mercola.com/ImageServer/Public/2024/March/FB/nutritional-individuality-fb.jpg</td><td>2024-03-03T00:00:00Z</td><td>Mercola proudly supports these charities and organizations. View All \r\n",
       "Disclaimer: The entire contents of this website are based upon the opinions of Dr. Mercola, unless otherwise noted. Individual a… [+1007 chars]</td></tr><tr><td>List(null, Marketscreener.com)</td><td>null</td><td>Sangamo Therapeutics Reports Recent Business Highlights and Fourth Quarter and Full Year 2023 Financial Results</td><td>(marketscreener.com) \n",
       "\n",
       "Data from novel proprietary neurotropic adeno-associated virus delivery capsid, STAC-BBB, demonstrated industry-leading blood-brain barrier penetration in non-human primates following intravenous administration, with capsid-enabled deli…</td><td>https://www.marketscreener.com/quote/stock/SANGAMO-THERAPEUTICS-INC-10811/news/Sangamo-Therapeutics-Reports-Recent-Business-Highlights-and-Fourth-Quarter-and-Full-Year-2023-Financ-46159949/</td><td>https://www.marketscreener.com/images/twitter_MS_fdnoir.png</td><td>2024-03-13T12:08:01Z</td><td>Data from novel proprietary neurotropic adeno-associated virus (AAV) delivery capsid, STAC-BBB, demonstrated industry-leading blood-brain barrier (BBB) penetration in non-human primates (NHPs) follow… [+35033 chars]</td></tr><tr><td>List(null, Marketscreener.com)</td><td>null</td><td>DURECT Corporation Reports Fourth Quarter and Full Year 2023 Financial Results and Provides Business Update</td><td>(marketscreener.com) \n",
       "\n",
       "- Ongoing Communication with FDA to Align on Next Steps for Larsucosterol in Alcohol-Associated Hepatitis\n",
       "- Webcast of Earnings Call Today, March 27th at 4:30 p.m. ET\n",
       "CUPERTINO, Calif., March 27, 2024 /PRNewswire/ -- DURECT Corporation …</td><td>https://www.marketscreener.com/quote/stock/DURECT-CORPORATION-9083/news/DURECT-Corporation-Reports-Fourth-Quarter-and-Full-Year-2023-Financial-Results-and-Provides-Business-46303369/</td><td>https://www.marketscreener.com/images/twitter_MS_fdblanc.png</td><td>2024-03-27T20:02:08Z</td><td>- Ongoing Communication with FDA to Align on Next Steps for Larsucosterol in Alcohol-Associated Hepatitis\r\n",
       "- Webcast of Earnings Call Today, March 27th at 4:30 p.m. ET\r\n",
       "CUPERTINO, Calif., March 27, 2… [+21395 chars]</td></tr><tr><td>List(null, GlobeNewswire)</td><td>Research and Markets</td><td>Global Companion Diagnostic Market Research Report 2024: The Future of Diagnostics and Funding with Customized Forecasting/Analysis, and Executive and Consultant Guides</td><td>Dublin, Feb. 29, 2024 (GLOBE NEWSWIRE) -- The \"Companion Diagnostic Markets - The Future of Diagnostics by Application, Technology and Funding with Customized Forecasting/Analysis, and Executive and Consultant Guides\" report has been added to ResearchAndMarke…</td><td>https://www.globenewswire.com/news-release/2024/02/29/2837852/28124/en/Global-Companion-Diagnostic-Market-Research-Report-2024-The-Future-of-Diagnostics-and-Funding-with-Customized-Forecasting-Analysis-and-Executive-and-Consultant-Guides.html</td><td>https://ml.globenewswire.com/Resource/Download/908fb457-7f8e-4a08-9081-5565e3dfb3d7</td><td>2024-02-29T12:16:00Z</td><td>Dublin, Feb. 29, 2024 (GLOBE NEWSWIRE) -- The \"Companion Diagnostic Markets - The Future of Diagnostics by Application, Technology and Funding with Customized Forecasting/Analysis, and Executive and … [+9793 chars]</td></tr><tr><td>List(null, Phys.Org)</td><td>Science X</td><td>Early life adversity leaves long-term signatures in baboon DNA</td><td>Early experiences in an animal's life can have a significant impact on its capacity to thrive, even years or decades later, and DNA methylation may help record their effects.</td><td>https://phys.org/news/2024-03-early-life-adversity-term-signatures.html</td><td>https://scx2.b-cdn.net/gfx/news/2024/early-life-adversity-l.jpg</td><td>2024-03-06T16:44:04Z</td><td>Early experiences in an animal's life can have a significant impact on its capacity to thrive, even years or decades later, and DNA methylation may help record their effects.\r\n",
       "In a study of 256 wild … [+4422 chars]</td></tr><tr><td>List(null, Plos.org)</td><td>Faezeh Mortezaei, Bahram Falahatkar, Mir Masoud Sajjadi, Roghieh Safari</td><td>Early nutritional programming in sterlet sturgeon (Acipenser ruthenus) with dietary soybean meal: Assessment of growth performance, body composition, and expression of GH, IGF-I, and Ghrelin genes</td><td>This study was performed to assess the impacts of introducing diets containing different levels of soybean meal (SBM) to sterlet sturgeon (Acipenser ruthenus) larvae on growth performance, body composition, and molecular responses in the juvenile stage. The s…</td><td>https://journals.plos.org/plosone/article?id=10.1371/journal.pone.0299203</td><td>https://journals.plos.org/plosone/article/figure/image?id=10.1371/journal.pone.0299203.g001&size=inline</td><td>2024-03-14T14:00:00Z</td><td>Abstract\r\n",
       "This study was performed to assess the impacts of introducing diets containing different levels of soybean meal (SBM) to sterlet sturgeon (Acipenser ruthenus) larvae on growth performance, … [+51878 chars]</td></tr><tr><td>List(null, Plos.org)</td><td>Ningning Xie, Fangfang Wang, Danqing Chen, Jue Zhou, Jian Xu, Fan Qu</td><td>Immune dysfunction mediated by the competitive endogenous RNA network in fetal side placental tissue of polycystic ovary syndrome</td><td>Polycystic ovary syndrome (PCOS), a common endocrine and metabolic disorder affecting women in their reproductive years. Emerging evidence suggests that the maternal-fetal immune system is crucial for proper pregnancy. However, whether immune function is alte…</td><td>https://journals.plos.org/plosone/article?id=10.1371/journal.pone.0300461</td><td>https://journals.plos.org/plosone/article/figure/image?id=10.1371/journal.pone.0300461.g007&size=inline</td><td>2024-03-21T14:00:00Z</td><td>Abstract\r\n",
       "Polycystic ovary syndrome (PCOS), a common endocrine and metabolic disorder affecting women in their reproductive years. Emerging evidence suggests that the maternal-fetal immune system is … [+73208 chars]</td></tr><tr><td>List(null, Plos.org)</td><td>Cecilia Wieder, Juliette Cooke, Clement Frainay, Nathalie Poupin, Russell Bowler, Fabien Jourdan, Katerina J. Kechris, Rachel PJ Lai, Timothy Ebbels</td><td>PathIntegrate: Multivariate modelling approaches for pathway-based multi-omics data integration</td><td>Author summary Omics data, which provides a readout of the levels of molecules such as genes, proteins, and metabolites in a sample, is frequently generated to study biological processes and perturbations within an organism. Combining multiple omics data type…</td><td>https://journals.plos.org/ploscompbiol/article?id=10.1371/journal.pcbi.1011814</td><td>https://journals.plos.org/ploscompbiol/article/figure/image?id=10.1371/journal.pcbi.1011814.g007&size=inline</td><td>2024-03-25T14:00:00Z</td><td>Abstract\r\n",
       "As terabytes of multi-omics data are being generated, there is an ever-increasing need for methods facilitating the integration and interpretation of such data. Current multi-omics integrat… [+102316 chars]</td></tr><tr><td>List(null, GlobeNewswire)</td><td>Centogene NV</td><td>CENTOGENE Announces Receipt of Nasdaq Notice of Delisting and Intention to Request a Hearing</td><td>Notice of Delisting Will Not Immediately Result in the Suspension or Delisting of the Company’s Securities Notice of Delisting Will Not Immediately Result in the Suspension or Delisting of the Company’s Securities</td><td>https://www.globenewswire.com/news-release/2024/02/28/2836759/0/en/CENTOGENE-Announces-Receipt-of-Nasdaq-Notice-of-Delisting-and-Intention-to-Request-a-Hearing.html</td><td>https://ml.globenewswire.com/Resource/Download/9db085f4-b57e-4d19-84cf-62bc960c1d57</td><td>2024-02-28T11:30:00Z</td><td>CAMBRIDGE, Mass. and ROSTOCK, Germany and BERLIN, Feb. 28, 2024 (GLOBE NEWSWIRE) -- Centogene N.V. (Nasdaq: CNTG) (the Company), the essential life science partner for data-driven answers in rare and… [+5655 chars]</td></tr><tr><td>List(null, Marketscreener.com)</td><td>null</td><td>CENTOGENE Announces Receipt of Nasdaq Notice of Delisting and Intention to Request a Hearing</td><td>(marketscreener.com) Notice of Delisting Will Not Immediately Result in the Suspension or Delisting of the Company’s SecuritiesCAMBRIDGE, Mass. and ROSTOCK, Germany and BERLIN, Feb. 28, 2024 -- Centogene N.V. , the essential life science partner for data-driv…</td><td>https://www.marketscreener.com/quote/stock/CENTOGENE-N-V-74010961/news/CENTOGENE-Announces-Receipt-of-Nasdaq-Notice-of-Delisting-and-Intention-to-Request-a-Hearing-46048312/</td><td>https://www.marketscreener.com/images/twitter_MS_fdblanc.png</td><td>2024-02-28T11:31:02Z</td><td>Notice of Delisting Will Not Immediately Result in the Suspension or Delisting of the Companys Securities\r\n",
       "CAMBRIDGE, Mass. and ROSTOCK, Germany and BERLIN, Feb. 28, 2024 (GLOBE NEWSWIRE) -- Centogen… [+5770 chars]</td></tr><tr><td>List(null, Iasbaba.com)</td><td>IASbaba</td><td>[DAY 17] 60 DAY RAPID REVISION (RaRe) SERIES for UPSC Prelims 2024 – SCIENCE AND TECHNOLOGY, CURRENT AFFAIRS & CSAT TEST SERIES!</td><td>Archives Hello Friends The 60 Days Rapid Revision (RaRe) Series is IASbaba’s Flagship Initiative recommended by Toppers and loved by the aspirants’ community every year. It is the most comprehensive program which will help you complete the syllabus, revise an…</td><td>https://iasbaba.com/2024/03/day-17-60-day-rapid-revision-rare-series-for-upsc-prelims-2024-science-and-technology-current-affairs-csat-test-series/</td><td>null</td><td>2024-03-22T05:49:25Z</td><td>Hello Friends\r\n",
       "The 60 Days Rapid Revision (RaRe) Series is IASbabas Flagship Initiative recommended by Toppers and loved by the aspirants community every year.\r\n",
       "It is the most comprehensive program w… [+34891 chars]</td></tr><tr><td>List(null, GlobeNewswire)</td><td>AstuteAnalytica India Pvt. Ltd.</td><td>Global Small Animal Imaging (In-Vivo) Market to Surpass Valuation of USD 1,902 Million by 2032: Astute Analytica</td><td>Global small animal imaging (in-vivo) market is booming, driven by rising demand for preclinical research in drug development and disease modeling. North America leads, fueled by a thriving research ecosystem, strong biotech industry, and robust healthcare sp…</td><td>https://www.globenewswire.com/news-release/2024/03/11/2843577/0/en/Global-Small-Animal-Imaging-In-Vivo-Market-to-Surpass-Valuation-of-USD-1-902-Million-by-2032-Astute-Analytica.html</td><td>https://ml.globenewswire.com/Resource/Download/a77988df-ad1a-4619-9a4e-367c858dc70e</td><td>2024-03-11T10:30:00Z</td><td>New Delhi, March 11, 2024 (GLOBE NEWSWIRE) -- According to the latest study by Astute Analytica, the global small animal imaging (in-vivo) market is estimated to grow from US$ 1.053 million in 2023 t… [+14083 chars]</td></tr><tr><td>List(null, GlobeNewswire)</td><td>MarketsandMarkets Research Pvt. Ltd.</td><td>Microbiome Diagnostics Market is Expected to Reach $300 million | MarketsandMarkets™</td><td>Chicago, March 13, 2024 (GLOBE NEWSWIRE) -- Microbiome Diagnostics market in terms of revenue was estimated to be worth $146 million in 2023 and is poised to reach $300 million by 2028, growing at a CAGR of 15.5% from 2023 to 2028 according to a latest report…</td><td>https://www.globenewswire.com/news-release/2024/03/13/2845425/0/en/Microbiome-Diagnostics-Market-is-Expected-to-Reach-300-million-MarketsandMarkets.html</td><td>https://ml.globenewswire.com/Resource/Download/afcc5182-4ae0-43a8-a965-4351d590b7ed</td><td>2024-03-13T12:30:00Z</td><td>Chicago, March 13, 2024 (GLOBE NEWSWIRE) -- Microbiome Diagnostics market in terms of revenue was estimated to be worth $146 million in 2023 and is poised to reach $300 million by 2028, growing at a … [+8462 chars]</td></tr><tr><td>List(null, Plos.org)</td><td>Md. Mahmudul Hasan, Reiko Sekiya, Xu Zhang, Mhd Yousuf Yassouf, Tao-Sheng Li</td><td>Comparison of hypoxia- and hyperoxia-induced alteration of epigene expression pattern in lungs of Pleurodeles waltl and Mus musculus</td><td>Epigenetics is an emerging field of research because of its involvement in susceptibility to diseases and aging. Hypoxia and hyperoxia are known to be involved widely in various pathophysiologies. Here, we compared the differential epigene expression pattern …</td><td>https://journals.plos.org/plosone/article?id=10.1371/journal.pone.0299661</td><td>https://journals.plos.org/plosone/article/figure/image?id=10.1371/journal.pone.0299661.g005&size=inline</td><td>2024-02-28T14:00:00Z</td><td>Citation: Hasan MM, Sekiya R, Zhang X, Yassouf MY, Li T-S (2024) Comparison of hypoxia- and hyperoxia-induced alteration of epigene expression pattern in lungs of Pleurodeles waltl and Mus musculus. … [+24174 chars]</td></tr><tr><td>List(null, Nutritionfacts.org)</td><td>Michael Greger M.D. FACLM</td><td>Is Longevity Genetic?</td><td>Based on a study of thousands of twin pairs, only about 25 percent of the difference in lifespan among people is genetically determined.</td><td>https://nutritionfacts.org/video/is-longevity-genetic/</td><td>https://nutritionfacts.org/app/uploads/2023/09/64-23-is-longevity-genetic-1200x675.jpg</td><td>2024-03-04T12:50:24Z</td><td>Below is an approximation of this videos audio content. To see any graphs, charts, graphics, images, and quotes to which Dr. Greger may be referring, watch the above video.\r\n",
       "Intro:This is one of the … [+4852 chars]</td></tr><tr><td>List(null, Plos.org)</td><td>Nicolas Wenner, Xiaojun Zhu, Will P. M. Rowe, Kristian Händler, Jay C. D. Hinton</td><td>Succinate utilisation by Salmonella is inhibited by multiple regulatory systems</td><td>Author summary During infection, Salmonella enterica serovar Typhimurium must efficiently utilise the nutrients provided by the host and the microbiota. Within host niches colonised by Salmonella, key carbon source is succinate, which is abundant in both the …</td><td>https://journals.plos.org/plosgenetics/article?id=10.1371/journal.pgen.1011142</td><td>https://journals.plos.org/plosgenetics/article/figure/image?id=10.1371/journal.pgen.1011142.g008&size=inline</td><td>2024-03-08T14:00:00Z</td><td>Introduction\r\n",
       "Metabolic versatility is a key property that allows pathogenic enteric bacteria to thrive both during infection of mammals and in the wider environment [1]. C4-dicarboyxlates are an imp… [+83620 chars]</td></tr><tr><td>List(null, Plos.org)</td><td>Jose A. Valverde-Lopez, Lin Li-Bao, Rocío Sierra, Elisa Santos, Giovanna Giovinazzo, Covadonga Díaz-Díaz, Miguel Torres</td><td>P53 and BCL-2 family proteins PUMA and NOXA define competitive fitness in pluripotent cell competition</td><td>Author summary Cells compete with neighbors for survival in several situations in vitro and in vivo. In mammalian embryos, this phenomenon takes place among pluripotent cells, which are those able to form all the tissues of a new organism. Cell Competition in…</td><td>https://journals.plos.org/plosgenetics/article?id=10.1371/journal.pgen.1011193</td><td>https://journals.plos.org/plosgenetics/article/figure/image?id=10.1371/journal.pgen.1011193.g007&size=inline</td><td>2024-03-15T14:00:00Z</td><td>Citation: Valverde-Lopez JA, Li-Bao L, Sierra R, Santos E, Giovinazzo G, Díaz-Díaz C, et al. (2024) P53 and BCL-2 family proteins PUMA and NOXA define competitive fitness in pluripotent cell competit… [+63427 chars]</td></tr><tr><td>List(null, The BMJ)</td><td>Barbosa, O., Sim-Sim, M., Silvestre, M. P., Pedro, C., Cruz, D.</td><td>Effects of vitamin D levels during pregnancy on prematurity: a systematic review protocol</td><td>Introduction\r\n",
       "\n",
       "Prematurity is an urgent public health problem worldwide. Recent studies associate maternal hypovitaminosis D during pregnancy with an increased risk of prematurity. However, the evidence on this association remains inconclusive, and there is l…</td><td>https://bmjopen.bmj.com/content/14/2/e076702</td><td>https://bmjopen.bmj.com/pages/wp-content/uploads/sites/7/2019/07/bmjopen-default-cover.png</td><td>2024-02-29T01:32:39Z</td><td>Introduction\r\n",
       "Prematurity (birth before 37 completed weeks of gestation) is an urgent public health problem worldwide, occurring for 15million births annually. It has a prevalence of approximately 10… [+5738 chars]</td></tr><tr><td>List(null, National Institutes of Health)</td><td>null</td><td>Notice of Information: NICHD to issue a Research Opportunity Announcement to support Advancing Cures and Therapies and ending ENDOmetriosis diagnostic delays - ACT ENDO (OTA Clinical Trial Optional)</td><td>NIH Funding Opportunities and Notices in the NIH Guide for Grants and Contracts: Notice of Information: NICHD to issue a Research Opportunity Announcement to support Advancing Cures and Therapies and ending ENDOmetriosis diagnostic delays - ACT ENDO (OTA Clin…</td><td>https://grants.nih.gov/grants/guide/notice-files/NOT-HD-24-016.html</td><td>null</td><td>2024-03-18T13:09:18Z</td><td>Eunice Kennedy Shriver National Institute of Child Health and Human Development (NICHD)\r\n",
       "The purpose of this Notice is to alert the community that NIH plans to publish a Research Opportunity Announce… [+8062 chars]</td></tr><tr><td>List(null, Plos.org)</td><td>Hiroko Yaguchi, Anat Melamed, Saumya Ramanayake, Helen Kiik, Aviva Witkover, Charles R. M. Bangham</td><td>The impact of HTLV-1 expression on the 3D structure and expression of host chromatin</td><td>Author summary The human T cell leukemia virus HTLV-1 causes an aggressive leukemia or lymphoma in ~5% of people infected with the virus, and a further 1–4% develop a chronic inflammatory disease that leads to progressive paralysis of the legs. HTLV-1 is a re…</td><td>https://journals.plos.org/plospathogens/article?id=10.1371/journal.ppat.1011716</td><td>https://journals.plos.org/plospathogens/article/figure/image?id=10.1371/journal.ppat.1011716.g005&size=inline</td><td>2024-03-01T14:00:00Z</td><td>Abstract\r\n",
       "A typical HTLV-1-infected individual carries &gt;104 different HTLV-1-infected T cell clones, each with a single-copy provirus integrated in a unique genomic site. We previously showed that… [+48475 chars]</td></tr><tr><td>List(null, The BMJ)</td><td>Scherff, A. D., Feldmann, L., Piechaczek, C., Pehl, V., Wagenbüchler, P., Wermuth, I., Ghotbi, N., Allgaier, A.-K., Freisleder, F. J., Beins, E. C., Forstner, A. J., Nöthen, M. M., Czamara, D., Rex-Haffner, M., Ising, M., Binder, E., Greimel, E., Schulte-Körne, G.</td><td>Cohort profile: BioMD-Y (biopsychosocial factors of major depression in youth) - a biobank study on the molecular genetics and environmental factors of depression in children and adolescents in Munich</td><td>Purpose BioMD-Y is a comprehensive biobank study of children and adolescents with major depression (MD) and their healthy peers in Germany, collecting a host of both biological and psychosocial information from the participants and their parents with the aim …</td><td>https://bmjopen.bmj.com/content/14/3/e074925</td><td>https://bmjopen.bmj.com/pages/wp-content/uploads/sites/7/2019/07/bmjopen-default-cover.png</td><td>2024-03-14T05:01:40Z</td><td>STRENGTHS AND LIMITATIONS OF THIS STUDY\r\n",
       "<ul><li>BioMD-Y is a large biobank study of currently approx. 800 children and adolescents from Munich, Germany with (major depression) and without (typically… [+23802 chars]</td></tr><tr><td>List(null, GlobeNewswire)</td><td>Research and Markets</td><td>Pharmaceutical and Biotechnology Sector Insights: Comprehensive Analysis of Option and Evaluation Deals (2016-2024)</td><td>Dublin, March 05, 2024 (GLOBE NEWSWIRE) -- The \"Option and Evaluation Deals in Pharmaceuticals and Biotechnology 2016-2024\" report has been added to ResearchAndMarkets.com's offering.</td><td>https://www.globenewswire.com/news-release/2024/03/05/2840780/28124/en/Pharmaceutical-and-Biotechnology-Sector-Insights-Comprehensive-Analysis-of-Option-and-Evaluation-Deals-2016-2024.html</td><td>https://ml.globenewswire.com/Resource/Download/908fb457-7f8e-4a08-9081-5565e3dfb3d7</td><td>2024-03-05T17:08:00Z</td><td>Dublin, March 05, 2024 (GLOBE NEWSWIRE) -- The \"Option and Evaluation Deals in Pharmaceuticals and Biotechnology 2016-2024\" report has been added to ResearchAndMarkets.com's offering.\r\n",
       "Industry profe… [+44660 chars]</td></tr><tr><td>List(null, Plos.org)</td><td>Xinyu Zhang, Ying Hu, Ral E. Vandenhoudt, Chunhua Yan, Vincent C. Marconi, Mardge H. Cohen, Zuoheng Wang, Amy C. Justice, Bradley E. Aouizerat, Ke Xu</td><td>Computationally inferred cell-type specific epigenome-wide DNA methylation analysis unveils distinct methylation patterns among immune cells for HIV infection in three cohorts</td><td>Author summary The host epigenome (i.e., the DNA methylome) plays a pivotal role in HIV-1 viral integration, maintenance, and activation or silencing. Epigenome-wide association studies have identified many DNA methylation CpG sites in bulk cells associated w…</td><td>https://journals.plos.org/plospathogens/article?id=10.1371/journal.ppat.1012063</td><td>https://journals.plos.org/plospathogens/article/figure/image?id=10.1371/journal.ppat.1012063.g006&size=inline</td><td>2024-03-11T14:00:00Z</td><td>Abstract\r\n",
       "Background\r\n",
       "Epigenome-wide association studies (EWAS) have identified CpG sites associated with HIV infection in blood cells in bulk, which offer limited knowledge of cell-type specific met… [+71370 chars]</td></tr><tr><td>List(null, GlobeNewswire)</td><td>INVENTIVA</td><td>Inventiva to present the results of LEGEND Phase IIa combination trial with lanifibranor and empagliflozin in patients with MASH/NASH and T2D</td><td>Daix (France), Long Island City (New York, United States), March 13, 2024 – Inventiva (Euronext Paris and Nasdaq: IVA) (the “Company”), a clinical-stage biopharmaceutical company focused on the development of oral small molecule therapies for the treatment of…</td><td>https://www.globenewswire.com/news-release/2024/03/13/2845818/0/en/Inventiva-to-present-the-results-of-LEGEND-Phase-IIa-combination-trial-with-lanifibranor-and-empagliflozin-in-patients-with-MASH-NASH-and-T2D.html</td><td>https://ml-eu.globenewswire.com/Resource/Download/d96e203b-8941-46c7-888a-508900ab9a8b</td><td>2024-03-13T20:00:00Z</td><td>Daix (France), Long Island City (New York, United States), March 13, 2024 Inventiva (Euronext Paris and Nasdaq: IVA) (the Company), a clinical-stage biopharmaceutical company focused on the developme… [+12745 chars]</td></tr><tr><td>List(null, Marketscreener.com)</td><td>null</td><td>Inventiva to present the results of LEGEND Phase IIa combination trial with lanifibranor and empagliflozin in patients with MASH/NASH and T2D</td><td>(marketscreener.com) Daix , Long Island City , March 13, 2024 – Inventiva , a clinical-stage biopharmaceutical company focused on the development of oral small molecule therapies for the treatment of metabolic dysfunction-associated steatohepatitis , formerly…</td><td>https://www.marketscreener.com/quote/stock/INVENTIVA-34031212/news/Inventiva-to-present-the-results-of-LEGEND-Phase-IIa-combination-trial-with-lanifibranor-and-empagli-46164084/</td><td>https://www.marketscreener.com/images/twitter_MS_fdnoir.png</td><td>2024-03-13T20:01:01Z</td><td>Daix (France), Long Island City (New York, United States), March 13, 2024 Inventiva (Euronext Paris and Nasdaq: IVA) (the Company), a clinical-stage biopharmaceutical company focused on the developme… [+13317 chars]</td></tr><tr><td>List(null, National Institutes of Health)</td><td>null</td><td>Notice of Special Interest: Womens Health Research</td><td>NIH Funding Opportunities and Notices in the NIH Guide for Grants and Contracts: Notice of Special Interest: Womens Health Research NOT-OD-24-079. ORWH</td><td>https://grants.nih.gov/grants/guide/notice-files/NOT-OD-24-079.html</td><td>null</td><td>2024-03-26T12:41:14Z</td><td>Notice of Special Interest: Women’s Health Research\r\n",
       "March 26, 2024\r\n",
       "First Available Due Date: \r\n",
       "<ul><li>December 8, 2023 – Notice of Special Interest: Health Influences of Gender as a Social and Str… [+69219 chars]</td></tr><tr><td>List(null, Marketscreener.com)</td><td>null</td><td>Inventiva announces positive results from the Phase II, LEGEND, Proof-of-Concept study combining lanifibranor with empagliflozin in patients with MASH/NASH and T2D</td><td>(marketscreener.com) LEGEND achieved its primary efficacy endpoint by significantly lowering HbA1c level in both the lanifibranor arm and in the lanifibranor with empagliflozin arm compared to placebo.Statistical significance was also achieved on several mark…</td><td>https://www.marketscreener.com/quote/stock/INVENTIVA-34031212/news/Inventiva-announces-positive-results-from-the-Phase-II-LEGEND-Proof-of-Concept-study-combining-lan-46224793/</td><td>https://www.marketscreener.com/images/twitter_MS_fdblanc.png</td><td>2024-03-18T20:01:01Z</td><td><ul><li>LEGEND achieved its primary efficacy endpoint by significantly lowering HbA1c level in both the lanifibranor arm and in the lanifibranor with empagliflozin arm compared to placebo.</li><li>St… [+24201 chars]</td></tr><tr><td>List(null, National Institutes of Health)</td><td>null</td><td>Exploring Proteogenomic Approaches to Unravel the Mechanisms of Mis-Folded Protein Accumulation in Tauopathies (R01 Clinical Trial Not Allowed)</td><td>Funding Opportunity RFA-AG-25-017 from the NIH Guide for Grants and Contracts. This funding opportunity invites innovative research proposals to explore the accumulation of misprocessed proteins in Tauopathies within specific brain regions and cell types. We …</td><td>https://grants.nih.gov/grants/guide/rfa-files/RFA-AG-25-017.html</td><td>null</td><td>2024-03-13T14:51:17Z</td><td>Participating Organization(s) \r\n",
       "National Institutes of Health (NIH)\r\n",
       "Components of Participating Organizations \r\n",
       "National Institute on\r\n",
       " Aging (NIA) \r\n",
       "Funding Opportunity Title \r\n",
       "Exploring Proteogeno… [+42600 chars]</td></tr><tr><td>List(null, Plos.org)</td><td>Jing Zhou, Tianjiao Wang, Haoran Zhang, Jianhong Liu, Pengjun Wei, Ruoqi Xu, Qin Yan, Guochun Chen, Wan Li, Shou-Jiang Gao, Chun Lu</td><td>KSHV vIL-6 promotes SIRT3-induced deacetylation of SERBP1 to inhibit ferroptosis and enhance cellular transformation by inducing lipoyltransferase 2 mRNA degradation</td><td>Author summary Ferroptosis has been implicated in viral infections and the development of cancers, however, its role in oncogenic Kaposi’s sarcoma-associated herpesvirus (KSHV)-induced cancers is still unknown. Although abnormal protein lysine acetylation mod…</td><td>https://journals.plos.org/plospathogens/article?id=10.1371/journal.ppat.1012082</td><td>https://journals.plos.org/plospathogens/article/figure/image?id=10.1371/journal.ppat.1012082.g007&size=inline</td><td>2024-03-12T14:00:00Z</td><td>Abstract\r\n",
       "Ferroptosis, a defensive strategy commonly employed by the host cells to restrict pathogenic infections, has been implicated in the development and therapeutic responses of various types of… [+77980 chars]</td></tr><tr><td>List(null, Plos.org)</td><td>Michael A. Sun, Haipei Yao, Qing Yang, Christopher J. Pirozzi, Vidyalakshmi Chandramohan, David M. Ashley, Yiping He</td><td>Gene expression analysis suggests immunosuppressive roles of endolysosomes in glioblastoma</td><td>Targeting endolysosomes is a strategy extensively pursued for treating cancers, including glioblastomas (GBMs), on the basis that the intact function of these subcellular organelles is key to tumor cell autophagy and survival. Through gene expression analyses…</td><td>https://journals.plos.org/plosone/article?id=10.1371/journal.pone.0299820</td><td>https://journals.plos.org/plosone/article/figure/image?id=10.1371/journal.pone.0299820.g004&size=inline</td><td>2024-03-20T14:00:00Z</td><td>Citation: Sun MA, Yao H, Yang Q, Pirozzi CJ, Chandramohan V, Ashley DM, et al. (2024) Gene expression analysis suggests immunosuppressive roles of endolysosomes in glioblastoma. PLoS ONE 19(3):\r\n",
       " e02… [+36997 chars]</td></tr><tr><td>List(null, Plos.org)</td><td>Molly J. Sullan, Kelly A. Stearns-Yoder, Zhaoyu Wang, Andrew J. Hoisington, Adam D. Bramoweth, Walter Carr, Yongchao Ge, Hanga Galfalvy, Fatemah Haghighi, Lisa A. Brenner</td><td>Study protocol: Identifying transcriptional regulatory alterations of chronic effects of blast and disturbed sleep in United States Veterans</td><td>Injury related to blast exposure dramatically rose during post-911 era military conflicts in Iraq and Afghanistan. Mild traumatic brain injury (mTBI) is among the most common injuries following blast, an exposure that may not result in a definitive physiologi…</td><td>https://journals.plos.org/plosone/article?id=10.1371/journal.pone.0301026</td><td>https://journals.plos.org/plosone/article/figure/image?id=10.1371/journal.pone.0301026.t004&size=inline</td><td>2024-03-27T14:00:00Z</td><td>Citation: Sullan MJ, Stearns-Yoder KA, Wang Z, Hoisington AJ, Bramoweth AD, Carr W, et al. (2024) Study protocol: Identifying transcriptional regulatory alterations of chronic effects of blast and di… [+37249 chars]</td></tr><tr><td>List(null, Investing.com)</td><td>Investing.com</td><td>Earnings call: Personalis sees solid growth, targets $100M by 2025</td><td>Earnings call: Personalis sees solid growth, targets $100M by 2025</td><td>https://www.investing.com/news/stock-market-news/earnings-call-personalis-sees-solid-growth-targets-100m-by-2025-93CH-3322170</td><td>https://i-invdn-com.investing.com/news/LYNXMPEBBR0PM_L.jpg</td><td>2024-03-01T19:51:49Z</td><td>Personalis, Inc. (NASDAQ: NASDAQ:PSNL) has demonstrated a strong financial performance in the fourth quarter and throughout the full year of 2023, achieving $73.5 million in revenue, which marks a 13… [+43505 chars]</td></tr><tr><td>List(null, National Institutes of Health)</td><td>null</td><td>Elucidating Mechanisms Associated with HIV Related Co-Morbidities in Populations Experiencing Health Disparities (R01 - Clinical Trials Not Allowed)</td><td>Funding Opportunity RFA-MD-24-005 from the NIH Guide for Grants and Contracts. The purpose of this initiative is to support research to determine the underlying mechanisms that contribute to health disparities in HIV and aging and how multiple comorbidities i…</td><td>https://grants.nih.gov/grants/guide/rfa-files/RFA-MD-24-005.html</td><td>null</td><td>2024-03-01T17:52:48Z</td><td>Participating Organization(s) \r\n",
       "National Institutes of Health (NIH)\r\n",
       "Components of Participating Organizations \r\n",
       "National Institute on Minority Health and Health Disparities (NIMHD)\r\n",
       "National Institu… [+54278 chars]</td></tr><tr><td>List(null, Plos.org)</td><td>Chloe Pelletier, Sophie Shaw, Sakinah Alsayegh, Alistair J. P. Brown, Alexander Lorenz</td><td>Candida auris undergoes adhesin-dependent and -independent cellular aggregation</td><td>Author summary Candida auris is a single-celled fungus, a yeast, that can cause severe infections in hospital patients. This fungus is difficult to treat because it is resistant to many antifungal drugs. Therefore, to understand the processes that enhance the…</td><td>https://journals.plos.org/plospathogens/article?id=10.1371/journal.ppat.1012076</td><td>https://journals.plos.org/plospathogens/article/figure/image?id=10.1371/journal.ppat.1012076.g009&size=inline</td><td>2024-03-11T14:00:00Z</td><td>Abstract\r\n",
       "Candida auris is a fungal pathogen of humans responsible for nosocomial infections with high mortality rates. High levels of resistance to antifungal drugs and environmental persistence mea… [+82157 chars]</td></tr><tr><td>List(null, Plos.org)</td><td>Zhican Huang, Ting Cui, Jin Yao, Yutong Wu, Jun Zhu, Xin Yang, Li Cui, Haiyan Zhou</td><td>Potential association of genetically predicted lipid and lipid-modifying drugs with rheumatoid arthritis: A Mendelian randomization study</td><td>Background Past studies have demonstrated that patients diagnosed with rheumatoid arthritis (RA) often exhibit abnormal levels of lipids. Furthermore, certain lipid-modifying medications have shown effectiveness in alleviating clinical symptoms associated wit…</td><td>https://journals.plos.org/plosone/article?id=10.1371/journal.pone.0298629</td><td>https://journals.plos.org/plosone/article/figure/image?id=10.1371/journal.pone.0298629.g006&size=inline</td><td>2024-02-28T14:00:00Z</td><td>Abstract\r\n",
       "Background\r\n",
       "Past studies have demonstrated that patients diagnosed with rheumatoid arthritis (RA) often exhibit abnormal levels of lipids. Furthermore, certain lipid-modifying medications h… [+43498 chars]</td></tr><tr><td>List(null, National Institutes of Health)</td><td>null</td><td>Leveraging Data at Scale to Understand Natural Product Impacts on Whole Person Health (R01 Clinical Trial Not Allowed)</td><td>Funding Opportunity RFA-AT-24-008 from the NIH Guide for Grants and Contracts. This notice of funding opportunity (NOFO) will support development, adaptation, and/or applications of computational tools to aggregate and analyze orthogonal chemical and/or biolo…</td><td>https://grants.nih.gov/grants/guide/rfa-files/RFA-AT-24-008.html</td><td>null</td><td>2024-03-05T06:47:07Z</td><td>Participating Organization(s) \r\n",
       "National Institutes of Health (NIH)\r\n",
       "Components of Participating Organizations \r\n",
       "National Center for Complementary and Integrative Health (NCCIH)\r\n",
       "All applications to … [+55566 chars]</td></tr><tr><td>List(null, Theepochtimes.com)</td><td>Yuhong Dong</td><td>Genes Don’t Tell the Whole Story of Life</td><td>For over 70 years, scientists have believed they’ve unraveled the mystery of life through genes. But is this really true?</td><td>https://www.theepochtimes.com/health/genes-dont-tell-the-whole-story-of-life-5588292</td><td>https://img.theepochtimes.com/assets/uploads/2024/03/14/id5607575-Shutterstock_1440959093-1080x720.jpg</td><td>2024-03-19T10:19:50Z</td><td>Health Viewpoints\r\n",
       "1953 was a monumental year in biomedicine. It was a year when two Nobel Prize laureates, James Watson and British physicist Francis Crick, unveiled the double helix structure of DN… [+10193 chars]</td></tr><tr><td>List(null, Plos.org)</td><td>Mingzhu Chen, Shuisen Lin, Wanqiong Chen, Xiaoqiang Chen</td><td>Antidiabetic drug administration prevents bone mineral density loss: Evidence from a two-sample Mendelian randomization study</td><td>The aim of this study was to investigate the effect of common antidiabetic drugs on BMD by two-sample Mendelian randomization (MR). The single nucleotide polymorphisms that were strongly associated with insulin, metformin, rosiglitazone and gliclazide were ex…</td><td>https://journals.plos.org/plosone/article?id=10.1371/journal.pone.0300009</td><td>https://journals.plos.org/plosone/article/figure/image?id=10.1371/journal.pone.0300009.g003&size=inline</td><td>2024-03-07T14:00:00Z</td><td>Abstract\r\n",
       "The aim of this study was to investigate the effect of common antidiabetic drugs on BMD by two-sample Mendelian randomization (MR). The single nucleotide polymorphisms that were strongly as… [+36467 chars]</td></tr><tr><td>List(null, Plos.org)</td><td>Edward Gilbert, Anamarija Žagar, Marta López-Darias, Rodrigo Megía-Palma, Karen A. Lister, Max Dolton Jones, Miguel A. Carretero, Nina Serén, Pedro Beltran-Alvarez, Katharina C. Wollenberg Valero</td><td>Environmental factors influence cross-talk between a heat shock protein and an oxidative stress protein modification in the lizard Gallotia galloti</td><td>Better understanding how organisms respond to their abiotic environment, especially at the biochemical level, is critical in predicting population trajectories under climate change. In this study, we measured constitutive stress biomarkers and protein post-tr…</td><td>https://journals.plos.org/plosone/article?id=10.1371/journal.pone.0300111</td><td>https://journals.plos.org/plosone/article/figure/image?id=10.1371/journal.pone.0300111.g004&size=inline</td><td>2024-03-12T14:00:00Z</td><td>Abstract\r\n",
       "Better understanding how organisms respond to their abiotic environment, especially at the biochemical level, is critical in predicting population trajectories under climate change. In this… [+69628 chars]</td></tr><tr><td>List(null, Thefreedictionary.com)</td><td>null</td><td>Synesthesia: Hearing Colors and Tasting Sounds</td><td>Synesthesia is a condition in which one type of sensory stimulus evokes sensations associated with a different sense, as when hearing a sound stimulates the visualization of a color. Approximately 1 in 2,000 people have the condition, and most of those affect…</td><td>https://encyclopedia.thefreedictionary.com/synesthesia</td><td>http://img.tfd.com/TFDlogo1200x1200.png</td><td>2024-03-11T04:20:01Z</td><td>For other uses, see Synesthesia (disambiguation).\r\n",
       "Not to be confused with Synthesia.\r\n",
       "Synesthesia (also spelled synæsthesia or synaesthesia; from the Ancient Greekσύνsyn, \"together\", and αἴσθησιςais… [+51189 chars]</td></tr><tr><td>List(null, Plos.org)</td><td>Andrea Pinkeova, Adela Tomikova, Aniko Bertokova, Eva Fabinyova, Radka Bartova, Eduard Jane, Stefania Hroncekova, Karl-Dietrich Sievert, Roman Sokol, Michal Jirasko, Radek Kucera, Iris E. Eder, Wolfgang Horninger, Helmut Klocker, Petra Ďubjaková, Juraj Fillo, Tomas Bertok, Jan Tkac</td><td>Glycoprofiling of proteins as prostate cancer biomarkers: A multinational population study</td><td>The glycoprofiling of two proteins, the free form of the prostate-specific antigen (fPSA) and zinc-α-2-glycoprotein (ZA2G), was assessed to determine their suitability as prostate cancer (PCa) biomarkers. The glycoprofiling of proteins was performed by analys…</td><td>https://journals.plos.org/plosone/article?id=10.1371/journal.pone.0300430</td><td>https://journals.plos.org/plosone/article/figure/image?id=10.1371/journal.pone.0300430.g007&size=inline</td><td>2024-03-18T14:00:00Z</td><td>Abstract\r\n",
       "The glycoprofiling of two proteins, the free form of the prostate-specific antigen (fPSA) and zinc--2-glycoprotein (ZA2G), was assessed to determine their suitability as prostate cancer (PC… [+42682 chars]</td></tr><tr><td>List(null, Plos.org)</td><td>Talat Shama, Justin M. O’Sullivan, Navin Rahman, Shahria H. Kakon, Fahmida Tofail, Md Iqbal Hossain, Mamane Zeilani, Rashidul Haque, Peter Gluckman, Terrence Forrester, Charles A. Nelson</td><td>Multidimensional evaluation of the early emergence of executive function and development in Bangladeshi children using nutritional and psychosocial intervention: A randomized controlled trial protocol</td><td>Introduction Reversing malnutrition-induced impairment of cognition and emotional regulation is a critical global gap. We hypothesize that brain-targeted micronutrient supplemented nutritional rehabilitation in children with moderate acute malnutrition, follo…</td><td>https://journals.plos.org/plosone/article?id=10.1371/journal.pone.0296529</td><td>https://journals.plos.org/plosone/article/figure/image?id=10.1371/journal.pone.0296529.g002&size=inline</td><td>2024-03-15T14:00:00Z</td><td>Citation: Shama T, OSullivan JM, Rahman N, Kakon SH, Tofail F, Hossain MI, et al. (2024) Multidimensional evaluation of the early emergence of executive function and development in Bangladeshi childr… [+34610 chars]</td></tr><tr><td>List(null, Plos.org)</td><td>Katherine Cordero Padilla, Gerardo Alvarado Monefeldt, Adriel Guevárez Galán, Hector G. Marrero, Mario E. Lloret-Torres, Cristina Velázquez-Marrero</td><td>BK ZERO isoform HEK293 stably transfected cell lines differing 3’UTRs to assess miR-9 regulation</td><td>Research has identified the large conductance voltage- and calcium-activated potassium channel (BK) as a key regulator of neuronal excitability genetically associated to behavioral alcohol tolerance. Sensitivity to ethanol at the molecular level is characteri…</td><td>https://journals.plos.org/plosone/article?id=10.1371/journal.pone.0298966</td><td>https://journals.plos.org/plosone/article/figure/image?id=10.1371/journal.pone.0298966.g006&size=inline</td><td>2024-03-19T14:00:00Z</td><td>Citation: Cordero Padilla K, Monefeldt GA, Guevárez Galán A, Marrero HG, Lloret-Torres ME, Velázquez-Marrero C (2024) BK ZERO isoform HEK293 stably transfected cell lines differing 3UTRs to assess mi… [+26528 chars]</td></tr></tbody></table></div>"
      ]
     },
     "metadata": {
      "application/vnd.databricks.v1+output": {
       "addedWidgets": {},
       "aggData": [],
       "aggError": "",
       "aggOverflow": false,
       "aggSchema": [],
       "aggSeriesLimitReached": false,
       "aggType": "",
       "arguments": {},
       "columnCustomDisplayInfos": {},
       "data": [
        [
         [
          null,
          "Scientific American"
         ],
         "Tulika Bose, Tanya Lewis",
         "Hunger in Gaza Could Affect Survivors' Health for Decades",
         "Epigenetics research reveals how famines can cause health problems later in life — and how those changes might be passed down to future generations.",
         "https://www.scientificamerican.com/podcast/episode/hunger-in-gaza-could-affect-survivors-health-for-decades/",
         "https://static.scientificamerican.com/dam/m/796975bfa0d8e4df/webimage-GAZA_FAMINE_SQUARE.png?w=1200",
         "2024-03-11T23:00:00Z",
         "Tanya Lewis: The situation in Gaza right now is desperate. A large percentage of the population is experiencing hunger or even dying of starvation. \r\n[Kamala Harris news clip]\r\nTulika Bose: Videos sh… [+8169 chars]"
        ],
        [
         [
          null,
          "Phys.Org"
         ],
         "Science X",
         "Biologists discover the secrets of how gene traits are passed on",
         "A research team has recently made a significant breakthrough in understanding how the DNA copying machine helps pass on epigenetic information to maintain gene traits at each cell division.",
         "https://phys.org/news/2024-03-biologists-secrets-gene-traits.html",
         "https://scx2.b-cdn.net/gfx/news/2024/biologists-discover-th-1.jpg",
         "2024-03-07T14:46:37Z",
         "A research team has recently made a significant breakthrough in understanding how the DNA copying machine helps pass on epigenetic information to maintain gene traits at each cell division.\r\nUndersta… [+6078 chars]"
        ],
        [
         [
          null,
          "New Atlas"
         ],
         "Paul McClure",
         "‘Bad’ cholesterol gene silenced without altering the DNA sequence",
         "By silencing the gene responsible for regulating ‘bad’ cholesterol without altering the primary DNA sequence, researchers have shown that it’s possible to use epigenetic editing to treat diseases rather than conventional DNA-breaking gene editing technology, …",
         "https://newatlas.com/science/epigenetic-editing-cholesterol-gene-silenced/",
         "https://assets.newatlas.com/dims4/default/48fd060/2147483647/strip/true/crop/2000x1050+0+142/resize/1200x630!/quality/90/?url=http%3A%2F%2Fnewatlas-brightspot.s3.amazonaws.com%2F1a%2F11%2Fb5b84b0f432c84e8962c950b577c%2Fepigenetic-editing-copy.jpg&na.image_optimisation=0",
         "2024-02-29T07:30:00Z",
         "By silencing the gene responsible for regulating bad cholesterol without altering the primary DNA sequence, researchers have shown that its possible to use epigenetic editing to treat diseases rather… [+3063 chars]"
        ],
        [
         [
          null,
          "Frontiersin.org"
         ],
         null,
         "Acetate Revisited: A Key Biomolecule at the Nexus of Metabolism, Epigenetics",
         "Acetate, the shortest chain fatty acid, has been implicated in providing health benefits whether it is derived from the diet or is generated from microbial f...",
         "https://www.frontiersin.org/journals/physiology/articles/10.3389/fphys.2020.580171/full",
         "https://www.frontiersin.org/files/MyHome%20Article%20Library/580171/580171_Thumb_400.jpg",
         "2024-03-26T11:46:02Z",
         "Introduction\r\nDiabetes, obesity, heart disease, cancer, and liver disease have all been linked in various ways to acetate availability, metabolism, and signaling. Acetate supplementation induces phys… [+163834 chars]"
        ],
        [
         [
          null,
          "Phys.Org"
         ],
         "Science X",
         "New tool helps decipher gene behavior",
         "Scientists have extensively researched the structure and sequence of genetic material and its interactions with proteins in the hope of understanding how our genetics and environment interact with diseases. This research has partly focused on 'epigenetic mark…",
         "https://phys.org/news/2024-02-tool-decipher-gene-behavior.html",
         "https://scx2.b-cdn.net/gfx/news/hires/2024/new-tool-helps-deciphe.jpg",
         "2024-02-28T21:49:39Z",
         "Scientists have extensively researched the structure and sequence of genetic material and its interactions with proteins in the hope of understanding how our genetics and environment interact with di… [+3034 chars]"
        ],
        [
         [
          null,
          "Singularity Hub"
         ],
         "Shelly Fan",
         "Gene Silencing Slashes Cholesterol in Mice—No Gene Edits Required",
         "With just one shot, scientists have slashed cholesterol levels in mice. The treatment lasted for at least half their lives. The shot may sound like gene editing, but it’s not. Instead, it relied on an up-and-coming method to control genetic activity—without d…",
         "https://singularityhub.com/2024/02/29/gene-silencing-slashes-cholesterol-in-mice-no-gene-edits-required/",
         "https://singularityhub.com/wp-content/uploads/2023/09/deepmind-dna-double-helix-visualization.jpeg",
         "2024-02-29T21:26:17Z",
         "With just one shot, scientists have slashed cholesterol levels in mice. The treatment lasted for at least half their lives.\r\nThe shot may sound like gene editing, but its not. Instead, it relied on a… [+7085 chars]"
        ],
        [
         [
          null,
          "Science Daily"
         ],
         null,
         "Cracking epigenetic inheritance: Biologists discovered the secrets of how gene traits are passed on",
         "A research team has recently made a significant breakthrough in understanding how the DNA copying machine helps pass on epigenetic information to maintain gene traits at each cell division. Understanding how this coupled mechanism could lead to new treatments…",
         "https://www.sciencedaily.com/releases/2024/03/240307110735.htm",
         "https://www.sciencedaily.com/images/scidaily-icon.png",
         "2024-03-07T16:07:35Z",
         "A research team led by Professor Yuanliang ZHAI at the School of Biological Sciences, The University of Hong Kong (HKU) collaborating with Professor Ning GAO and Professor Qing LI from Peking Univers… [+5534 chars]"
        ],
        [
         [
          null,
          "Forbes"
         ],
         "Victoria Forster, Contributor, \n Victoria Forster, Contributor\n https://www.forbes.com/sites/victoriaforster/",
         "AI identifies New Type Of Prostate Cancer",
         "There are two distinct types of prostate cancer, which may open the door to more personalized therapies, according to a new AI-driven study published today.",
         "https://www.forbes.com/sites/victoriaforster/2024/02/29/ai-identifies-new-type-of-prostate-cancer/",
         "https://imageio.forbes.com/specials-images/imageserve/65dfaa1c4adb4c8f69357735/0x0.jpg?format=jpg&height=900&width=1600&fit=bounds",
         "2024-02-29T16:00:00Z",
         "There are two distinct genetic types of prostate cancer according to new research which used AI ... [+] analysis\r\ngetty\r\nThere are two distinct types of prostate cancer, according to a new AI-driven … [+3340 chars]"
        ],
        [
         [
          null,
          "Science Daily"
         ],
         null,
         "Sniffing our way to better health",
         "Imagine if we could inhale scents that delay the onset of cancer, inflammation, or neurodegenerative disease. Researchers are poised to bring this futuristic technology closer to reality.",
         "https://www.sciencedaily.com/releases/2024/02/240227172140.htm",
         "https://www.sciencedaily.com/images/scidaily-icon.png",
         "2024-02-27T22:21:40Z",
         "Imagine if we could inhale scents that delay the onset of cancer, inflammation, or neurodegenerative disease. Researchers at the University of California, Riverside, are poised to bring this futurist… [+5311 chars]"
        ],
        [
         [
          null,
          "Science Daily"
         ],
         null,
         "'Junk DNA' no more: New method to identify cancers from repeat elements of genetic code",
         "Repeats of DNA sequences, often referred to as 'junk DNA' or 'dark matter,' that are found in chromosomes and could contribute to cancer or other diseases have been challenging to identify and characterize. Now, researchers have developed a novel approach tha…",
         "https://www.sciencedaily.com/releases/2024/03/240313185102.htm",
         "https://www.sciencedaily.com/images/scidaily-icon.png",
         "2024-03-13T22:51:02Z",
         "Repeats of DNA sequences, often referred to as \"junk DNA\" or \"dark matter,\" that are found in chromosomes and could contribute to cancer or other diseases have been challenging to identify and charac… [+8429 chars]"
        ],
        [
         [
          null,
          "GQ Magazine"
         ],
         "Hannah Singleton",
         "Can You Beat Your Genetics with Lifestyle Changes?",
         "According to two experts in aging, we hold more power than we think.",
         "https://www.gq.com/story/genetics-and-longevity",
         "https://media.gq.com/photos/65e1f3bca06443701548faf9/16:9/w_1280,c_limit/genetics.jpg",
         "2024-03-06T14:42:29Z",
         "When it comes to our longevity, theres an age-old question of nature versus nurture: Are we destined for the path thats been laid out by our DNA? Or do our everyday choiceswhat we eat, how we move, a… [+3289 chars]"
        ],
        [
         [
          null,
          "Science Daily"
         ],
         null,
         "New tool helps decipher gene behavior",
         "Scientists have extensively researched the structure and sequence of genetic material and its interactions with proteins in the hope of understanding how our genetics and environment interact in diseases. This research has partly focused on 'epigenetic marks'…",
         "https://www.sciencedaily.com/releases/2024/02/240228132043.htm",
         "https://www.sciencedaily.com/images/scidaily-icon.png",
         "2024-02-28T18:20:43Z",
         "Scientists have extensively researched the structure and sequence of genetic material and its interactions with proteins in the hope of understanding how our genetics and environment interact in dise… [+2405 chars]"
        ],
        [
         [
          null,
          "Study Finds"
         ],
         "StudyFinds Staff",
         "No More Pills, Injections? Inhaling Scents Could Prevent Cancer, Brain Diseases...",
         "No More Pills, Injections? Inhaling Scents Could Prevent Cancer, Brain Diseases...\r\n\n \n \n \n (Third column, 10th story, link)\r\n\n \r\n\n \r\n\n \n \n Drudge Report Feed needs your support!   Become a Patron",
         "https://studyfinds.org/smelling-scents-disease/",
         "https://studyfinds.org/wp-content/uploads/2023/07/8eqtxmqr0vg.jpg",
         "2024-02-29T13:25:38Z",
         "RIVERSIDE, Calif. — Can smelling things be good for your health? Researchers from the University of California-Riverside have made a fascinating discovery: inhaling certain scents could potentially d… [+4466 chars]"
        ],
        [
         [
          null,
          "Science Daily"
         ],
         null,
         "More schooling is linked to slowed aging and increased longevity",
         "Participants in the Framingham Heart Study who achieved higher levels of education tended to age more slowly and went on to live longer lives as compared to those who did not achieve upward educational mobility.",
         "https://www.sciencedaily.com/releases/2024/03/240301134750.htm",
         "https://www.sciencedaily.com/images/scidaily-icon.png",
         "2024-03-01T18:47:50Z",
         "Participants in the Framingham Heart Study who achieved higher levels of education tended to age more slowly and went on to live longer lives as compared to those who did not achieve upward education… [+5526 chars]"
        ],
        [
         [
          null,
          "Science Daily"
         ],
         null,
         "Early life adversity leaves long-term signatures in baboon DNA",
         "Early experiences in an animal's life can have a significant impact on its capacity to thrive, even years or decades later, and DNA methylation may help record their effects. In a study of 256 wild baboons, researchers found that resource limitation during ea…",
         "https://www.sciencedaily.com/releases/2024/03/240306150717.htm",
         "https://www.sciencedaily.com/images/scidaily-icon.png",
         "2024-03-06T20:07:17Z",
         "Early experiences in an animal's life can have a significant impact on its capacity to thrive, even years or decades later, and DNA methylation may help record their effects. In a study of 256 wild b… [+3746 chars]"
        ],
        [
         [
          null,
          "Forbes"
         ],
         "William A. Haseltine, Contributor, \n William A. Haseltine, Contributor\n https://www.forbes.com/sites/williamhaseltine/",
         "The Power Of Precision Medicine: Hydrogel-Based Therapy For Retinitis Pigmentosa",
         "Recently, researchers have developed a hyaluronic acid-based inflammation-responsive hydrogel that could potentially delay vision loss in retinitis pigmentosa patients.",
         "https://www.forbes.com/sites/williamhaseltine/2024/02/28/the-power-of-precision-medicine-hydrogel-based-therapy-for-retinitis-pigmentosa/",
         "https://imageio.forbes.com/specials-images/imageserve/65df4615fa0f73e9ac4610b2/0x0.jpg?format=jpg&height=900&width=1600&fit=bounds",
         "2024-02-28T14:47:42Z",
         "Photoreceptors look healthy in a normal retina. Cells are damaged in the retina of an RP patient.\r\nNational Eye Institute\r\nThis story is part of a series on the current progression in Regenerative Me… [+5581 chars]"
        ],
        [
         [
          "newsweek",
          "Newsweek"
         ],
         "Jess Thomson",
         "Vaping, Like Smoking, May Cause 'Similar Damaging Changes' to DNA",
         "\"While the scientific consensus is that e-cigarettes are safer than smoking tobacco, we cannot assume they are completely safe,\" researcher Chiara Herzog said.",
         "https://www.newsweek.com/vaping-smoking-cigarettes-cell-dna-changes-epigenetics-1880528",
         "https://d.newsweek.com/en/full/2363914/vaping.jpg",
         "2024-03-19T23:01:01Z",
         "The cells of people who vape have been found to contain changes to DNA similar to those seen in the cells of smokers.\r\nThese changes in cell DNA, known as epigenetic changes, were found in cells dire… [+6039 chars]"
        ],
        [
         [
          null,
          "Elifesciences.org"
         ],
         "minghe@uabmc.edu (Erandi Velazquez-Miranda), minghe@uabmc.edu (Ming He)",
         "More than just a simple barrier",
         "Endothelial cell subpopulations are characterized by unique gene expression profiles, epigenetic landscapes and functional properties.",
         "https://elifesciences.org/articles/97247",
         "https://elifesciences.org/assets/images/social/icon-600x600@1.52e87ee6.png",
         "2024-03-27T00:00:00Z",
         "Our blood vessels are lined with a single layer of endothelial cells, known as the vascular endothelium, which provides a permeable barrier to protect the blood from toxins and other harmful substanc… [+5390 chars]"
        ],
        [
         [
          null,
          "GlobeNewswire"
         ],
         "Omega Therapeutics",
         "Omega Therapeutics Announces Two Poster Presentations at the American Association for Cancer Research Annual Meeting 2024",
         "CAMBRIDGE, Mass., March 06, 2024 (GLOBE NEWSWIRE) -- Omega Therapeutics, Inc. (Nasdaq: OMGA) (“Omega”), a clinical-stage biotechnology company pioneering the development of a new class of programmable epigenomic mRNA medicines, today announced that it will pr…",
         "https://www.globenewswire.com/news-release/2024/03/06/2841239/0/en/Omega-Therapeutics-Announces-Two-Poster-Presentations-at-the-American-Association-for-Cancer-Research-Annual-Meeting-2024.html",
         "https://ml.globenewswire.com/Resource/Download/4428645b-4edb-49ba-af06-8f9ac7dc4c11",
         "2024-03-06T12:00:00Z",
         "CAMBRIDGE, Mass., March 06, 2024 (GLOBE NEWSWIRE) -- Omega Therapeutics, Inc. (Nasdaq: OMGA) (Omega), a clinical-stage biotechnology company pioneering the development of a new class of programmable … [+6665 chars]"
        ],
        [
         [
          null,
          "Marketscreener.com"
         ],
         null,
         "Omega Therapeutics Announces Two Poster Presentations at the American Association for Cancer Research Annual Meeting 2024",
         "(marketscreener.com) CAMBRIDGE, Mass., March 06, 2024 -- Omega Therapeutics, Inc. , a clinical-stage biotechnology company pioneering the development of a new class of programmable epigenomic mRNA medicines, today announced that it will present two posters at…",
         "https://www.marketscreener.com/quote/stock/OMEGA-THERAPEUTICS-INC-125290480/news/Omega-Therapeutics-Announces-Two-Poster-Presentations-at-the-American-Association-for-Cancer-Researc-46102992/",
         "https://www.marketscreener.com/images/twitter_MS_fdnoir.png",
         "2024-03-06T12:01:02Z",
         "CAMBRIDGE, Mass., March 06, 2024 (GLOBE NEWSWIRE) -- Omega Therapeutics, Inc. (Nasdaq: OMGA) (Omega), a clinical-stage biotechnology company pioneering the development of a new class of programmable … [+6667 chars]"
        ],
        [
         [
          null,
          "ScienceAlert"
         ],
         "Clare Watson",
         "The Smell of Ripe Fruit Could Halt The Growth of Cancer Cells",
         "Ever since the COVID-19 pandemic kicked off, we've been far more aware of our sense of smell.",
         "https://www.sciencealert.com/the-smell-of-ripe-fruit-could-halt-the-growth-of-cancer-cells",
         "https://www.sciencealert.com/images/2024/02/WomanSmellingPineappleAtMarket.jpg",
         "2024-02-29T06:00:24Z",
         "Ever since the COVID-19 pandemic kicked off, we've been far more aware of our sense of smell. \r\nNow, new research shows that odors like those emanating from ripening fruits or fermented foods can lea… [+3671 chars]"
        ],
        [
         [
          null,
          "Elifesciences.org"
         ],
         "binder@psych.mpg.de (Elisabeth B Binder), binder@psych.mpg.de (Signe Penner-Goeke)",
         "Linking environmental factors and gene regulation",
         "A technique called mSTARR-seq sheds light on how DNA methylation may shape responses to external stimuli by altering the activity of sequences that control gene expression.",
         "https://elifesciences.org/articles/96710",
         "https://elifesciences.org/assets/images/social/icon-600x600@1.52e87ee6.png",
         "2024-03-18T00:00:00Z",
         "Gene regulation is a complex process that allows cells to control when and how they express their genes. Genetic variants can influence these mechanisms, often causing issues that lead to disease (Al… [+6719 chars]"
        ],
        [
         [
          null,
          "GlobeNewswire"
         ],
         "Prophecy Market insights",
         "Molecular Biology Enzymes, Kits & Reagents Market to Exceed USD 63.0 Billion by 2034, with a CAGR of 13.7% and Pioneering Precision Medicine Solutions - By PMI",
         "“Molecular Biology Enzymes, Kits & Reagents Market” from 2024-2034 with covered segments (Molecular Biology Enzymes, Kits & Reagents Market, By Product (Enzymes and Kits & Reagents), By Application (PCR, Sequencing, Cloning, Epigenetics, Restriction Digestion…",
         "https://www.globenewswire.com/news-release/2024/02/28/2837520/0/en/Molecular-Biology-Enzymes-Kits-Reagents-Market-to-Exceed-USD-63-0-Billion-by-2034-with-a-CAGR-of-13-7-and-Pioneering-Precision-Medicine-Solutions-By-PMI.html",
         "https://ml.globenewswire.com/Resource/Download/20cb1ee4-d3e9-4331-b534-eae221b5f383",
         "2024-02-28T22:25:00Z",
         "Covina, Feb. 28, 2024 (GLOBE NEWSWIRE) -- According to the recent research study, the Molecular Biology Enzymes, Kits &amp; Reagents Market\r\nsize was valued at about USD 17.5 Billion in 2024 and expe… [+12701 chars]"
        ],
        [
         [
          null,
          "Marketscreener.com"
         ],
         null,
         "Cardio Diagnostics Holdings, Inc. Announces Issuance of Second U.S. Patent for Compositions and Methods for Detecting Predisposition to Cardiovascular Disease",
         "(marketscreener.com) \nCompany Continues to Build and Expand the Global IP Portfolio of Its One-of-a-Kind Technology\n\nhttps://www.marketscreener.com/quote/stock/CARDIO-DIAGNOSTICS-HOLDIN-145899704/news/Cardio-Diagnostics-Holdings-Inc-Announces-Issuance-of-Seco…",
         "https://www.marketscreener.com/quote/stock/CARDIO-DIAGNOSTICS-HOLDIN-145899704/news/Cardio-Diagnostics-Holdings-Inc-Announces-Issuance-of-Second-U-S-Patent-for-Compositions-and-Meth-46094463/",
         "https://www.marketscreener.com/images/twitter_MS_fdblanc.png",
         "2024-03-05T13:37:02Z",
         "Company Continues to Build and Expand the Global IP Portfolio of Its One-of-a-Kind Technology\r\nCardio Diagnostics Holdings, Inc. (NASDAQ: CDIO), an AI-driven precision cardiovascular medicine company… [+6509 chars]"
        ],
        [
         [
          null,
          "Plos.org"
         ],
         "Allyson J. Swanson, Victor J. Rogowski, Jacob A. Bishop, Dylan M. Walker, Gina M. Roxas, Stacey L. Raimondi",
         "CLEC11A methylation is correlated to AML subtypes and cytogenetic risk factors but not patient demographics",
         "Acute myeloid leukemia (AML) is an aggressive and lethal cancer of the blood, which leads to the death of over 11,000 patients in the United States each year. Research on identifying, characterizing, and treating AML is crucial in the fight against this deadl…",
         "https://journals.plos.org/plosone/article?id=10.1371/journal.pone.0300477",
         "https://journals.plos.org/plosone/article/figure/image?id=10.1371/journal.pone.0300477.g003&size=inline",
         "2024-03-11T14:00:00Z",
         "Abstract\r\nAcute myeloid leukemia (AML) is an aggressive and lethal cancer of the blood, which leads to the death of over 11,000 patients in the United States each year. Research on identifying, chara… [+22772 chars]"
        ],
        [
         [
          null,
          "Cshlp.org"
         ],
         "Foroozandeh Shahraki, M., Farahbod, M., Libbrecht, M. W.",
         "Robust chromatin state annotation [METHOD]",
         "With the goal of mapping genomic activity, international projects have recently measured epigenetic activity in hundreds of cell and tissue types. Chromatin state annotations produced by segmentation and genome annotation (SAGA) methods have emerged as the pr…",
         "https://genome.cshlp.org/content/early/2024/03/21/gr.278343.123.short?rss=1",
         null,
         "2024-03-21T19:00:32Z",
         "With the goal of mapping genomic activity, international projects have recently measured epigenetic activity in hundreds of\r\n cell and tissue types. Chromatin state annotations produced by segmentati… [+1591 chars]"
        ],
        [
         [
          null,
          "Marketscreener.com"
         ],
         null,
         "Sangamo Therapeutics Announces Data From Novel Proprietary Neurotropic AAV Capsid Demonstrating Industry-leading Blood-brain Barrier Penetration and Brain Transduction in NHPs",
         "(marketscreener.com) \n\nNovel AAV capsid engineered by Sangamo showed robust penetration of blood-brain barrier and widespread transgene expression throughout brain in non-human primates following intravenous administration.\n\n\n\nDemonstrated industry-leading br…",
         "https://www.marketscreener.com/quote/stock/SANGAMO-THERAPEUTICS-INC-10811/news/Sangamo-Therapeutics-Announces-Data-From-Novel-Proprietary-Neurotropic-AAV-Capsid-Demonstrating-Indu-46159948/",
         "https://www.marketscreener.com/images/twitter_MS_fdblanc.png",
         "2024-03-13T12:08:01Z",
         "Novel AAV capsid engineered by Sangamo showed robust penetration of blood-brain barrier (BBB) and widespread transgene expression throughout brain in non-human primates (NHPs) following intravenous a… [+11950 chars]"
        ],
        [
         [
          null,
          "GlobeNewswire"
         ],
         "Prophecy Market insights",
         "Single-Cell Multi-Omics Market to Boost USD 11.5 Billion by 2034 and Projected to grow at 14.80% CAGR with Accelerating advancement and development – By PMI",
         "“Single-Cell Multi-Omics Market” from 2024-2034 with covered segments (Single-Cell Multi-Omics Market, By Type (Single Cell Genomics, Single Cell Transcriptomics and Proteomics, and Single Cell Metabolomics), By Product (Instruments and Consumables), By Workf…",
         "https://www.globenewswire.com/news-release/2024/02/29/2838349/0/en/Single-Cell-Multi-Omics-Market-to-Boost-USD-11-5-Billion-by-2034-and-Projected-to-grow-at-14-80-CAGR-with-Accelerating-advancement-and-development-By-PMI.html",
         "https://ml.globenewswire.com/Resource/Download/20cb1ee4-d3e9-4331-b534-eae221b5f383",
         "2024-02-29T20:05:00Z",
         "Covina, Feb. 29, 2024 (GLOBE NEWSWIRE) -- According to the recent research study, the Single-Cell Multi-Omics Market\r\nsize was valued at about USD 2.9 billion in 2024 and expected to grow at CAGR of … [+11360 chars]"
        ],
        [
         [
          null,
          "GlobeNewswire"
         ],
         "Precede Biosciences, Inc.",
         "Precede Biosciences to Present Scientific Data For Its Comprehensive Epigenomic Liquid Biopsy Platform at AACR 2024",
         "New data in gastro-esophageal and lung cancers show the transformative potential of the platform in providing resolution into the activation status of clinically actionable genes and pathways from a simple blood draw New data in gastro-esophageal and lung can…",
         "https://www.globenewswire.com/news-release/2024/03/05/2840958/0/en/Precede-Biosciences-to-Present-Scientific-Data-For-Its-Comprehensive-Epigenomic-Liquid-Biopsy-Platform-at-AACR-2024.html",
         "https://ml.globenewswire.com/Resource/Download/adc7102a-f715-445b-9532-23260281465e",
         "2024-03-05T21:35:00Z",
         "BOSTON, March 05, 2024 (GLOBE NEWSWIRE) -- Precede Biosciences, a company impacting the development and use of precision medicines with a first-in-class liquid biopsy platform, today announced three … [+3595 chars]"
        ],
        [
         [
          null,
          "GlobeNewswire"
         ],
         "Research and Markets",
         "Omics Lab Services Market Forecast Report 2024-2029: 15% CAGR Forecast During 2024-2029, with Notable Developments in Cancer Research and Genomics",
         "Dublin, March 15, 2024 (GLOBE NEWSWIRE) -- The \"Omics Lab Services Market - Forecasts from 2024 to 2029\" report has been added to ResearchAndMarkets.com's offering.The omics lab services market was valued at US$98.8 billion in 2022 and is expected to grow at …",
         "https://www.globenewswire.com/news-release/2024/03/15/2846865/28124/en/Omics-Lab-Services-Market-Forecast-Report-2024-2029-15-CAGR-Forecast-During-2024-2029-with-Notable-Developments-in-Cancer-Research-and-Genomics.html",
         "https://ml.globenewswire.com/Resource/Download/908fb457-7f8e-4a08-9081-5565e3dfb3d7",
         "2024-03-15T09:09:00Z",
         "Dublin, March 15, 2024 (GLOBE NEWSWIRE) -- The \"Omics Lab Services Market - Forecasts from 2024 to 2029\" report has been added to ResearchAndMarkets.com's offering.\r\nThe omics lab services market was… [+7564 chars]"
        ],
        [
         [
          null,
          "InvestorsObserver"
         ],
         "InvestorsObserver",
         "Armonica Technologies announces Todd Dickinson joins Board of Directors",
         "Armonica Technologies announces Todd Dickinson joins Board of Directors           PR Newswire             SAN DIEGO     ,     March 13, 2024     /PRNewswire/ --&#xA0;Armonica Technologies, Inc., a pioneer in sample-prep free direct optical DNA sequenci...",
         "https://www.investorsobserver.com/news/qm-pr/5721527191685828",
         "https://s3.amazonaws.com/images.investorsobserver.com/io-logo-800x450.jpg",
         "2024-03-13T00:00:00Z",
         "SAN DIEGO\r\n,\r\nMarch 13, 2024\r\n/PRNewswire/ -- Armonica Technologies, Inc., a pioneer in sample-prep free direct optical DNA sequencing, today announced the appointment of life science leader\r\nTodd Di… [+2376 chars]"
        ],
        [
         [
          null,
          "menshealth.com"
         ],
         "Marty Munson",
         "Can You Actually Turn Back the Aging Clock?",
         "Dr. Peter Attia rates which anti-aging strategies are worth it, which are B.S. and to keep an eye on. Includes saunas, metformin, ice baths and more.",
         "https://www.menshealth.com/health/a46716994/anti-aging-strategies-worth-it/",
         "https://hips.hearstapps.com/hmg-prod/images/tbtc-lead-65f074ec153be.png?crop=1xw:1xh;center,top&resize=1200:*",
         "2024-03-13T14:49:00Z",
         "This story is part of Fit at Any Age: New Frontiersa next-level guide to the latest science and tips for a stronger, longer life.\r\nTECH CENTIMILLIONAIRE Bryan Johnson, a self- described rejuvenation … [+6239 chars]"
        ],
        [
         [
          null,
          "Plos.org"
         ],
         "Andrey Höglund, Rie Henriksen, Allison M. Churcher, Carlos M. Guerrero-Bosagna, Alvaro Martinez-Barrio, Martin Johnsson, Per Jensen, Dominic Wright",
         "The regulation of methylation on the Z chromosome and the identification of multiple novel Male Hyper-Methylated regions in the chicken",
         "Author summary DNA methylation is a key regulator of eukaryote genomes, and is of particular relevance in the regulation of gene expression on the sex chromosomes, with a key role in dosage compensation in mammalian XY systems. In the case of birds, dosage co…",
         "https://journals.plos.org/plosgenetics/article?id=10.1371/journal.pgen.1010719",
         "https://journals.plos.org/plosgenetics/article/figure/image?id=10.1371/journal.pgen.1010719.g003&size=inline",
         "2024-03-08T14:00:00Z",
         "Abstract\r\nDNA methylation is a key regulator of eukaryote genomes, and is of particular relevance in the regulation of gene expression on the sex chromosomes, with a key role in dosage compensation i… [+79034 chars]"
        ],
        [
         [
          null,
          "GlobeNewswire"
         ],
         "Prophecy Market insights",
         "Biochips Market to Exceed USD 41.8 Billion by 2034, with a CAGR of 14.8% and Pioneering Precision Medicine Solutions - By PMI",
         "“Biochips Market” from 2024-2034 with covered segments (Biochips Market, By Product (DNA Chip, Protein Chip, Lab-on-a-chip, and Others), By Application (Drug Discovery & Development, Disease Diagnostics, Genomics, Proteomics, Agriculture, and Others), By End-…",
         "https://www.globenewswire.com/news-release/2024/02/28/2837534/0/en/Biochips-Market-to-Exceed-USD-41-8-Billion-by-2034-with-a-CAGR-of-14-8-and-Pioneering-Precision-Medicine-Solutions-By-PMI.html",
         "https://ml.globenewswire.com/Resource/Download/20cb1ee4-d3e9-4331-b534-eae221b5f383",
         "2024-02-28T23:28:00Z",
         "Covina, Feb. 28, 2024 (GLOBE NEWSWIRE) -- According to the recent research study, the Biochips Market\r\nsize was valued at about USD 10.5 Billion in 2024 and expected to grow at CAGR of 14.8% to exten… [+13945 chars]"
        ],
        [
         [
          null,
          "GlobeNewswire"
         ],
         "Cerevance",
         "Cerevance Announces Presentation at Alzheimer’s Research UK Conference",
         "BOSTON, March 13, 2024 (GLOBE NEWSWIRE) -- Cerevance, a company focused on developing precision novel therapeutics for central nervous system (CNS) diseases, today announced plans to present a poster at the upcoming Alzheimer’s Research UK Conference, taking …",
         "https://www.globenewswire.com/news-release/2024/03/13/2845419/0/en/Cerevance-Announces-Presentation-at-Alzheimer-s-Research-UK-Conference.html",
         "https://ml.globenewswire.com/Resource/Download/5ba4e6d9-700e-4096-88f4-3aab36cea765",
         "2024-03-13T12:30:00Z",
         "BOSTON, March 13, 2024 (GLOBE NEWSWIRE) -- Cerevance, a company focused on developing precision novel therapeutics for central nervous system (CNS) diseases, today announced plans to present a poster… [+2852 chars]"
        ],
        [
         [
          null,
          "Marketscreener.com"
         ],
         null,
         "Cardio Diagnostics Holdings, Inc. to Showcase HeartRisk and Actionable Clinical Intelligence Version 3 at the American College of Cardiology's 73rd Annual Scientific Session",
         "(marketscreener.com) \nCardio Diagnostics Holdings, Inc. , an AI-powered precision cardiovascular medicine company, announces that the Company will showcase its groundbreaking HeartRiskTM and Actionable Clinical IntelligenceTM platforms at the American College…",
         "https://www.marketscreener.com/quote/stock/CARDIO-DIAGNOSTICS-HOLDIN-145899704/news/Cardio-Diagnostics-Holdings-Inc-to-Showcase-HeartRisk-and-Actionable-Clinical-Intelligence-Version-46197622/",
         "https://www.marketscreener.com/images/twitter_MS_fdblanc.png",
         "2024-03-14T12:34:01Z",
         "Cardio Diagnostics Holdings, Inc. (NASDAQ: CDIO), an AI-powered precision cardiovascular medicine company, announces that the Company will showcase its groundbreaking HeartRiskTM and Actionable Clini… [+6466 chars]"
        ],
        [
         [
          null,
          "Plos.org"
         ],
         "E. Renee Matthews, Omar D. Johnson, Kandace J. Horn, José A. Gutiérrez, Simon R. Powell, Michelle C. Ward",
         "Anthracyclines induce cardiotoxicity through a shared gene expression response signature",
         "Author summary Anthracycline drugs such as Doxorubicin are effective treatments for breast cancer; however, they can cause cardiotoxicity in some women. It is unclear whether women would experience the same toxicity for all drugs in this class, or whether spe…",
         "https://journals.plos.org/plosgenetics/article?id=10.1371/journal.pgen.1011164",
         "https://journals.plos.org/plosgenetics/article/figure/image?id=10.1371/journal.pgen.1011164.g007&size=inline",
         "2024-02-28T14:00:00Z",
         "Introduction\r\nGlobally, breast cancer is the most common cancer in women [1]. 13% of women in the United States will be diagnosed with breast cancer during their lifetime [2]. While the number of dea… [+89888 chars]"
        ],
        [
         [
          null,
          "The Federalist"
         ],
         "Anonymous",
         "What If We Addressed The Root Of Infertility Rather Than Pushing The Questionable IVF Quick Fix?",
         "I've seen countless couples walk into my door broke and defeated after several failed rounds of IVF. What if there is a better way?",
         "https://thefederalist.com/2024/03/25/what-if-we-can-heal-infertile-women-rather-than-turning-to-expensive-unethical-ivf-treatments-first/",
         "https://thefederalist.com/wp-content/uploads/2024/03/Screen-Shot-2024-03-21-at-1.26.01-PM.png",
         "2024-03-25T07:24:00Z",
         "When we think of fertility treatments, society has accepted in vitro fertilization (IVF) as a necessary option as a means of compassion for those who cant conceive. But what if we were all wrong? Wha… [+7857 chars]"
        ],
        [
         [
          null,
          "ETF Daily News"
         ],
         "MarketBeat News",
         "Vigil Neuroscience (NASDAQ:VIGL) versus Omega Therapeutics (NASDAQ:OMGA) Head-To-Head Review",
         "Vigil Neuroscience (NASDAQ:VIGL – Get Free Report) and Omega Therapeutics (NASDAQ:OMGA – Get Free Report) are both small-cap medical companies, but which is the better business? We will compare the two companies based on the strength of their profitability, a…",
         "https://www.etfdailynews.com/2024/03/03/vigil-neuroscience-nasdaqvigl-versus-omega-therapeutics-nasdaqomga-head-to-head-review/",
         "https://www.americanbankingnews.com/wp-content/timthumb/timthumb.php?src=https://www.marketbeat.com/logos/omega-therapeutics-inc-logo-1200x675.png?v=20210816051931&w=240&h=240&zc=2",
         "2024-03-03T07:10:44Z",
         "Vigil Neuroscience (NASDAQ:VIGL – Get Free Report) and Omega Therapeutics (NASDAQ:OMGA – Get Free Report) are both small-cap medical companies, but which is the better business? We will compare the t… [+5375 chars]"
        ],
        [
         [
          null,
          "ETF Daily News"
         ],
         "MarketBeat News",
         "Big Cypress Acquisition (OTCMKTS:BCYP) and Omega Therapeutics (NASDAQ:OMGA) Critical Contrast",
         "Big Cypress Acquisition (OTCMKTS:BCYP – Get Free Report) and Omega Therapeutics (NASDAQ:OMGA – Get Free Report) are both small-cap medical companies, but which is the better stock? We will compare the two companies based on the strength of their dividends, in…",
         "https://www.etfdailynews.com/2024/02/28/big-cypress-acquisition-otcmktsbcyp-and-omega-therapeutics-nasdaqomga-critical-contrast/",
         "https://www.americanbankingnews.com/wp-content/timthumb/timthumb.php?src=https://www.marketbeat.com/logos/omega-therapeutics-inc-logo-1200x675.png?v=20210816051931&w=240&h=240&zc=2",
         "2024-02-28T07:16:43Z",
         "Big Cypress Acquisition (OTCMKTS:BCYP – Get Free Report) and Omega Therapeutics (NASDAQ:OMGA – Get Free Report) are both small-cap medical companies, but which is the better stock? We will compare th… [+4242 chars]"
        ],
        [
         [
          null,
          "ETF Daily News"
         ],
         "MarketBeat News",
         "Omega Therapeutics (NASDAQ:OMGA) versus Exelixis (NASDAQ:EXEL) Critical Survey",
         "Omega Therapeutics (NASDAQ:OMGA – Get Free Report) and Exelixis (NASDAQ:EXEL – Get Free Report) are both medical companies, but which is the better investment? We will contrast the two businesses based on the strength of their valuation, risk, earnings, analy…",
         "https://www.etfdailynews.com/2024/03/15/omega-therapeutics-nasdaqomga-versus-exelixis-nasdaqexel-critical-survey/",
         "https://www.americanbankingnews.com/wp-content/timthumb/timthumb.php?src=https://www.marketbeat.com/logos/exelixis-inc-logo-1200x675.jpg&w=240&h=240&zc=2",
         "2024-03-15T08:36:43Z",
         "Omega Therapeutics (NASDAQ:OMGA – Get Free Report) and Exelixis (NASDAQ:EXEL – Get Free Report) are both medical companies, but which is the better investment? We will contrast the two businesses bas… [+6275 chars]"
        ],
        [
         [
          null,
          "National Institutes of Health"
         ],
         null,
         "Notice of Special Interest (NOSI): Mechanisms of Osteoarthritis",
         "NIH Funding Opportunities and Notices in the NIH Guide for Grants and Contracts: Notice of Special Interest (NOSI):  Mechanisms of Osteoarthritis NOT-AG-24-002. NIA",
         "https://grants.nih.gov/grants/guide/notice-files/NOT-AG-24-002.html",
         null,
         "2024-02-28T07:41:07Z",
         "This Notice of Special Interest (NOSI) invites applications on research employing genetically defined and/or modified mouse models, other animal models such as dogs and monkeys, or archived human joi… [+10237 chars]"
        ],
        [
         [
          null,
          "Plos.org"
         ],
         "Kelli D. Fenelon, Julia Krause, Theodora Koromila",
         "Opticool: Cutting-edge transgenic optical tools",
         "Only a few short decades have passed since the sequencing of GFP, yet the modern repertoire of transgenically encoded optical tools implies an exponential proliferation of ever improving constructions to interrogate the subcellular environment. A myriad of ta…",
         "https://journals.plos.org/plosgenetics/article?id=10.1371/journal.pgen.1011208",
         "https://journals.plos.org/plosgenetics/article/figure/image?id=10.1371/journal.pgen.1011208.g005&size=inline",
         "2024-03-22T14:00:00Z",
         "Abstract\r\nOnly a few short decades have passed since the sequencing of GFP, yet the modern repertoire of transgenically encoded optical tools implies an exponential proliferation of ever improving co… [+47335 chars]"
        ],
        [
         [
          null,
          "Marketscreener.com"
         ],
         null,
         "CENTOGENE Collaborates on Research Published in Science Showing Immunopathological Landscape of Human Pre-TCRα Deficiency",
         "(marketscreener.com) Complete Pre-TCRα Deficiency Found to be Very Rare, Partial Form More Common Than ExpectedCAMBRIDGE, Mass. and ROSTOCK, Germany and BERLIN, Feb. 29, 2024 -- CENTOGENE N.V. , the essential life science partner for data-driven answers in ra…",
         "https://www.marketscreener.com/quote/stock/CENTOGENE-N-V-74010961/news/CENTOGENE-Collaborates-on-Research-Published-in-Science-Showing-Immunopathological-Landscape-of-Huma-46067156/",
         "https://www.marketscreener.com/images/twitter_MS_fdblanc.png",
         "2024-02-29T22:01:02Z",
         "Complete Pre-TCR Deficiency Found to be Very Rare, Partial Form More Common Than Expected\r\nCAMBRIDGE, Mass. and ROSTOCK, Germany and BERLIN, Feb. 29, 2024 (GLOBE NEWSWIRE) -- CENTOGENE N.V. (Nasdaq: … [+7959 chars]"
        ],
        [
         [
          null,
          "GlobeNewswire"
         ],
         "Centogene NV",
         "CENTOGENE Collaborates on Research Published in Science Showing Immunopathological Landscape of Human Pre-TCRα Deficiency",
         "Complete Pre-TCRα Deficiency Found to be Very Rare, Partial Form More Common Than Expected Complete Pre-TCRα Deficiency Found to be Very Rare, Partial Form More Common Than Expected",
         "https://www.globenewswire.com/news-release/2024/02/29/2838463/0/en/CENTOGENE-Collaborates-on-Research-Published-in-Science-Showing-Immunopathological-Landscape-of-Human-Pre-TCR%CE%B1-Deficiency.html",
         "https://ml.globenewswire.com/Resource/Download/9db085f4-b57e-4d19-84cf-62bc960c1d57",
         "2024-02-29T22:00:00Z",
         "CAMBRIDGE, Mass. and ROSTOCK, Germany and BERLIN, Feb. 29, 2024 (GLOBE NEWSWIRE) -- CENTOGENE N.V. (Nasdaq: CNTG) (the Company), the essential life science partner for data-driven answers in rare and… [+7856 chars]"
        ],
        [
         [
          null,
          "Marketscreener.com"
         ],
         null,
         "CENTOGENE Extends Strategic Partnership With Takeda to Continue Providing Access to Genetic Testing for Patients With Lysosomal Storage Disorders",
         "(marketscreener.com) Longstanding global partnership provides an efficient and timely diagnosis to patients with Lysosomal Storage Disorders CAMBRIDGE, Mass. and ROSTOCK, Germany and BERLIN, March 19, 2024 -- Centogene N.V. , the essential life science partne…",
         "https://www.marketscreener.com/quote/stock/CENTOGENE-N-V-74010961/news/CENTOGENE-Extends-Strategic-Partnership-With-Takeda-to-Continue-Providing-Access-to-Genetic-Testing-46229921/",
         "https://www.marketscreener.com/images/twitter_MS_fdnoir.png",
         "2024-03-19T10:31:02Z",
         "<ul><li>Longstanding global partnership provides an efficient and timely diagnosis to patients with Lysosomal Storage Disorders (LSDs)</li></ul> CAMBRIDGE, Mass. and ROSTOCK, Germany and BERLIN, Marc… [+6267 chars]"
        ],
        [
         [
          null,
          "GlobeNewswire"
         ],
         "Coherent Market Insights Pvt. Ltd",
         "The Global Multiomics Market Reach Valued At $7.65 Billion by 2031 As Revealed In New Report",
         "Burlingame, March 19, 2024 (GLOBE NEWSWIRE) -- Coherent Market Insights published a report, titled, Global Multiomics Market, By Product & Service (Products, Services), By Type (Single-cell Multiomics, Bulk Multiomics), By Platform (Genomics, Transcriptomics,…",
         "https://www.globenewswire.com/news-release/2024/03/19/2848323/0/en/The-Global-Multiomics-Market-Reach-Valued-At-7-65-Billion-by-2031-As-Revealed-In-New-Report.html",
         "https://ml.globenewswire.com/Resource/Download/450ec960-647a-4b12-8885-a4afd6739e88",
         "2024-03-19T08:20:00Z",
         "Burlingame, March 19, 2024 (GLOBE NEWSWIRE) -- Coherent Market Insights published a report, titled, Global Multiomics Market, By Product &amp; Service (Products, Services), By Type (Single-cell Multi… [+11717 chars]"
        ],
        [
         [
          null,
          "GlobeNewswire"
         ],
         "Centogene NV",
         "CENTOGENE Extends Strategic Partnership With Takeda to Continue Providing Access to Genetic Testing for Patients With Lysosomal Storage Disorders",
         "CAMBRIDGE, Mass. and ROSTOCK, Germany and BERLIN, March 19, 2024 (GLOBE NEWSWIRE) -- Centogene N.V. (Nasdaq: CNTG), the essential life science partner for data-driven answers in rare and neurodegenerative diseases, today announced the extension of an ongoing …",
         "https://www.globenewswire.com/news-release/2024/03/19/2848395/0/en/CENTOGENE-Extends-Strategic-Partnership-With-Takeda-to-Continue-Providing-Access-to-Genetic-Testing-for-Patients-With-Lysosomal-Storage-Disorders.html",
         "https://ml.globenewswire.com/Resource/Download/9db085f4-b57e-4d19-84cf-62bc960c1d57",
         "2024-03-19T10:30:00Z",
         "<ul><li>Longstanding global partnership provides an efficient and timely diagnosis to patients with Lysosomal Storage Disorders (LSDs)</li></ul>CAMBRIDGE, Mass. and ROSTOCK, Germany and BERLIN, March… [+6256 chars]"
        ],
        [
         [
          null,
          "Marketscreener.com"
         ],
         null,
         "CENTOGENE Explores Strategic Alternatives",
         "(marketscreener.com) CAMBRIDGE, Mass. and ROSTOCK, Germany and BERLIN, Feb. 28, 2024 -- Centogene N.V. , the essential life science partner for data-driven answers in rare and neurodegenerative diseases, today announced that the Company has decided to explore…",
         "https://www.marketscreener.com/quote/stock/CENTOGENE-N-V-74010961/news/CENTOGENE-Explores-Strategic-Alternatives-46048311/",
         "https://www.marketscreener.com/images/twitter_MS_fdnoir.png",
         "2024-02-28T11:31:02Z",
         "CAMBRIDGE, Mass. and ROSTOCK, Germany and BERLIN, Feb. 28, 2024 (GLOBE NEWSWIRE) -- Centogene N.V. (Nasdaq: CNTG) (the Company), the essential life science partner for data-driven answers in rare and… [+6806 chars]"
        ],
        [
         [
          null,
          "GlobeNewswire"
         ],
         "Centogene NV",
         "CENTOGENE Explores Strategic Alternatives",
         "CAMBRIDGE, Mass. and ROSTOCK, Germany and BERLIN, Feb. 28, 2024 (GLOBE NEWSWIRE) -- Centogene N.V. (Nasdaq: CNTG) (the “Company”), the essential life science partner for data-driven answers in rare and neurodegenerative diseases, today announced that the Comp…",
         "https://www.globenewswire.com/news-release/2024/02/28/2836749/0/en/CENTOGENE-Explores-Strategic-Alternatives.html",
         "https://ml.globenewswire.com/Resource/Download/9db085f4-b57e-4d19-84cf-62bc960c1d57",
         "2024-02-28T11:30:00Z",
         "CAMBRIDGE, Mass. and ROSTOCK, Germany and BERLIN, Feb. 28, 2024 (GLOBE NEWSWIRE) -- Centogene N.V. (Nasdaq: CNTG) (the Company), the essential life science partner for data-driven answers in rare and… [+6795 chars]"
        ],
        [
         [
          null,
          "Mercola.com"
         ],
         "communities@mercola.com (Dr. Joseph Mercola)",
         "Unlocking Personalized Health: Navigating the Unique Terrain of Nutritional Individuality",
         "In this interview, Chris Masterjohn, who has a Ph.D. in nutritional sciences from the University of Connecticut,1 and I discuss nutritional individuality, and how to assess your own personal nutritional needs.\n\nWhile there are many opinions about which diet m…",
         "https://articles.mercola.com/sites/articles/archive/2024/03/03/nutritional-individuality.aspx",
         "https://media.mercola.com/ImageServer/Public/2024/March/FB/nutritional-individuality-fb.jpg",
         "2024-03-03T00:00:00Z",
         "Mercola proudly supports these charities and organizations. View All \r\nDisclaimer: The entire contents of this website are based upon the opinions of Dr. Mercola, unless otherwise noted. Individual a… [+1007 chars]"
        ],
        [
         [
          null,
          "Marketscreener.com"
         ],
         null,
         "Sangamo Therapeutics Reports Recent Business Highlights and Fourth Quarter and Full Year 2023 Financial Results",
         "(marketscreener.com) \n\nData from novel proprietary neurotropic adeno-associated virus delivery capsid, STAC-BBB, demonstrated industry-leading blood-brain barrier penetration in non-human primates following intravenous administration, with capsid-enabled deli…",
         "https://www.marketscreener.com/quote/stock/SANGAMO-THERAPEUTICS-INC-10811/news/Sangamo-Therapeutics-Reports-Recent-Business-Highlights-and-Fourth-Quarter-and-Full-Year-2023-Financ-46159949/",
         "https://www.marketscreener.com/images/twitter_MS_fdnoir.png",
         "2024-03-13T12:08:01Z",
         "Data from novel proprietary neurotropic adeno-associated virus (AAV) delivery capsid, STAC-BBB, demonstrated industry-leading blood-brain barrier (BBB) penetration in non-human primates (NHPs) follow… [+35033 chars]"
        ],
        [
         [
          null,
          "Marketscreener.com"
         ],
         null,
         "DURECT Corporation Reports Fourth Quarter and Full Year 2023 Financial Results and Provides Business Update",
         "(marketscreener.com) \n\n- Ongoing Communication with FDA to Align on Next Steps for Larsucosterol in Alcohol-Associated Hepatitis\n- Webcast of Earnings Call Today, March 27th at 4:30 p.m. ET\nCUPERTINO, Calif., March 27, 2024 /PRNewswire/ -- DURECT Corporation …",
         "https://www.marketscreener.com/quote/stock/DURECT-CORPORATION-9083/news/DURECT-Corporation-Reports-Fourth-Quarter-and-Full-Year-2023-Financial-Results-and-Provides-Business-46303369/",
         "https://www.marketscreener.com/images/twitter_MS_fdblanc.png",
         "2024-03-27T20:02:08Z",
         "- Ongoing Communication with FDA to Align on Next Steps for Larsucosterol in Alcohol-Associated Hepatitis\r\n- Webcast of Earnings Call Today, March 27th at 4:30 p.m. ET\r\nCUPERTINO, Calif., March 27, 2… [+21395 chars]"
        ],
        [
         [
          null,
          "GlobeNewswire"
         ],
         "Research and Markets",
         "Global Companion Diagnostic Market Research Report 2024: The Future of Diagnostics and Funding with Customized Forecasting/Analysis, and Executive and Consultant Guides",
         "Dublin, Feb. 29, 2024 (GLOBE NEWSWIRE) -- The \"Companion Diagnostic Markets - The Future of Diagnostics by Application, Technology and Funding with Customized Forecasting/Analysis, and Executive and Consultant Guides\" report has been added to ResearchAndMarke…",
         "https://www.globenewswire.com/news-release/2024/02/29/2837852/28124/en/Global-Companion-Diagnostic-Market-Research-Report-2024-The-Future-of-Diagnostics-and-Funding-with-Customized-Forecasting-Analysis-and-Executive-and-Consultant-Guides.html",
         "https://ml.globenewswire.com/Resource/Download/908fb457-7f8e-4a08-9081-5565e3dfb3d7",
         "2024-02-29T12:16:00Z",
         "Dublin, Feb. 29, 2024 (GLOBE NEWSWIRE) -- The \"Companion Diagnostic Markets - The Future of Diagnostics by Application, Technology and Funding with Customized Forecasting/Analysis, and Executive and … [+9793 chars]"
        ],
        [
         [
          null,
          "Phys.Org"
         ],
         "Science X",
         "Early life adversity leaves long-term signatures in baboon DNA",
         "Early experiences in an animal's life can have a significant impact on its capacity to thrive, even years or decades later, and DNA methylation may help record their effects.",
         "https://phys.org/news/2024-03-early-life-adversity-term-signatures.html",
         "https://scx2.b-cdn.net/gfx/news/2024/early-life-adversity-l.jpg",
         "2024-03-06T16:44:04Z",
         "Early experiences in an animal's life can have a significant impact on its capacity to thrive, even years or decades later, and DNA methylation may help record their effects.\r\nIn a study of 256 wild … [+4422 chars]"
        ],
        [
         [
          null,
          "Plos.org"
         ],
         "Faezeh Mortezaei, Bahram Falahatkar, Mir Masoud Sajjadi, Roghieh Safari",
         "Early nutritional programming in sterlet sturgeon (Acipenser ruthenus) with dietary soybean meal: Assessment of growth performance, body composition, and expression of GH, IGF-I, and Ghrelin genes",
         "This study was performed to assess the impacts of introducing diets containing different levels of soybean meal (SBM) to sterlet sturgeon (Acipenser ruthenus) larvae on growth performance, body composition, and molecular responses in the juvenile stage. The s…",
         "https://journals.plos.org/plosone/article?id=10.1371/journal.pone.0299203",
         "https://journals.plos.org/plosone/article/figure/image?id=10.1371/journal.pone.0299203.g001&size=inline",
         "2024-03-14T14:00:00Z",
         "Abstract\r\nThis study was performed to assess the impacts of introducing diets containing different levels of soybean meal (SBM) to sterlet sturgeon (Acipenser ruthenus) larvae on growth performance, … [+51878 chars]"
        ],
        [
         [
          null,
          "Plos.org"
         ],
         "Ningning Xie, Fangfang Wang, Danqing Chen, Jue Zhou, Jian Xu, Fan Qu",
         "Immune dysfunction mediated by the competitive endogenous RNA network in fetal side placental tissue of polycystic ovary syndrome",
         "Polycystic ovary syndrome (PCOS), a common endocrine and metabolic disorder affecting women in their reproductive years. Emerging evidence suggests that the maternal-fetal immune system is crucial for proper pregnancy. However, whether immune function is alte…",
         "https://journals.plos.org/plosone/article?id=10.1371/journal.pone.0300461",
         "https://journals.plos.org/plosone/article/figure/image?id=10.1371/journal.pone.0300461.g007&size=inline",
         "2024-03-21T14:00:00Z",
         "Abstract\r\nPolycystic ovary syndrome (PCOS), a common endocrine and metabolic disorder affecting women in their reproductive years. Emerging evidence suggests that the maternal-fetal immune system is … [+73208 chars]"
        ],
        [
         [
          null,
          "Plos.org"
         ],
         "Cecilia Wieder, Juliette Cooke, Clement Frainay, Nathalie Poupin, Russell Bowler, Fabien Jourdan, Katerina J. Kechris, Rachel PJ Lai, Timothy Ebbels",
         "PathIntegrate: Multivariate modelling approaches for pathway-based multi-omics data integration",
         "Author summary Omics data, which provides a readout of the levels of molecules such as genes, proteins, and metabolites in a sample, is frequently generated to study biological processes and perturbations within an organism. Combining multiple omics data type…",
         "https://journals.plos.org/ploscompbiol/article?id=10.1371/journal.pcbi.1011814",
         "https://journals.plos.org/ploscompbiol/article/figure/image?id=10.1371/journal.pcbi.1011814.g007&size=inline",
         "2024-03-25T14:00:00Z",
         "Abstract\r\nAs terabytes of multi-omics data are being generated, there is an ever-increasing need for methods facilitating the integration and interpretation of such data. Current multi-omics integrat… [+102316 chars]"
        ],
        [
         [
          null,
          "GlobeNewswire"
         ],
         "Centogene NV",
         "CENTOGENE Announces Receipt of Nasdaq Notice of Delisting and Intention to Request a Hearing",
         "Notice of Delisting Will Not Immediately Result in the Suspension or Delisting of the Company’s Securities Notice of Delisting Will Not Immediately Result in the Suspension or Delisting of the Company’s Securities",
         "https://www.globenewswire.com/news-release/2024/02/28/2836759/0/en/CENTOGENE-Announces-Receipt-of-Nasdaq-Notice-of-Delisting-and-Intention-to-Request-a-Hearing.html",
         "https://ml.globenewswire.com/Resource/Download/9db085f4-b57e-4d19-84cf-62bc960c1d57",
         "2024-02-28T11:30:00Z",
         "CAMBRIDGE, Mass. and ROSTOCK, Germany and BERLIN, Feb. 28, 2024 (GLOBE NEWSWIRE) -- Centogene N.V. (Nasdaq: CNTG) (the Company), the essential life science partner for data-driven answers in rare and… [+5655 chars]"
        ],
        [
         [
          null,
          "Marketscreener.com"
         ],
         null,
         "CENTOGENE Announces Receipt of Nasdaq Notice of Delisting and Intention to Request a Hearing",
         "(marketscreener.com) Notice of Delisting Will Not Immediately Result in the Suspension or Delisting of the Company’s SecuritiesCAMBRIDGE, Mass. and ROSTOCK, Germany and BERLIN, Feb. 28, 2024 -- Centogene N.V. , the essential life science partner for data-driv…",
         "https://www.marketscreener.com/quote/stock/CENTOGENE-N-V-74010961/news/CENTOGENE-Announces-Receipt-of-Nasdaq-Notice-of-Delisting-and-Intention-to-Request-a-Hearing-46048312/",
         "https://www.marketscreener.com/images/twitter_MS_fdblanc.png",
         "2024-02-28T11:31:02Z",
         "Notice of Delisting Will Not Immediately Result in the Suspension or Delisting of the Companys Securities\r\nCAMBRIDGE, Mass. and ROSTOCK, Germany and BERLIN, Feb. 28, 2024 (GLOBE NEWSWIRE) -- Centogen… [+5770 chars]"
        ],
        [
         [
          null,
          "Iasbaba.com"
         ],
         "IASbaba",
         "[DAY 17] 60 DAY RAPID REVISION (RaRe) SERIES for UPSC Prelims 2024 – SCIENCE AND TECHNOLOGY, CURRENT AFFAIRS & CSAT TEST SERIES!",
         "Archives Hello Friends The 60 Days Rapid Revision (RaRe) Series is IASbaba’s Flagship Initiative recommended by Toppers and loved by the aspirants’ community every year. It is the most comprehensive program which will help you complete the syllabus, revise an…",
         "https://iasbaba.com/2024/03/day-17-60-day-rapid-revision-rare-series-for-upsc-prelims-2024-science-and-technology-current-affairs-csat-test-series/",
         null,
         "2024-03-22T05:49:25Z",
         "Hello Friends\r\nThe 60 Days Rapid Revision (RaRe) Series is IASbabas Flagship Initiative recommended by Toppers and loved by the aspirants community every year.\r\nIt is the most comprehensive program w… [+34891 chars]"
        ],
        [
         [
          null,
          "GlobeNewswire"
         ],
         "AstuteAnalytica India Pvt. Ltd.",
         "Global Small Animal Imaging (In-Vivo) Market to Surpass Valuation of USD 1,902 Million by 2032: Astute Analytica",
         "Global small animal imaging (in-vivo) market is booming, driven by rising demand for preclinical research in drug development and disease modeling. North America leads, fueled by a thriving research ecosystem, strong biotech industry, and robust healthcare sp…",
         "https://www.globenewswire.com/news-release/2024/03/11/2843577/0/en/Global-Small-Animal-Imaging-In-Vivo-Market-to-Surpass-Valuation-of-USD-1-902-Million-by-2032-Astute-Analytica.html",
         "https://ml.globenewswire.com/Resource/Download/a77988df-ad1a-4619-9a4e-367c858dc70e",
         "2024-03-11T10:30:00Z",
         "New Delhi, March 11, 2024 (GLOBE NEWSWIRE) -- According to the latest study by Astute Analytica, the global small animal imaging (in-vivo) market is estimated to grow from US$ 1.053 million in 2023 t… [+14083 chars]"
        ],
        [
         [
          null,
          "GlobeNewswire"
         ],
         "MarketsandMarkets Research Pvt. Ltd.",
         "Microbiome Diagnostics Market is Expected to Reach $300 million | MarketsandMarkets™",
         "Chicago, March 13, 2024 (GLOBE NEWSWIRE) -- Microbiome Diagnostics market in terms of revenue was estimated to be worth $146 million in 2023 and is poised to reach $300 million by 2028, growing at a CAGR of 15.5% from 2023 to 2028 according to a latest report…",
         "https://www.globenewswire.com/news-release/2024/03/13/2845425/0/en/Microbiome-Diagnostics-Market-is-Expected-to-Reach-300-million-MarketsandMarkets.html",
         "https://ml.globenewswire.com/Resource/Download/afcc5182-4ae0-43a8-a965-4351d590b7ed",
         "2024-03-13T12:30:00Z",
         "Chicago, March 13, 2024 (GLOBE NEWSWIRE) -- Microbiome Diagnostics market in terms of revenue was estimated to be worth $146 million in 2023 and is poised to reach $300 million by 2028, growing at a … [+8462 chars]"
        ],
        [
         [
          null,
          "Plos.org"
         ],
         "Md. Mahmudul Hasan, Reiko Sekiya, Xu Zhang, Mhd Yousuf Yassouf, Tao-Sheng Li",
         "Comparison of hypoxia- and hyperoxia-induced alteration of epigene expression pattern in lungs of Pleurodeles waltl and Mus musculus",
         "Epigenetics is an emerging field of research because of its involvement in susceptibility to diseases and aging. Hypoxia and hyperoxia are known to be involved widely in various pathophysiologies. Here, we compared the differential epigene expression pattern …",
         "https://journals.plos.org/plosone/article?id=10.1371/journal.pone.0299661",
         "https://journals.plos.org/plosone/article/figure/image?id=10.1371/journal.pone.0299661.g005&size=inline",
         "2024-02-28T14:00:00Z",
         "Citation: Hasan MM, Sekiya R, Zhang X, Yassouf MY, Li T-S (2024) Comparison of hypoxia- and hyperoxia-induced alteration of epigene expression pattern in lungs of Pleurodeles waltl and Mus musculus. … [+24174 chars]"
        ],
        [
         [
          null,
          "Nutritionfacts.org"
         ],
         "Michael Greger M.D. FACLM",
         "Is Longevity Genetic?",
         "Based on a study of thousands of twin pairs, only about 25 percent of the difference in lifespan among people is genetically determined.",
         "https://nutritionfacts.org/video/is-longevity-genetic/",
         "https://nutritionfacts.org/app/uploads/2023/09/64-23-is-longevity-genetic-1200x675.jpg",
         "2024-03-04T12:50:24Z",
         "Below is an approximation of this videos audio content. To see any graphs, charts, graphics, images, and quotes to which Dr. Greger may be referring, watch the above video.\r\nIntro:This is one of the … [+4852 chars]"
        ],
        [
         [
          null,
          "Plos.org"
         ],
         "Nicolas Wenner, Xiaojun Zhu, Will P. M. Rowe, Kristian Händler, Jay C. D. Hinton",
         "Succinate utilisation by Salmonella is inhibited by multiple regulatory systems",
         "Author summary During infection, Salmonella enterica serovar Typhimurium must efficiently utilise the nutrients provided by the host and the microbiota. Within host niches colonised by Salmonella, key carbon source is succinate, which is abundant in both the …",
         "https://journals.plos.org/plosgenetics/article?id=10.1371/journal.pgen.1011142",
         "https://journals.plos.org/plosgenetics/article/figure/image?id=10.1371/journal.pgen.1011142.g008&size=inline",
         "2024-03-08T14:00:00Z",
         "Introduction\r\nMetabolic versatility is a key property that allows pathogenic enteric bacteria to thrive both during infection of mammals and in the wider environment [1]. C4-dicarboyxlates are an imp… [+83620 chars]"
        ],
        [
         [
          null,
          "Plos.org"
         ],
         "Jose A. Valverde-Lopez, Lin Li-Bao, Rocío Sierra, Elisa Santos, Giovanna Giovinazzo, Covadonga Díaz-Díaz, Miguel Torres",
         "P53 and BCL-2 family proteins PUMA and NOXA define competitive fitness in pluripotent cell competition",
         "Author summary Cells compete with neighbors for survival in several situations in vitro and in vivo. In mammalian embryos, this phenomenon takes place among pluripotent cells, which are those able to form all the tissues of a new organism. Cell Competition in…",
         "https://journals.plos.org/plosgenetics/article?id=10.1371/journal.pgen.1011193",
         "https://journals.plos.org/plosgenetics/article/figure/image?id=10.1371/journal.pgen.1011193.g007&size=inline",
         "2024-03-15T14:00:00Z",
         "Citation: Valverde-Lopez JA, Li-Bao L, Sierra R, Santos E, Giovinazzo G, Díaz-Díaz C, et al. (2024) P53 and BCL-2 family proteins PUMA and NOXA define competitive fitness in pluripotent cell competit… [+63427 chars]"
        ],
        [
         [
          null,
          "The BMJ"
         ],
         "Barbosa, O., Sim-Sim, M., Silvestre, M. P., Pedro, C., Cruz, D.",
         "Effects of vitamin D levels during pregnancy on prematurity: a systematic review protocol",
         "Introduction\r\n\nPrematurity is an urgent public health problem worldwide. Recent studies associate maternal hypovitaminosis D during pregnancy with an increased risk of prematurity. However, the evidence on this association remains inconclusive, and there is l…",
         "https://bmjopen.bmj.com/content/14/2/e076702",
         "https://bmjopen.bmj.com/pages/wp-content/uploads/sites/7/2019/07/bmjopen-default-cover.png",
         "2024-02-29T01:32:39Z",
         "Introduction\r\nPrematurity (birth before 37 completed weeks of gestation) is an urgent public health problem worldwide, occurring for 15million births annually. It has a prevalence of approximately 10… [+5738 chars]"
        ],
        [
         [
          null,
          "National Institutes of Health"
         ],
         null,
         "Notice of Information: NICHD to issue a Research Opportunity Announcement to support Advancing Cures and Therapies and ending ENDOmetriosis diagnostic delays - ACT ENDO (OTA Clinical Trial Optional)",
         "NIH Funding Opportunities and Notices in the NIH Guide for Grants and Contracts: Notice of Information: NICHD to issue a Research Opportunity Announcement to support Advancing Cures and Therapies and ending ENDOmetriosis diagnostic delays - ACT ENDO (OTA Clin…",
         "https://grants.nih.gov/grants/guide/notice-files/NOT-HD-24-016.html",
         null,
         "2024-03-18T13:09:18Z",
         "Eunice Kennedy Shriver National Institute of Child Health and Human Development (NICHD)\r\nThe purpose of this Notice is to alert the community that NIH plans to publish a Research Opportunity Announce… [+8062 chars]"
        ],
        [
         [
          null,
          "Plos.org"
         ],
         "Hiroko Yaguchi, Anat Melamed, Saumya Ramanayake, Helen Kiik, Aviva Witkover, Charles R. M. Bangham",
         "The impact of HTLV-1 expression on the 3D structure and expression of host chromatin",
         "Author summary The human T cell leukemia virus HTLV-1 causes an aggressive leukemia or lymphoma in ~5% of people infected with the virus, and a further 1–4% develop a chronic inflammatory disease that leads to progressive paralysis of the legs. HTLV-1 is a re…",
         "https://journals.plos.org/plospathogens/article?id=10.1371/journal.ppat.1011716",
         "https://journals.plos.org/plospathogens/article/figure/image?id=10.1371/journal.ppat.1011716.g005&size=inline",
         "2024-03-01T14:00:00Z",
         "Abstract\r\nA typical HTLV-1-infected individual carries &gt;104 different HTLV-1-infected T cell clones, each with a single-copy provirus integrated in a unique genomic site. We previously showed that… [+48475 chars]"
        ],
        [
         [
          null,
          "The BMJ"
         ],
         "Scherff, A. D., Feldmann, L., Piechaczek, C., Pehl, V., Wagenbüchler, P., Wermuth, I., Ghotbi, N., Allgaier, A.-K., Freisleder, F. J., Beins, E. C., Forstner, A. J., Nöthen, M. M., Czamara, D., Rex-Haffner, M., Ising, M., Binder, E., Greimel, E., Schulte-Körne, G.",
         "Cohort profile: BioMD-Y (biopsychosocial factors of major depression in youth) - a biobank study on the molecular genetics and environmental factors of depression in children and adolescents in Munich",
         "Purpose BioMD-Y is a comprehensive biobank study of children and adolescents with major depression (MD) and their healthy peers in Germany, collecting a host of both biological and psychosocial information from the participants and their parents with the aim …",
         "https://bmjopen.bmj.com/content/14/3/e074925",
         "https://bmjopen.bmj.com/pages/wp-content/uploads/sites/7/2019/07/bmjopen-default-cover.png",
         "2024-03-14T05:01:40Z",
         "STRENGTHS AND LIMITATIONS OF THIS STUDY\r\n<ul><li>BioMD-Y is a large biobank study of currently approx. 800 children and adolescents from Munich, Germany with (major depression) and without (typically… [+23802 chars]"
        ],
        [
         [
          null,
          "GlobeNewswire"
         ],
         "Research and Markets",
         "Pharmaceutical and Biotechnology Sector Insights: Comprehensive Analysis of Option and Evaluation Deals (2016-2024)",
         "Dublin, March 05, 2024 (GLOBE NEWSWIRE) -- The \"Option and Evaluation Deals in Pharmaceuticals and Biotechnology 2016-2024\" report has been added to ResearchAndMarkets.com's offering.",
         "https://www.globenewswire.com/news-release/2024/03/05/2840780/28124/en/Pharmaceutical-and-Biotechnology-Sector-Insights-Comprehensive-Analysis-of-Option-and-Evaluation-Deals-2016-2024.html",
         "https://ml.globenewswire.com/Resource/Download/908fb457-7f8e-4a08-9081-5565e3dfb3d7",
         "2024-03-05T17:08:00Z",
         "Dublin, March 05, 2024 (GLOBE NEWSWIRE) -- The \"Option and Evaluation Deals in Pharmaceuticals and Biotechnology 2016-2024\" report has been added to ResearchAndMarkets.com's offering.\r\nIndustry profe… [+44660 chars]"
        ],
        [
         [
          null,
          "Plos.org"
         ],
         "Xinyu Zhang, Ying Hu, Ral E. Vandenhoudt, Chunhua Yan, Vincent C. Marconi, Mardge H. Cohen, Zuoheng Wang, Amy C. Justice, Bradley E. Aouizerat, Ke Xu",
         "Computationally inferred cell-type specific epigenome-wide DNA methylation analysis unveils distinct methylation patterns among immune cells for HIV infection in three cohorts",
         "Author summary The host epigenome (i.e., the DNA methylome) plays a pivotal role in HIV-1 viral integration, maintenance, and activation or silencing. Epigenome-wide association studies have identified many DNA methylation CpG sites in bulk cells associated w…",
         "https://journals.plos.org/plospathogens/article?id=10.1371/journal.ppat.1012063",
         "https://journals.plos.org/plospathogens/article/figure/image?id=10.1371/journal.ppat.1012063.g006&size=inline",
         "2024-03-11T14:00:00Z",
         "Abstract\r\nBackground\r\nEpigenome-wide association studies (EWAS) have identified CpG sites associated with HIV infection in blood cells in bulk, which offer limited knowledge of cell-type specific met… [+71370 chars]"
        ],
        [
         [
          null,
          "GlobeNewswire"
         ],
         "INVENTIVA",
         "Inventiva to present the results of LEGEND Phase IIa combination trial with lanifibranor and empagliflozin in patients with MASH/NASH and T2D",
         "Daix (France), Long Island City (New York, United States), March 13, 2024 – Inventiva (Euronext Paris and Nasdaq: IVA) (the “Company”), a clinical-stage biopharmaceutical company focused on the development of oral small molecule therapies for the treatment of…",
         "https://www.globenewswire.com/news-release/2024/03/13/2845818/0/en/Inventiva-to-present-the-results-of-LEGEND-Phase-IIa-combination-trial-with-lanifibranor-and-empagliflozin-in-patients-with-MASH-NASH-and-T2D.html",
         "https://ml-eu.globenewswire.com/Resource/Download/d96e203b-8941-46c7-888a-508900ab9a8b",
         "2024-03-13T20:00:00Z",
         "Daix (France), Long Island City (New York, United States), March 13, 2024 Inventiva (Euronext Paris and Nasdaq: IVA) (the Company), a clinical-stage biopharmaceutical company focused on the developme… [+12745 chars]"
        ],
        [
         [
          null,
          "Marketscreener.com"
         ],
         null,
         "Inventiva to present the results of LEGEND Phase IIa combination trial with lanifibranor and empagliflozin in patients with MASH/NASH and T2D",
         "(marketscreener.com) Daix , Long Island City , March 13, 2024 – Inventiva , a clinical-stage biopharmaceutical company focused on the development of oral small molecule therapies for the treatment of metabolic dysfunction-associated steatohepatitis , formerly…",
         "https://www.marketscreener.com/quote/stock/INVENTIVA-34031212/news/Inventiva-to-present-the-results-of-LEGEND-Phase-IIa-combination-trial-with-lanifibranor-and-empagli-46164084/",
         "https://www.marketscreener.com/images/twitter_MS_fdnoir.png",
         "2024-03-13T20:01:01Z",
         "Daix (France), Long Island City (New York, United States), March 13, 2024 Inventiva (Euronext Paris and Nasdaq: IVA) (the Company), a clinical-stage biopharmaceutical company focused on the developme… [+13317 chars]"
        ],
        [
         [
          null,
          "National Institutes of Health"
         ],
         null,
         "Notice of Special Interest: Womens Health Research",
         "NIH Funding Opportunities and Notices in the NIH Guide for Grants and Contracts: Notice of Special Interest: Womens Health Research NOT-OD-24-079. ORWH",
         "https://grants.nih.gov/grants/guide/notice-files/NOT-OD-24-079.html",
         null,
         "2024-03-26T12:41:14Z",
         "Notice of Special Interest: Women’s Health Research\r\nMarch 26, 2024\r\nFirst Available Due Date: \r\n<ul><li>December 8, 2023 – Notice of Special Interest: Health Influences of Gender as a Social and Str… [+69219 chars]"
        ],
        [
         [
          null,
          "Marketscreener.com"
         ],
         null,
         "Inventiva announces positive results from the Phase II, LEGEND, Proof-of-Concept study combining lanifibranor with empagliflozin in patients with MASH/NASH and T2D",
         "(marketscreener.com) LEGEND achieved its primary efficacy endpoint by significantly lowering HbA1c level in both the lanifibranor arm and in the lanifibranor with empagliflozin arm compared to placebo.Statistical significance was also achieved on several mark…",
         "https://www.marketscreener.com/quote/stock/INVENTIVA-34031212/news/Inventiva-announces-positive-results-from-the-Phase-II-LEGEND-Proof-of-Concept-study-combining-lan-46224793/",
         "https://www.marketscreener.com/images/twitter_MS_fdblanc.png",
         "2024-03-18T20:01:01Z",
         "<ul><li>LEGEND achieved its primary efficacy endpoint by significantly lowering HbA1c level in both the lanifibranor arm and in the lanifibranor with empagliflozin arm compared to placebo.</li><li>St… [+24201 chars]"
        ],
        [
         [
          null,
          "National Institutes of Health"
         ],
         null,
         "Exploring Proteogenomic Approaches to Unravel the Mechanisms of Mis-Folded Protein Accumulation in Tauopathies (R01 Clinical Trial Not Allowed)",
         "Funding Opportunity RFA-AG-25-017 from the NIH Guide for Grants and Contracts. This funding opportunity invites innovative research proposals to explore the accumulation of misprocessed proteins in Tauopathies within specific brain regions and cell types. We …",
         "https://grants.nih.gov/grants/guide/rfa-files/RFA-AG-25-017.html",
         null,
         "2024-03-13T14:51:17Z",
         "Participating Organization(s) \r\nNational Institutes of Health (NIH)\r\nComponents of Participating Organizations \r\nNational Institute on\r\n Aging (NIA) \r\nFunding Opportunity Title \r\nExploring Proteogeno… [+42600 chars]"
        ],
        [
         [
          null,
          "Plos.org"
         ],
         "Jing Zhou, Tianjiao Wang, Haoran Zhang, Jianhong Liu, Pengjun Wei, Ruoqi Xu, Qin Yan, Guochun Chen, Wan Li, Shou-Jiang Gao, Chun Lu",
         "KSHV vIL-6 promotes SIRT3-induced deacetylation of SERBP1 to inhibit ferroptosis and enhance cellular transformation by inducing lipoyltransferase 2 mRNA degradation",
         "Author summary Ferroptosis has been implicated in viral infections and the development of cancers, however, its role in oncogenic Kaposi’s sarcoma-associated herpesvirus (KSHV)-induced cancers is still unknown. Although abnormal protein lysine acetylation mod…",
         "https://journals.plos.org/plospathogens/article?id=10.1371/journal.ppat.1012082",
         "https://journals.plos.org/plospathogens/article/figure/image?id=10.1371/journal.ppat.1012082.g007&size=inline",
         "2024-03-12T14:00:00Z",
         "Abstract\r\nFerroptosis, a defensive strategy commonly employed by the host cells to restrict pathogenic infections, has been implicated in the development and therapeutic responses of various types of… [+77980 chars]"
        ],
        [
         [
          null,
          "Plos.org"
         ],
         "Michael A. Sun, Haipei Yao, Qing Yang, Christopher J. Pirozzi, Vidyalakshmi Chandramohan, David M. Ashley, Yiping He",
         "Gene expression analysis suggests immunosuppressive roles of endolysosomes in glioblastoma",
         "Targeting endolysosomes is a strategy extensively pursued for treating cancers, including glioblastomas (GBMs), on the basis that the intact function of these subcellular organelles is key to tumor cell autophagy and survival. Through gene expression analyses…",
         "https://journals.plos.org/plosone/article?id=10.1371/journal.pone.0299820",
         "https://journals.plos.org/plosone/article/figure/image?id=10.1371/journal.pone.0299820.g004&size=inline",
         "2024-03-20T14:00:00Z",
         "Citation: Sun MA, Yao H, Yang Q, Pirozzi CJ, Chandramohan V, Ashley DM, et al. (2024) Gene expression analysis suggests immunosuppressive roles of endolysosomes in glioblastoma. PLoS ONE 19(3):\r\n e02… [+36997 chars]"
        ],
        [
         [
          null,
          "Plos.org"
         ],
         "Molly J. Sullan, Kelly A. Stearns-Yoder, Zhaoyu Wang, Andrew J. Hoisington, Adam D. Bramoweth, Walter Carr, Yongchao Ge, Hanga Galfalvy, Fatemah Haghighi, Lisa A. Brenner",
         "Study protocol: Identifying transcriptional regulatory alterations of chronic effects of blast and disturbed sleep in United States Veterans",
         "Injury related to blast exposure dramatically rose during post-911 era military conflicts in Iraq and Afghanistan. Mild traumatic brain injury (mTBI) is among the most common injuries following blast, an exposure that may not result in a definitive physiologi…",
         "https://journals.plos.org/plosone/article?id=10.1371/journal.pone.0301026",
         "https://journals.plos.org/plosone/article/figure/image?id=10.1371/journal.pone.0301026.t004&size=inline",
         "2024-03-27T14:00:00Z",
         "Citation: Sullan MJ, Stearns-Yoder KA, Wang Z, Hoisington AJ, Bramoweth AD, Carr W, et al. (2024) Study protocol: Identifying transcriptional regulatory alterations of chronic effects of blast and di… [+37249 chars]"
        ],
        [
         [
          null,
          "Investing.com"
         ],
         "Investing.com",
         "Earnings call: Personalis sees solid growth, targets $100M by 2025",
         "Earnings call: Personalis sees solid growth, targets $100M by 2025",
         "https://www.investing.com/news/stock-market-news/earnings-call-personalis-sees-solid-growth-targets-100m-by-2025-93CH-3322170",
         "https://i-invdn-com.investing.com/news/LYNXMPEBBR0PM_L.jpg",
         "2024-03-01T19:51:49Z",
         "Personalis, Inc. (NASDAQ: NASDAQ:PSNL) has demonstrated a strong financial performance in the fourth quarter and throughout the full year of 2023, achieving $73.5 million in revenue, which marks a 13… [+43505 chars]"
        ],
        [
         [
          null,
          "National Institutes of Health"
         ],
         null,
         "Elucidating Mechanisms Associated with HIV Related Co-Morbidities in Populations Experiencing Health Disparities (R01 - Clinical Trials Not Allowed)",
         "Funding Opportunity RFA-MD-24-005 from the NIH Guide for Grants and Contracts. The purpose of this initiative is to support research to determine the underlying mechanisms that contribute to health disparities in HIV and aging and how multiple comorbidities i…",
         "https://grants.nih.gov/grants/guide/rfa-files/RFA-MD-24-005.html",
         null,
         "2024-03-01T17:52:48Z",
         "Participating Organization(s) \r\nNational Institutes of Health (NIH)\r\nComponents of Participating Organizations \r\nNational Institute on Minority Health and Health Disparities (NIMHD)\r\nNational Institu… [+54278 chars]"
        ],
        [
         [
          null,
          "Plos.org"
         ],
         "Chloe Pelletier, Sophie Shaw, Sakinah Alsayegh, Alistair J. P. Brown, Alexander Lorenz",
         "Candida auris undergoes adhesin-dependent and -independent cellular aggregation",
         "Author summary Candida auris is a single-celled fungus, a yeast, that can cause severe infections in hospital patients. This fungus is difficult to treat because it is resistant to many antifungal drugs. Therefore, to understand the processes that enhance the…",
         "https://journals.plos.org/plospathogens/article?id=10.1371/journal.ppat.1012076",
         "https://journals.plos.org/plospathogens/article/figure/image?id=10.1371/journal.ppat.1012076.g009&size=inline",
         "2024-03-11T14:00:00Z",
         "Abstract\r\nCandida auris is a fungal pathogen of humans responsible for nosocomial infections with high mortality rates. High levels of resistance to antifungal drugs and environmental persistence mea… [+82157 chars]"
        ],
        [
         [
          null,
          "Plos.org"
         ],
         "Zhican Huang, Ting Cui, Jin Yao, Yutong Wu, Jun Zhu, Xin Yang, Li Cui, Haiyan Zhou",
         "Potential association of genetically predicted lipid and lipid-modifying drugs with rheumatoid arthritis: A Mendelian randomization study",
         "Background Past studies have demonstrated that patients diagnosed with rheumatoid arthritis (RA) often exhibit abnormal levels of lipids. Furthermore, certain lipid-modifying medications have shown effectiveness in alleviating clinical symptoms associated wit…",
         "https://journals.plos.org/plosone/article?id=10.1371/journal.pone.0298629",
         "https://journals.plos.org/plosone/article/figure/image?id=10.1371/journal.pone.0298629.g006&size=inline",
         "2024-02-28T14:00:00Z",
         "Abstract\r\nBackground\r\nPast studies have demonstrated that patients diagnosed with rheumatoid arthritis (RA) often exhibit abnormal levels of lipids. Furthermore, certain lipid-modifying medications h… [+43498 chars]"
        ],
        [
         [
          null,
          "National Institutes of Health"
         ],
         null,
         "Leveraging Data at Scale to Understand Natural Product Impacts on Whole Person Health (R01 Clinical Trial Not Allowed)",
         "Funding Opportunity RFA-AT-24-008 from the NIH Guide for Grants and Contracts. This notice of funding opportunity (NOFO) will support development, adaptation, and/or applications of computational tools to aggregate and analyze orthogonal chemical and/or biolo…",
         "https://grants.nih.gov/grants/guide/rfa-files/RFA-AT-24-008.html",
         null,
         "2024-03-05T06:47:07Z",
         "Participating Organization(s) \r\nNational Institutes of Health (NIH)\r\nComponents of Participating Organizations \r\nNational Center for Complementary and Integrative Health (NCCIH)\r\nAll applications to … [+55566 chars]"
        ],
        [
         [
          null,
          "Theepochtimes.com"
         ],
         "Yuhong Dong",
         "Genes Don’t Tell the Whole Story of Life",
         "For over 70 years, scientists have believed they’ve unraveled the mystery of life through genes. But is this really true?",
         "https://www.theepochtimes.com/health/genes-dont-tell-the-whole-story-of-life-5588292",
         "https://img.theepochtimes.com/assets/uploads/2024/03/14/id5607575-Shutterstock_1440959093-1080x720.jpg",
         "2024-03-19T10:19:50Z",
         "Health Viewpoints\r\n1953 was a monumental year in biomedicine. It was a year when two Nobel Prize laureates, James Watson and British physicist Francis Crick, unveiled the double helix structure of DN… [+10193 chars]"
        ],
        [
         [
          null,
          "Plos.org"
         ],
         "Mingzhu Chen, Shuisen Lin, Wanqiong Chen, Xiaoqiang Chen",
         "Antidiabetic drug administration prevents bone mineral density loss: Evidence from a two-sample Mendelian randomization study",
         "The aim of this study was to investigate the effect of common antidiabetic drugs on BMD by two-sample Mendelian randomization (MR). The single nucleotide polymorphisms that were strongly associated with insulin, metformin, rosiglitazone and gliclazide were ex…",
         "https://journals.plos.org/plosone/article?id=10.1371/journal.pone.0300009",
         "https://journals.plos.org/plosone/article/figure/image?id=10.1371/journal.pone.0300009.g003&size=inline",
         "2024-03-07T14:00:00Z",
         "Abstract\r\nThe aim of this study was to investigate the effect of common antidiabetic drugs on BMD by two-sample Mendelian randomization (MR). The single nucleotide polymorphisms that were strongly as… [+36467 chars]"
        ],
        [
         [
          null,
          "Plos.org"
         ],
         "Edward Gilbert, Anamarija Žagar, Marta López-Darias, Rodrigo Megía-Palma, Karen A. Lister, Max Dolton Jones, Miguel A. Carretero, Nina Serén, Pedro Beltran-Alvarez, Katharina C. Wollenberg Valero",
         "Environmental factors influence cross-talk between a heat shock protein and an oxidative stress protein modification in the lizard Gallotia galloti",
         "Better understanding how organisms respond to their abiotic environment, especially at the biochemical level, is critical in predicting population trajectories under climate change. In this study, we measured constitutive stress biomarkers and protein post-tr…",
         "https://journals.plos.org/plosone/article?id=10.1371/journal.pone.0300111",
         "https://journals.plos.org/plosone/article/figure/image?id=10.1371/journal.pone.0300111.g004&size=inline",
         "2024-03-12T14:00:00Z",
         "Abstract\r\nBetter understanding how organisms respond to their abiotic environment, especially at the biochemical level, is critical in predicting population trajectories under climate change. In this… [+69628 chars]"
        ],
        [
         [
          null,
          "Thefreedictionary.com"
         ],
         null,
         "Synesthesia: Hearing Colors and Tasting Sounds",
         "Synesthesia is a condition in which one type of sensory stimulus evokes sensations associated with a different sense, as when hearing a sound stimulates the visualization of a color. Approximately 1 in 2,000 people have the condition, and most of those affect…",
         "https://encyclopedia.thefreedictionary.com/synesthesia",
         "http://img.tfd.com/TFDlogo1200x1200.png",
         "2024-03-11T04:20:01Z",
         "For other uses, see Synesthesia (disambiguation).\r\nNot to be confused with Synthesia.\r\nSynesthesia (also spelled synæsthesia or synaesthesia; from the Ancient Greekσύνsyn, \"together\", and αἴσθησιςais… [+51189 chars]"
        ],
        [
         [
          null,
          "Plos.org"
         ],
         "Andrea Pinkeova, Adela Tomikova, Aniko Bertokova, Eva Fabinyova, Radka Bartova, Eduard Jane, Stefania Hroncekova, Karl-Dietrich Sievert, Roman Sokol, Michal Jirasko, Radek Kucera, Iris E. Eder, Wolfgang Horninger, Helmut Klocker, Petra Ďubjaková, Juraj Fillo, Tomas Bertok, Jan Tkac",
         "Glycoprofiling of proteins as prostate cancer biomarkers: A multinational population study",
         "The glycoprofiling of two proteins, the free form of the prostate-specific antigen (fPSA) and zinc-α-2-glycoprotein (ZA2G), was assessed to determine their suitability as prostate cancer (PCa) biomarkers. The glycoprofiling of proteins was performed by analys…",
         "https://journals.plos.org/plosone/article?id=10.1371/journal.pone.0300430",
         "https://journals.plos.org/plosone/article/figure/image?id=10.1371/journal.pone.0300430.g007&size=inline",
         "2024-03-18T14:00:00Z",
         "Abstract\r\nThe glycoprofiling of two proteins, the free form of the prostate-specific antigen (fPSA) and zinc--2-glycoprotein (ZA2G), was assessed to determine their suitability as prostate cancer (PC… [+42682 chars]"
        ],
        [
         [
          null,
          "Plos.org"
         ],
         "Talat Shama, Justin M. O’Sullivan, Navin Rahman, Shahria H. Kakon, Fahmida Tofail, Md Iqbal Hossain, Mamane Zeilani, Rashidul Haque, Peter Gluckman, Terrence Forrester, Charles A. Nelson",
         "Multidimensional evaluation of the early emergence of executive function and development in Bangladeshi children using nutritional and psychosocial intervention: A randomized controlled trial protocol",
         "Introduction Reversing malnutrition-induced impairment of cognition and emotional regulation is a critical global gap. We hypothesize that brain-targeted micronutrient supplemented nutritional rehabilitation in children with moderate acute malnutrition, follo…",
         "https://journals.plos.org/plosone/article?id=10.1371/journal.pone.0296529",
         "https://journals.plos.org/plosone/article/figure/image?id=10.1371/journal.pone.0296529.g002&size=inline",
         "2024-03-15T14:00:00Z",
         "Citation: Shama T, OSullivan JM, Rahman N, Kakon SH, Tofail F, Hossain MI, et al. (2024) Multidimensional evaluation of the early emergence of executive function and development in Bangladeshi childr… [+34610 chars]"
        ],
        [
         [
          null,
          "Plos.org"
         ],
         "Katherine Cordero Padilla, Gerardo Alvarado Monefeldt, Adriel Guevárez Galán, Hector G. Marrero, Mario E. Lloret-Torres, Cristina Velázquez-Marrero",
         "BK ZERO isoform HEK293 stably transfected cell lines differing 3’UTRs to assess miR-9 regulation",
         "Research has identified the large conductance voltage- and calcium-activated potassium channel (BK) as a key regulator of neuronal excitability genetically associated to behavioral alcohol tolerance. Sensitivity to ethanol at the molecular level is characteri…",
         "https://journals.plos.org/plosone/article?id=10.1371/journal.pone.0298966",
         "https://journals.plos.org/plosone/article/figure/image?id=10.1371/journal.pone.0298966.g006&size=inline",
         "2024-03-19T14:00:00Z",
         "Citation: Cordero Padilla K, Monefeldt GA, Guevárez Galán A, Marrero HG, Lloret-Torres ME, Velázquez-Marrero C (2024) BK ZERO isoform HEK293 stably transfected cell lines differing 3UTRs to assess mi… [+26528 chars]"
        ]
       ],
       "datasetInfos": [],
       "dbfsResultPath": null,
       "isJsonSchema": true,
       "metadata": {},
       "overflow": false,
       "plotOptions": {
        "customPlotOptions": {},
        "displayType": "table",
        "pivotAggregation": null,
        "pivotColumns": null,
        "xColumns": null,
        "yColumns": null
       },
       "removedWidgets": [],
       "schema": [
        {
         "metadata": "{}",
         "name": "source",
         "type": "{\"type\":\"struct\",\"fields\":[{\"name\":\"id\",\"type\":\"string\",\"nullable\":true,\"metadata\":{}},{\"name\":\"name\",\"type\":\"string\",\"nullable\":true,\"metadata\":{}}]}"
        },
        {
         "metadata": "{}",
         "name": "author",
         "type": "\"string\""
        },
        {
         "metadata": "{}",
         "name": "title",
         "type": "\"string\""
        },
        {
         "metadata": "{}",
         "name": "description",
         "type": "\"string\""
        },
        {
         "metadata": "{}",
         "name": "url",
         "type": "\"string\""
        },
        {
         "metadata": "{}",
         "name": "urlToImage",
         "type": "\"string\""
        },
        {
         "metadata": "{}",
         "name": "publishedAt",
         "type": "\"string\""
        },
        {
         "metadata": "{}",
         "name": "content",
         "type": "\"string\""
        }
       ],
       "type": "table"
      }
     },
     "output_type": "display_data"
    }
   ],
   "source": [
    "import requests\n",
    "from pyspark.sql import SparkSession\n",
    "import pandas as pd\n",
    "from pyspark.sql.types import StructType, StructField, StringType\n",
    "\n",
    "API_KEY = '9cfe8d8ea7cf42c480f8e1556dda0eea'\n",
    "\n",
    "base_url = 'https://newsapi.org/v2/everything'\n",
    "\n",
    "query = '(epigenetics OR epigenetic OR epigenomics OR epigenetic OR epigenomic) AND (disease OR sickness OR sick) AND (genomic OR genomics OR gene)'\n",
    "\n",
    "response = requests.get(url=base_url, params={'q': query, 'apiKey': API_KEY})\n",
    "response = response.json()\n",
    "response = response['articles']\n",
    "\n",
    "spark = SparkSession.builder.appName('example').getOrCreate()\n",
    "\n",
    "schema = StructType([\n",
    "    StructField(\"source\", StructType([\n",
    "        StructField(\"id\", StringType(), True),\n",
    "        StructField(\"name\", StringType(), True)\n",
    "    ]), True),\n",
    "    StructField(\"author\", StringType(), True),\n",
    "    StructField(\"title\", StringType(), True),\n",
    "    StructField(\"description\", StringType(), True),\n",
    "    StructField(\"url\", StringType(), True),\n",
    "    StructField(\"urlToImage\", StringType(), True),\n",
    "    StructField(\"publishedAt\", StringType(), True),\n",
    "    StructField(\"content\", StringType(), True),\n",
    "])\n",
    "\n",
    "epigenetics_df = spark.createDataFrame(response, schema=schema)\n",
    "\n",
    "epigenetics_df.display()"
   ]
  },
  {
   "cell_type": "code",
   "execution_count": 0,
   "metadata": {
    "application/vnd.databricks.v1+cell": {
     "cellMetadata": {
      "byteLimit": 2048000,
      "rowLimit": 10000
     },
     "inputWidgets": {},
     "nuid": "5d6d3401-7eda-417a-b05c-9dafdc4743bf",
     "showTitle": false,
     "title": ""
    }
   },
   "outputs": [],
   "source": []
  }
 ],
 "metadata": {
  "application/vnd.databricks.v1+notebook": {
   "dashboards": [],
   "language": "python",
   "notebookMetadata": {
    "mostRecentlyExecutedCommandWithImplicitDF": {
     "commandId": -1,
     "dataframes": [
      "_sqldf"
     ]
    },
    "pythonIndentUnit": 2
   },
   "notebookName": "Extração_de_Dados_1",
   "widgets": {}
  }
 },
 "nbformat": 4,
 "nbformat_minor": 0
}
