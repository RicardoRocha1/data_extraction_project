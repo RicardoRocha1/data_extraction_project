{
 "cells": [
  {
   "cell_type": "markdown",
   "metadata": {
    "application/vnd.databricks.v1+cell": {
     "cellMetadata": {
      "byteLimit": 2048000,
      "rowLimit": 10000
     },
     "inputWidgets": {},
     "nuid": "33bad7bd-ba8a-4fdb-9d9e-5951efa9ab2d",
     "showTitle": false,
     "title": ""
    }
   },
   "source": [
    "# Projeto - Extração de Dados I\n",
    "\n",
    "## Sistema de Monitoramento de Avanços no Campo da Genômica\n",
    "\n",
    "### Contexto:\n",
    "\n",
    "O grupo trabalha no time de engenharia de dados na HealthGen, uma empresa especializada em genômica e pesquisa de medicina personalizada. A genômica é o estudo do conjunto completo de genes de um organismo, desempenha um papel fundamental na medicina personalizada e na pesquisa biomédica. Permite a análise do DNA para identificar variantes genéticas e mutações associadas a doenças e facilita a personalização de tratamentos com base nas características genéticas individuais dos pacientes.\n",
    "\n",
    "A empresa precisa se manter atualizada sobre os avanços mais recentes na genômica, identificar oportunidades para pesquisa e desenvolvimento de tratamentos personalizados e acompanhar as tendências em genômica que podem influenciar estratégias de pesquisa e desenvolvimento. Pensando nisso, o time de dados apresentou uma proposta de desenvolvimento de um sistema que coleta, analisa e apresenta as últimas notícias relacionadas à genômica e à medicina personalizada, e também estuda o avanço do campo nos últimos anos.\n",
    "\n",
    "O time de engenharia de dados tem como objetivo desenvolver e garantir um pipeline de dados confiável e estável. As principais atividades são:\n",
    "\n",
    "1. **Consumo de dados com a News API**:\n",
    "    - Implementar um mecanismo para consumir dados de notícias de fontes confiáveis e especializadas em genômica e medicina personalizada, a partir da News API:\n",
    "      [https://newsapi.org/](https://newsapi.org/)\n",
    "\n",
    "2. **Definir Critérios de Relevância**:\n",
    "    - Desenvolver critérios precisos de relevância para filtrar as notícias. Por exemplo, o time pode se concentrar em notícias que mencionem avanços em sequenciamento de DNA, terapias genéticas personalizadas ou descobertas relacionadas a doenças genéticas específicas.\n",
    "\n",
    "3. **Cargas em Batches**:\n",
    "    - Armazenar as notícias relevantes em um formato estruturado e facilmente acessível para consultas e análises posteriores. Essa carga deve acontecer 1 vez por hora. Se as notícias extraídas já tiverem sido armazenadas na carga anterior, o processo deve ignorar e não armazenar as notícias novamente, os dados carregados não podem ficar duplicados.\n",
    "\n",
    "4. **Dados transformados para consulta do público final**:\n",
    "    - A partir dos dados carregados, aplicar as seguintes transformações e armazenar o resultado final para a consulta do público final:\n",
    "        - Quantidade de notícias por ano, mês e dia de publicação;\n",
    "        - Quantidade de notícias por fonte e autor;\n",
    "        - Quantidade de aparições de 3 palavras-chave por ano, mês e dia de publicação (as 3 palavras-chave serão as mesmas usadas para fazer os filtros de relevância do item 2 (2. Definir Critérios de Relevância)).\n",
    "    - Atualizar os dados transformados 1 vez por dia."
   ]
  },
  {
   "cell_type": "markdown",
   "metadata": {
    "application/vnd.databricks.v1+cell": {
     "cellMetadata": {
      "byteLimit": 2048000,
      "rowLimit": 10000
     },
     "inputWidgets": {},
     "nuid": "c4ac4c8d-fd7c-4b6e-9100-81b7df99f3b0",
     "showTitle": false,
     "title": ""
    }
   },
   "source": [
    "## ETL\n",
    "Accessing the API utilizing the chosen keywords and their synonyms, structuring the data and saving it in a delta table without duplicates."
   ]
  },
  {
   "cell_type": "code",
   "execution_count": 0,
   "metadata": {
    "application/vnd.databricks.v1+cell": {
     "cellMetadata": {
      "byteLimit": 2048000,
      "rowLimit": 10000
     },
     "inputWidgets": {},
     "nuid": "8b6052f4-1468-4f9a-885d-4da08a10cc09",
     "showTitle": false,
     "title": ""
    }
   },
   "outputs": [],
   "source": [
    "import requests\n",
    "from pyspark.sql import SparkSession\n",
    "import pandas as pd\n",
    "from pyspark.sql.types import StructType, StructField, StringType\n",
    "from pyspark.sql.functions import col\n",
    "\n",
    "API_KEY = '9cfe8d8ea7cf42c480f8e1556dda0eea'\n",
    "base_url = 'https://newsapi.org/v2/everything'\n",
    "query = '(epigenetics OR epigenetic OR epigenomics OR epigenetic OR epigenomic) OR (disease OR sickness OR sick) OR (genomic OR genomics OR gene)'\n",
    "\n",
    "response = requests.get(url=base_url, params={'q': query, 'apiKey': API_KEY})\n",
    "response = response.json()\n",
    "response = response['articles']\n",
    "\n",
    "spark = SparkSession.builder.appName('epigenetics_api').getOrCreate()\n",
    "\n",
    "schema = StructType([\n",
    "    StructField(\"source\", StructType([\n",
    "        StructField(\"id\", StringType(), True),\n",
    "        StructField(\"name\", StringType(), True)\n",
    "    ]), True),\n",
    "    StructField(\"author\", StringType(), True),\n",
    "    StructField(\"title\", StringType(), True),\n",
    "    StructField(\"description\", StringType(), True),\n",
    "    StructField(\"url\", StringType(), True),\n",
    "    StructField(\"urlToImage\", StringType(), True),\n",
    "    StructField(\"publishedAt\", StringType(), True),\n",
    "    StructField(\"content\", StringType(), True),\n",
    "])\n",
    "\n",
    "epigenetics_df = spark.createDataFrame(response, schema=schema)\n",
    "\n",
    "try:    \n",
    "    table_df = spark.sql(\"\"\"\n",
    "        SELECT *\n",
    "        FROM epigenetics_tb\n",
    "    \"\"\")\n",
    "    joined_df = epigenetics_df.union(table_df)\n",
    "    joined_df = joined_df.dropDuplicates(['description'])\n",
    "    joined_df = joined_df.filter(joined_df.title != '[Removed]')\n",
    "    joined_df.write.format(\"delta\").mode(\"overwrite\").saveAsTable(\"epigenetics_tb\")\n",
    "except:\n",
    "    print(\"No table exists.\\nCreating table.\")\n",
    "    epigenetics_df = epigenetics_df.dropDuplicates(['description'])\n",
    "    epigenetics_df = epigenetics_df.filter(epigenetics_df.title != '[Removed]')\n",
    "    epigenetics_df.write.format(\"delta\").mode(\"overwrite\").saveAsTable(\"epigenetics_tb\")"
   ]
  },
  {
   "cell_type": "markdown",
   "metadata": {
    "application/vnd.databricks.v1+cell": {
     "cellMetadata": {
      "byteLimit": 2048000,
      "rowLimit": 10000
     },
     "inputWidgets": {},
     "nuid": "a0c1f117-582a-409a-93e4-55e7654e3da3",
     "showTitle": false,
     "title": ""
    }
   },
   "source": [
    "## Preparing the data to be displayed, in the format provided in item 4.\n",
    "Data can be consulted both in SQL views or in dataframes, which are automatically displayed here."
   ]
  },
  {
   "cell_type": "code",
   "execution_count": 0,
   "metadata": {
    "application/vnd.databricks.v1+cell": {
     "cellMetadata": {
      "byteLimit": 2048000,
      "implicitDf": true,
      "rowLimit": 10000
     },
     "inputWidgets": {},
     "nuid": "7a7383a9-6186-40a3-bcf2-7318a28079ca",
     "showTitle": false,
     "title": ""
    }
   },
   "outputs": [
    {
     "output_type": "display_data",
     "data": {
      "text/html": [
       "<style scoped>\n",
       "  .table-result-container {\n",
       "    max-height: 300px;\n",
       "    overflow: auto;\n",
       "  }\n",
       "  table, th, td {\n",
       "    border: 1px solid black;\n",
       "    border-collapse: collapse;\n",
       "  }\n",
       "  th, td {\n",
       "    padding: 5px;\n",
       "  }\n",
       "  th {\n",
       "    text-align: left;\n",
       "  }\n",
       "</style><div class='table-result-container'><table class='table-result'><thead style='background-color: white'><tr></tr></thead><tbody></tbody></table></div>"
      ]
     },
     "metadata": {
      "application/vnd.databricks.v1+output": {
       "addedWidgets": {},
       "aggData": [],
       "aggError": "",
       "aggOverflow": false,
       "aggSchema": [],
       "aggSeriesLimitReached": false,
       "aggType": "",
       "arguments": {},
       "columnCustomDisplayInfos": {},
       "data": [],
       "datasetInfos": [],
       "dbfsResultPath": null,
       "isJsonSchema": true,
       "metadata": {},
       "overflow": false,
       "plotOptions": {
        "customPlotOptions": {},
        "displayType": "table",
        "pivotAggregation": null,
        "pivotColumns": null,
        "xColumns": null,
        "yColumns": null
       },
       "removedWidgets": [],
       "schema": [],
       "type": "table"
      }
     },
     "output_type": "display_data"
    }
   ],
   "source": [
    "%sql\n",
    "-- Quantidade de notícias por ano, mês e dia de publicação;\n",
    "CREATE OR REPLACE VIEW day_ordered_view AS\n",
    "SELECT LEFT(publishedAt, 10) AS date_published, COUNT(publishedAt) AS count\n",
    "FROM epigenetics_tb\n",
    "GROUP BY date_published\n",
    "ORDER BY date_published;\n",
    "\n",
    "CREATE OR REPLACE VIEW month_ordered_view AS\n",
    "SELECT LEFT(publishedAt, 7) AS date_published, COUNT(publishedAt) AS count\n",
    "FROM epigenetics_tb\n",
    "GROUP BY date_published\n",
    "ORDER BY date_published;\n",
    "\n",
    "CREATE OR REPLACE VIEW year_ordered_view AS\n",
    "SELECT LEFT(publishedAt, 4) AS date_published, COUNT(publishedAt) AS count\n",
    "FROM epigenetics_tb\n",
    "GROUP BY date_published\n",
    "ORDER BY date_published;\n",
    "\n",
    "-- Quantidade de notícias por fonte e autor;\n",
    "CREATE OR REPLACE VIEW author_count_view AS\n",
    "SELECT author, COUNT(author) AS count\n",
    "FROM epigenetics_tb\n",
    "GROUP BY author;\n",
    "\n",
    "CREATE OR REPLACE VIEW source_count_view AS\n",
    "SELECT source.name AS source, COUNT(source.name) AS count\n",
    "FROM epigenetics_tb\n",
    "GROUP BY source.name;\n",
    "\n",
    "-- Quantidade de aparições de 3 palavras-chave por ano, mês e dia de publicação (as 3 palavras-chave serão as mesmas usadas para fazer os filtros de relevância do item 2 (2. Definir Critérios de Relevância))\n",
    "CREATE OR REPLACE VIEW keyword_day_view AS\n",
    "SELECT LEFT(publishedAt, 10) AS date_published, \n",
    "       SUM(CASE WHEN LOWER(description) LIKE '%epigen%' OR LOWER(title) LIKE '%epigen%' OR LOWER(content) LIKE '%epigen%' THEN 1 ELSE 0 END) AS epigenetic_keyword_count,\n",
    "       SUM(CASE WHEN LOWER(description) LIKE '%sick%' OR LOWER(title) LIKE '%sick%' OR LOWER(content) LIKE '%sick%' OR LOWER(description) LIKE '%disease%' OR LOWER(title) LIKE '%disease%' OR LOWER(content) LIKE '%disease%' THEN 1 ELSE 0 END) AS disease_keyword_count,\n",
    "       SUM(CASE WHEN LOWER(description) LIKE '%gene%' OR LOWER(title) LIKE '%gene%' OR LOWER(content) LIKE '%gene%' OR LOWER(description) LIKE '%genom%' OR LOWER(title) LIKE '%genom%' OR LOWER(content) LIKE '%genom%' THEN 1 ELSE 0 END) AS gene_keyword_count\n",
    "FROM epigenetics_tb\n",
    "GROUP BY date_published\n",
    "ORDER BY date_published;\n",
    "\n",
    "CREATE OR REPLACE VIEW keyword_month_view AS\n",
    "SELECT LEFT(publishedAt, 7) AS date_published, \n",
    "       SUM(CASE WHEN LOWER(description) LIKE '%epigen%' OR LOWER(title) LIKE '%epigen%' OR LOWER(content) LIKE '%epigen%' THEN 1 ELSE 0 END) AS epigenetic_keyword_count,\n",
    "       SUM(CASE WHEN LOWER(description) LIKE '%sick%' OR LOWER(title) LIKE '%sick%' OR LOWER(content) LIKE '%sick%' OR LOWER(description) LIKE '%disease%' OR LOWER(title) LIKE '%disease%' OR LOWER(content) LIKE '%disease%' THEN 1 ELSE 0 END) AS disease_keyword_count,\n",
    "       SUM(CASE WHEN LOWER(description) LIKE '%gene%' OR LOWER(title) LIKE '%gene%' OR LOWER(content) LIKE '%gene%' OR LOWER(description) LIKE '%genom%' OR LOWER(title) LIKE '%genom%' OR LOWER(content) LIKE '%genom%' THEN 1 ELSE 0 END) AS gene_keyword_count\n",
    "FROM epigenetics_tb\n",
    "GROUP BY date_published\n",
    "ORDER BY date_published;\n",
    "\n",
    "CREATE OR REPLACE VIEW keyword_year_view AS\n",
    "SELECT LEFT(publishedAt, 4) AS date_published, \n",
    "       SUM(CASE WHEN LOWER(description) LIKE '%epigen%' OR LOWER(title) LIKE '%epigen%' OR LOWER(content) LIKE '%epigen%' THEN 1 ELSE 0 END) AS epigenetic_keyword_count,\n",
    "       SUM(CASE WHEN LOWER(description) LIKE '%sick%' OR LOWER(title) LIKE '%sick%' OR LOWER(content) LIKE '%sick%' OR LOWER(description) LIKE '%disease%' OR LOWER(title) LIKE '%disease%' OR LOWER(content) LIKE '%disease%' THEN 1 ELSE 0 END) AS disease_keyword_count,\n",
    "       SUM(CASE WHEN LOWER(description) LIKE '%gene%' OR LOWER(title) LIKE '%gene%' OR LOWER(content) LIKE '%gene%' OR LOWER(description) LIKE '%genom%' OR LOWER(title) LIKE '%genom%' OR LOWER(content) LIKE '%genom%' THEN 1 ELSE 0 END) AS gene_keyword_count\n",
    "FROM epigenetics_tb\n",
    "GROUP BY date_published\n",
    "ORDER BY date_published;"
   ]
  },
  {
   "cell_type": "code",
   "execution_count": 0,
   "metadata": {
    "application/vnd.databricks.v1+cell": {
     "cellMetadata": {
      "byteLimit": 2048000,
      "rowLimit": 10000
     },
     "inputWidgets": {},
     "nuid": "21aacc4b-20d2-40ba-bbb3-63303901aacc",
     "showTitle": false,
     "title": ""
    }
   },
   "outputs": [
    {
     "output_type": "display_data",
     "data": {
      "text/html": [
       "<style scoped>\n",
       "  .table-result-container {\n",
       "    max-height: 300px;\n",
       "    overflow: auto;\n",
       "  }\n",
       "  table, th, td {\n",
       "    border: 1px solid black;\n",
       "    border-collapse: collapse;\n",
       "  }\n",
       "  th, td {\n",
       "    padding: 5px;\n",
       "  }\n",
       "  th {\n",
       "    text-align: left;\n",
       "  }\n",
       "</style><div class='table-result-container'><table class='table-result'><thead style='background-color: white'><tr><th>source</th><th>count</th></tr></thead><tbody><tr><td>BBC News</td><td>11</td></tr><tr><td>Windows Central</td><td>1</td></tr><tr><td>Frontiersin.org</td><td>1</td></tr><tr><td>Wired</td><td>5</td></tr><tr><td>Phys.Org</td><td>3</td></tr><tr><td>The Indian Express</td><td>1</td></tr><tr><td>Associated Press</td><td>1</td></tr><tr><td>Ox.ac.uk</td><td>1</td></tr><tr><td>Business Insider</td><td>4</td></tr><tr><td>Substack.com</td><td>1</td></tr><tr><td>The Next Web</td><td>2</td></tr><tr><td>ReadWrite</td><td>1</td></tr><tr><td>Slashdot.org</td><td>1</td></tr><tr><td>Nautil.us</td><td>1</td></tr><tr><td>Cracked.com</td><td>1</td></tr><tr><td>Time</td><td>8</td></tr><tr><td>Gizmodo.com</td><td>2</td></tr><tr><td>Al Jazeera English</td><td>1</td></tr><tr><td>Yahoo Entertainment</td><td>3</td></tr><tr><td>Kotaku</td><td>1</td></tr><tr><td>The Verge</td><td>1</td></tr><tr><td>Digital Trends</td><td>1</td></tr><tr><td>New Scientist</td><td>3</td></tr><tr><td>Futurity: Research News</td><td>2</td></tr><tr><td>Scientific American</td><td>3</td></tr><tr><td>Hackaday</td><td>1</td></tr><tr><td>NPR</td><td>10</td></tr><tr><td>Science Daily</td><td>16</td></tr><tr><td>Quartz India</td><td>1</td></tr><tr><td>Ars Technica</td><td>3</td></tr><tr><td>Forbes</td><td>2</td></tr><tr><td>Android Police</td><td>1</td></tr><tr><td>ABC News</td><td>4</td></tr></tbody></table></div>"
      ]
     },
     "metadata": {
      "application/vnd.databricks.v1+output": {
       "addedWidgets": {},
       "aggData": [],
       "aggError": "",
       "aggOverflow": false,
       "aggSchema": [],
       "aggSeriesLimitReached": false,
       "aggType": "",
       "arguments": {},
       "columnCustomDisplayInfos": {},
       "data": [
        [
         "BBC News",
         11
        ],
        [
         "Windows Central",
         1
        ],
        [
         "Frontiersin.org",
         1
        ],
        [
         "Wired",
         5
        ],
        [
         "Phys.Org",
         3
        ],
        [
         "The Indian Express",
         1
        ],
        [
         "Associated Press",
         1
        ],
        [
         "Ox.ac.uk",
         1
        ],
        [
         "Business Insider",
         4
        ],
        [
         "Substack.com",
         1
        ],
        [
         "The Next Web",
         2
        ],
        [
         "ReadWrite",
         1
        ],
        [
         "Slashdot.org",
         1
        ],
        [
         "Nautil.us",
         1
        ],
        [
         "Cracked.com",
         1
        ],
        [
         "Time",
         8
        ],
        [
         "Gizmodo.com",
         2
        ],
        [
         "Al Jazeera English",
         1
        ],
        [
         "Yahoo Entertainment",
         3
        ],
        [
         "Kotaku",
         1
        ],
        [
         "The Verge",
         1
        ],
        [
         "Digital Trends",
         1
        ],
        [
         "New Scientist",
         3
        ],
        [
         "Futurity: Research News",
         2
        ],
        [
         "Scientific American",
         3
        ],
        [
         "Hackaday",
         1
        ],
        [
         "NPR",
         10
        ],
        [
         "Science Daily",
         16
        ],
        [
         "Quartz India",
         1
        ],
        [
         "Ars Technica",
         3
        ],
        [
         "Forbes",
         2
        ],
        [
         "Android Police",
         1
        ],
        [
         "ABC News",
         4
        ]
       ],
       "datasetInfos": [],
       "dbfsResultPath": null,
       "isJsonSchema": true,
       "metadata": {},
       "overflow": false,
       "plotOptions": {
        "customPlotOptions": {},
        "displayType": "table",
        "pivotAggregation": null,
        "pivotColumns": null,
        "xColumns": null,
        "yColumns": null
       },
       "removedWidgets": [],
       "schema": [
        {
         "metadata": "{}",
         "name": "source",
         "type": "\"string\""
        },
        {
         "metadata": "{}",
         "name": "count",
         "type": "\"long\""
        }
       ],
       "type": "table"
      }
     },
     "output_type": "display_data"
    },
    {
     "output_type": "display_data",
     "data": {
      "text/html": [
       "<style scoped>\n",
       "  .table-result-container {\n",
       "    max-height: 300px;\n",
       "    overflow: auto;\n",
       "  }\n",
       "  table, th, td {\n",
       "    border: 1px solid black;\n",
       "    border-collapse: collapse;\n",
       "  }\n",
       "  th, td {\n",
       "    padding: 5px;\n",
       "  }\n",
       "  th {\n",
       "    text-align: left;\n",
       "  }\n",
       "</style><div class='table-result-container'><table class='table-result'><thead style='background-color: white'><tr><th>author</th><th>count</th></tr></thead><tbody><tr><td>Chris Thomas</td><td>1</td></tr><tr><td>Amanda Hoover</td><td>1</td></tr><tr><td>Keegan Kelly</td><td>1</td></tr><tr><td>Lakshmi Varanasi</td><td>1</td></tr><tr><td>Beth Mole</td><td>2</td></tr><tr><td>Brendan Lowry</td><td>1</td></tr><tr><td>Joe Hernandez</td><td>1</td></tr><tr><td>Will Stone</td><td>1</td></tr><tr><td>Callum Booth</td><td>1</td></tr><tr><td>Alice Park</td><td>1</td></tr><tr><td>Sarah Fielding</td><td>1</td></tr><tr><td>null</td><td>0</td></tr><tr><td>Emily Mullin</td><td>2</td></tr><tr><td>Paul McNally</td><td>1</td></tr><tr><td>Lifestyle Desk</td><td>1</td></tr><tr><td>Riis Williams</td><td>1</td></tr><tr><td>Duke-NUS</td><td>1</td></tr><tr><td>Ari Shapiro</td><td>1</td></tr><tr><td>Al Jazeera</td><td>1</td></tr><tr><td>Kristen French</td><td>1</td></tr><tr><td>Charlotte Blease, Michael Bernstein, Cosima Locher, and Walter Brown</td><td>1</td></tr><tr><td>Charles Pulliam-Moore</td><td>1</td></tr><tr><td>Ioanna Lykiardopoulou</td><td>1</td></tr><tr><td>Jamie Ducharme</td><td>1</td></tr><tr><td>Barton Girdwood</td><td>1</td></tr><tr><td>Yale</td><td>1</td></tr><tr><td>Kenneth Shepard</td><td>1</td></tr><tr><td>Stephen Iervolino</td><td>1</td></tr><tr><td>Bess Stillman</td><td>1</td></tr><tr><td>Bruce Gil</td><td>1</td></tr><tr><td>Katie Balevic,Kenneth Niemeyer</td><td>1</td></tr><tr><td>Mary Kekatos</td><td>1</td></tr><tr><td>https://www.facebook.com/bbcnews</td><td>10</td></tr><tr><td>Virginia Heffernan</td><td>1</td></tr><tr><td>Dave Rowntree</td><td>1</td></tr><tr><td>Tulika Bose, Tanya Lewis</td><td>1</td></tr><tr><td>Grace Wade</td><td>1</td></tr><tr><td>Brian Mann</td><td>1</td></tr><tr><td>Lee Hedgepeth</td><td>1</td></tr><tr><td>Jesse Lennox</td><td>1</td></tr><tr><td>BBC Sport</td><td>1</td></tr><tr><td>Grace Dean</td><td>1</td></tr><tr><td>Markham Heid</td><td>1</td></tr><tr><td>James Woodford</td><td>1</td></tr><tr><td>Gabrielle Emanuel</td><td>1</td></tr><tr><td>MIKE CORDER</td><td>1</td></tr><tr><td>Mike Stobbe/AP</td><td>2</td></tr><tr><td>Science X</td><td>3</td></tr><tr><td>Ed Cara</td><td>2</td></tr><tr><td>msmash</td><td>1</td></tr><tr><td>William A. Haseltine, Contributor, \n",
       " William A. Haseltine, Contributor\n",
       " https://www.forbes.com/sites/williamhaseltine/</td><td>1</td></tr><tr><td>Simmone Shah</td><td>1</td></tr><tr><td>Ayana Archie</td><td>1</td></tr><tr><td>Maggie Fox</td><td>1</td></tr><tr><td>Youri Benadjaoud</td><td>1</td></tr><tr><td>Malaka Gharib</td><td>1</td></tr><tr><td>Carol Cardona, Michelle Kromm</td><td>1</td></tr><tr><td>Abdo Riani, Senior Contributor, \n",
       " Abdo Riani, Senior Contributor\n",
       " https://www.forbes.com/sites/abdoriani/</td><td>1</td></tr><tr><td>Allison Aubrey</td><td>1</td></tr><tr><td>Steve Dent</td><td>1</td></tr><tr><td>Yuki Noguchi</td><td>1</td></tr><tr><td>ABC News</td><td>1</td></tr><tr><td>esnodgrass@insider.com (Erin Snodgrass)</td><td>1</td></tr><tr><td>Clare Wilson</td><td>1</td></tr><tr><td>Diana Gitig</td><td>1</td></tr></tbody></table></div>"
      ]
     },
     "metadata": {
      "application/vnd.databricks.v1+output": {
       "addedWidgets": {},
       "aggData": [],
       "aggError": "",
       "aggOverflow": false,
       "aggSchema": [],
       "aggSeriesLimitReached": false,
       "aggType": "",
       "arguments": {},
       "columnCustomDisplayInfos": {},
       "data": [
        [
         "Chris Thomas",
         1
        ],
        [
         "Amanda Hoover",
         1
        ],
        [
         "Keegan Kelly",
         1
        ],
        [
         "Lakshmi Varanasi",
         1
        ],
        [
         "Beth Mole",
         2
        ],
        [
         "Brendan Lowry",
         1
        ],
        [
         "Joe Hernandez",
         1
        ],
        [
         "Will Stone",
         1
        ],
        [
         "Callum Booth",
         1
        ],
        [
         "Alice Park",
         1
        ],
        [
         "Sarah Fielding",
         1
        ],
        [
         null,
         0
        ],
        [
         "Emily Mullin",
         2
        ],
        [
         "Paul McNally",
         1
        ],
        [
         "Lifestyle Desk",
         1
        ],
        [
         "Riis Williams",
         1
        ],
        [
         "Duke-NUS",
         1
        ],
        [
         "Ari Shapiro",
         1
        ],
        [
         "Al Jazeera",
         1
        ],
        [
         "Kristen French",
         1
        ],
        [
         "Charlotte Blease, Michael Bernstein, Cosima Locher, and Walter Brown",
         1
        ],
        [
         "Charles Pulliam-Moore",
         1
        ],
        [
         "Ioanna Lykiardopoulou",
         1
        ],
        [
         "Jamie Ducharme",
         1
        ],
        [
         "Barton Girdwood",
         1
        ],
        [
         "Yale",
         1
        ],
        [
         "Kenneth Shepard",
         1
        ],
        [
         "Stephen Iervolino",
         1
        ],
        [
         "Bess Stillman",
         1
        ],
        [
         "Bruce Gil",
         1
        ],
        [
         "Katie Balevic,Kenneth Niemeyer",
         1
        ],
        [
         "Mary Kekatos",
         1
        ],
        [
         "https://www.facebook.com/bbcnews",
         10
        ],
        [
         "Virginia Heffernan",
         1
        ],
        [
         "Dave Rowntree",
         1
        ],
        [
         "Tulika Bose, Tanya Lewis",
         1
        ],
        [
         "Grace Wade",
         1
        ],
        [
         "Brian Mann",
         1
        ],
        [
         "Lee Hedgepeth",
         1
        ],
        [
         "Jesse Lennox",
         1
        ],
        [
         "BBC Sport",
         1
        ],
        [
         "Grace Dean",
         1
        ],
        [
         "Markham Heid",
         1
        ],
        [
         "James Woodford",
         1
        ],
        [
         "Gabrielle Emanuel",
         1
        ],
        [
         "MIKE CORDER",
         1
        ],
        [
         "Mike Stobbe/AP",
         2
        ],
        [
         "Science X",
         3
        ],
        [
         "Ed Cara",
         2
        ],
        [
         "msmash",
         1
        ],
        [
         "William A. Haseltine, Contributor, \n William A. Haseltine, Contributor\n https://www.forbes.com/sites/williamhaseltine/",
         1
        ],
        [
         "Simmone Shah",
         1
        ],
        [
         "Ayana Archie",
         1
        ],
        [
         "Maggie Fox",
         1
        ],
        [
         "Youri Benadjaoud",
         1
        ],
        [
         "Malaka Gharib",
         1
        ],
        [
         "Carol Cardona, Michelle Kromm",
         1
        ],
        [
         "Abdo Riani, Senior Contributor, \n Abdo Riani, Senior Contributor\n https://www.forbes.com/sites/abdoriani/",
         1
        ],
        [
         "Allison Aubrey",
         1
        ],
        [
         "Steve Dent",
         1
        ],
        [
         "Yuki Noguchi",
         1
        ],
        [
         "ABC News",
         1
        ],
        [
         "esnodgrass@insider.com (Erin Snodgrass)",
         1
        ],
        [
         "Clare Wilson",
         1
        ],
        [
         "Diana Gitig",
         1
        ]
       ],
       "datasetInfos": [],
       "dbfsResultPath": null,
       "isJsonSchema": true,
       "metadata": {},
       "overflow": false,
       "plotOptions": {
        "customPlotOptions": {},
        "displayType": "table",
        "pivotAggregation": null,
        "pivotColumns": null,
        "xColumns": null,
        "yColumns": null
       },
       "removedWidgets": [],
       "schema": [
        {
         "metadata": "{}",
         "name": "author",
         "type": "\"string\""
        },
        {
         "metadata": "{}",
         "name": "count",
         "type": "\"long\""
        }
       ],
       "type": "table"
      }
     },
     "output_type": "display_data"
    }
   ],
   "source": [
    "# Quantidade de notícias por fonte e autor;\n",
    "source_count_df = spark.sql(\"\"\"\n",
    "        SELECT *\n",
    "        FROM source_count_view\n",
    "    \"\"\")\n",
    "author_count_df = spark.sql(\"\"\"\n",
    "        SELECT *\n",
    "        FROM author_count_view\n",
    "    \"\"\")\n",
    "\n",
    "display(source_count_df)\n",
    "display(author_count_df)"
   ]
  },
  {
   "cell_type": "code",
   "execution_count": 0,
   "metadata": {
    "application/vnd.databricks.v1+cell": {
     "cellMetadata": {
      "byteLimit": 2048000,
      "rowLimit": 10000
     },
     "inputWidgets": {},
     "nuid": "31cc6358-d330-4398-b7f7-ba507aba9ee1",
     "showTitle": false,
     "title": ""
    }
   },
   "outputs": [
    {
     "output_type": "display_data",
     "data": {
      "text/html": [
       "<style scoped>\n",
       "  .table-result-container {\n",
       "    max-height: 300px;\n",
       "    overflow: auto;\n",
       "  }\n",
       "  table, th, td {\n",
       "    border: 1px solid black;\n",
       "    border-collapse: collapse;\n",
       "  }\n",
       "  th, td {\n",
       "    padding: 5px;\n",
       "  }\n",
       "  th {\n",
       "    text-align: left;\n",
       "  }\n",
       "</style><div class='table-result-container'><table class='table-result'><thead style='background-color: white'><tr><th>date_published</th><th>count</th></tr></thead><tbody><tr><td>2024</td><td>98</td></tr></tbody></table></div>"
      ]
     },
     "metadata": {
      "application/vnd.databricks.v1+output": {
       "addedWidgets": {},
       "aggData": [],
       "aggError": "",
       "aggOverflow": false,
       "aggSchema": [],
       "aggSeriesLimitReached": false,
       "aggType": "",
       "arguments": {},
       "columnCustomDisplayInfos": {},
       "data": [
        [
         "2024",
         98
        ]
       ],
       "datasetInfos": [],
       "dbfsResultPath": null,
       "isJsonSchema": true,
       "metadata": {},
       "overflow": false,
       "plotOptions": {
        "customPlotOptions": {},
        "displayType": "table",
        "pivotAggregation": null,
        "pivotColumns": null,
        "xColumns": null,
        "yColumns": null
       },
       "removedWidgets": [],
       "schema": [
        {
         "metadata": "{}",
         "name": "date_published",
         "type": "\"string\""
        },
        {
         "metadata": "{}",
         "name": "count",
         "type": "\"long\""
        }
       ],
       "type": "table"
      }
     },
     "output_type": "display_data"
    },
    {
     "output_type": "display_data",
     "data": {
      "text/html": [
       "<style scoped>\n",
       "  .table-result-container {\n",
       "    max-height: 300px;\n",
       "    overflow: auto;\n",
       "  }\n",
       "  table, th, td {\n",
       "    border: 1px solid black;\n",
       "    border-collapse: collapse;\n",
       "  }\n",
       "  th, td {\n",
       "    padding: 5px;\n",
       "  }\n",
       "  th {\n",
       "    text-align: left;\n",
       "  }\n",
       "</style><div class='table-result-container'><table class='table-result'><thead style='background-color: white'><tr><th>date_published</th><th>count</th></tr></thead><tbody><tr><td>2024-03</td><td>72</td></tr><tr><td>2024-04</td><td>26</td></tr></tbody></table></div>"
      ]
     },
     "metadata": {
      "application/vnd.databricks.v1+output": {
       "addedWidgets": {},
       "aggData": [],
       "aggError": "",
       "aggOverflow": false,
       "aggSchema": [],
       "aggSeriesLimitReached": false,
       "aggType": "",
       "arguments": {},
       "columnCustomDisplayInfos": {},
       "data": [
        [
         "2024-03",
         72
        ],
        [
         "2024-04",
         26
        ]
       ],
       "datasetInfos": [],
       "dbfsResultPath": null,
       "isJsonSchema": true,
       "metadata": {},
       "overflow": false,
       "plotOptions": {
        "customPlotOptions": {},
        "displayType": "table",
        "pivotAggregation": null,
        "pivotColumns": null,
        "xColumns": null,
        "yColumns": null
       },
       "removedWidgets": [],
       "schema": [
        {
         "metadata": "{}",
         "name": "date_published",
         "type": "\"string\""
        },
        {
         "metadata": "{}",
         "name": "count",
         "type": "\"long\""
        }
       ],
       "type": "table"
      }
     },
     "output_type": "display_data"
    },
    {
     "output_type": "display_data",
     "data": {
      "text/html": [
       "<style scoped>\n",
       "  .table-result-container {\n",
       "    max-height: 300px;\n",
       "    overflow: auto;\n",
       "  }\n",
       "  table, th, td {\n",
       "    border: 1px solid black;\n",
       "    border-collapse: collapse;\n",
       "  }\n",
       "  th, td {\n",
       "    padding: 5px;\n",
       "  }\n",
       "  th {\n",
       "    text-align: left;\n",
       "  }\n",
       "</style><div class='table-result-container'><table class='table-result'><thead style='background-color: white'><tr><th>date_published</th><th>count</th></tr></thead><tbody><tr><td>2024-03-07</td><td>5</td></tr><tr><td>2024-03-08</td><td>2</td></tr><tr><td>2024-03-09</td><td>1</td></tr><tr><td>2024-03-10</td><td>1</td></tr><tr><td>2024-03-11</td><td>6</td></tr><tr><td>2024-03-12</td><td>2</td></tr><tr><td>2024-03-13</td><td>5</td></tr><tr><td>2024-03-14</td><td>3</td></tr><tr><td>2024-03-15</td><td>1</td></tr><tr><td>2024-03-17</td><td>1</td></tr><tr><td>2024-03-18</td><td>4</td></tr><tr><td>2024-03-19</td><td>2</td></tr><tr><td>2024-03-20</td><td>4</td></tr><tr><td>2024-03-21</td><td>3</td></tr><tr><td>2024-03-22</td><td>3</td></tr><tr><td>2024-03-23</td><td>2</td></tr><tr><td>2024-03-24</td><td>1</td></tr><tr><td>2024-03-25</td><td>3</td></tr><tr><td>2024-03-26</td><td>8</td></tr><tr><td>2024-03-27</td><td>6</td></tr><tr><td>2024-03-28</td><td>6</td></tr><tr><td>2024-03-29</td><td>1</td></tr><tr><td>2024-03-30</td><td>1</td></tr><tr><td>2024-03-31</td><td>1</td></tr><tr><td>2024-04-01</td><td>4</td></tr><tr><td>2024-04-02</td><td>2</td></tr><tr><td>2024-04-03</td><td>4</td></tr><tr><td>2024-04-04</td><td>7</td></tr><tr><td>2024-04-05</td><td>8</td></tr><tr><td>2024-04-06</td><td>1</td></tr></tbody></table></div>"
      ]
     },
     "metadata": {
      "application/vnd.databricks.v1+output": {
       "addedWidgets": {},
       "aggData": [],
       "aggError": "",
       "aggOverflow": false,
       "aggSchema": [],
       "aggSeriesLimitReached": false,
       "aggType": "",
       "arguments": {},
       "columnCustomDisplayInfos": {},
       "data": [
        [
         "2024-03-07",
         5
        ],
        [
         "2024-03-08",
         2
        ],
        [
         "2024-03-09",
         1
        ],
        [
         "2024-03-10",
         1
        ],
        [
         "2024-03-11",
         6
        ],
        [
         "2024-03-12",
         2
        ],
        [
         "2024-03-13",
         5
        ],
        [
         "2024-03-14",
         3
        ],
        [
         "2024-03-15",
         1
        ],
        [
         "2024-03-17",
         1
        ],
        [
         "2024-03-18",
         4
        ],
        [
         "2024-03-19",
         2
        ],
        [
         "2024-03-20",
         4
        ],
        [
         "2024-03-21",
         3
        ],
        [
         "2024-03-22",
         3
        ],
        [
         "2024-03-23",
         2
        ],
        [
         "2024-03-24",
         1
        ],
        [
         "2024-03-25",
         3
        ],
        [
         "2024-03-26",
         8
        ],
        [
         "2024-03-27",
         6
        ],
        [
         "2024-03-28",
         6
        ],
        [
         "2024-03-29",
         1
        ],
        [
         "2024-03-30",
         1
        ],
        [
         "2024-03-31",
         1
        ],
        [
         "2024-04-01",
         4
        ],
        [
         "2024-04-02",
         2
        ],
        [
         "2024-04-03",
         4
        ],
        [
         "2024-04-04",
         7
        ],
        [
         "2024-04-05",
         8
        ],
        [
         "2024-04-06",
         1
        ]
       ],
       "datasetInfos": [],
       "dbfsResultPath": null,
       "isJsonSchema": true,
       "metadata": {},
       "overflow": false,
       "plotOptions": {
        "customPlotOptions": {},
        "displayType": "table",
        "pivotAggregation": null,
        "pivotColumns": null,
        "xColumns": null,
        "yColumns": null
       },
       "removedWidgets": [],
       "schema": [
        {
         "metadata": "{}",
         "name": "date_published",
         "type": "\"string\""
        },
        {
         "metadata": "{}",
         "name": "count",
         "type": "\"long\""
        }
       ],
       "type": "table"
      }
     },
     "output_type": "display_data"
    }
   ],
   "source": [
    "# Quantidade de notícias por ano, mês e dia de publicação;\n",
    "day_ordered_df = spark.sql(\"\"\"\n",
    "        SELECT *\n",
    "        FROM day_ordered_view\n",
    "    \"\"\")\n",
    "\n",
    "month_ordered_df = spark.sql(\"\"\"\n",
    "        SELECT *\n",
    "        FROM month_ordered_view\n",
    "    \"\"\")\n",
    "\n",
    "year_ordered_df = spark.sql(\"\"\"\n",
    "        SELECT *\n",
    "        FROM year_ordered_view\n",
    "    \"\"\")\n",
    "\n",
    "display(year_ordered_df)\n",
    "display(month_ordered_df)\n",
    "display(day_ordered_df)"
   ]
  },
  {
   "cell_type": "code",
   "execution_count": 0,
   "metadata": {
    "application/vnd.databricks.v1+cell": {
     "cellMetadata": {
      "byteLimit": 2048000,
      "rowLimit": 10000
     },
     "inputWidgets": {},
     "nuid": "e42ddee0-6803-4211-8672-d6605df0af09",
     "showTitle": false,
     "title": ""
    }
   },
   "outputs": [
    {
     "output_type": "display_data",
     "data": {
      "text/html": [
       "<style scoped>\n",
       "  .table-result-container {\n",
       "    max-height: 300px;\n",
       "    overflow: auto;\n",
       "  }\n",
       "  table, th, td {\n",
       "    border: 1px solid black;\n",
       "    border-collapse: collapse;\n",
       "  }\n",
       "  th, td {\n",
       "    padding: 5px;\n",
       "  }\n",
       "  th {\n",
       "    text-align: left;\n",
       "  }\n",
       "</style><div class='table-result-container'><table class='table-result'><thead style='background-color: white'><tr><th>date_published</th><th>epigenetic_keyword_count</th><th>disease_keyword_count</th><th>gene_keyword_count</th></tr></thead><tbody><tr><td>2024</td><td>4</td><td>49</td><td>31</td></tr></tbody></table></div>"
      ]
     },
     "metadata": {
      "application/vnd.databricks.v1+output": {
       "addedWidgets": {},
       "aggData": [],
       "aggError": "",
       "aggOverflow": false,
       "aggSchema": [],
       "aggSeriesLimitReached": false,
       "aggType": "",
       "arguments": {},
       "columnCustomDisplayInfos": {},
       "data": [
        [
         "2024",
         4,
         49,
         31
        ]
       ],
       "datasetInfos": [],
       "dbfsResultPath": null,
       "isJsonSchema": true,
       "metadata": {},
       "overflow": false,
       "plotOptions": {
        "customPlotOptions": {},
        "displayType": "table",
        "pivotAggregation": null,
        "pivotColumns": null,
        "xColumns": null,
        "yColumns": null
       },
       "removedWidgets": [],
       "schema": [
        {
         "metadata": "{}",
         "name": "date_published",
         "type": "\"string\""
        },
        {
         "metadata": "{}",
         "name": "epigenetic_keyword_count",
         "type": "\"long\""
        },
        {
         "metadata": "{}",
         "name": "disease_keyword_count",
         "type": "\"long\""
        },
        {
         "metadata": "{}",
         "name": "gene_keyword_count",
         "type": "\"long\""
        }
       ],
       "type": "table"
      }
     },
     "output_type": "display_data"
    },
    {
     "output_type": "display_data",
     "data": {
      "text/html": [
       "<style scoped>\n",
       "  .table-result-container {\n",
       "    max-height: 300px;\n",
       "    overflow: auto;\n",
       "  }\n",
       "  table, th, td {\n",
       "    border: 1px solid black;\n",
       "    border-collapse: collapse;\n",
       "  }\n",
       "  th, td {\n",
       "    padding: 5px;\n",
       "  }\n",
       "  th {\n",
       "    text-align: left;\n",
       "  }\n",
       "</style><div class='table-result-container'><table class='table-result'><thead style='background-color: white'><tr><th>date_published</th><th>epigenetic_keyword_count</th><th>disease_keyword_count</th><th>gene_keyword_count</th></tr></thead><tbody><tr><td>2024-03</td><td>4</td><td>35</td><td>23</td></tr><tr><td>2024-04</td><td>0</td><td>14</td><td>8</td></tr></tbody></table></div>"
      ]
     },
     "metadata": {
      "application/vnd.databricks.v1+output": {
       "addedWidgets": {},
       "aggData": [],
       "aggError": "",
       "aggOverflow": false,
       "aggSchema": [],
       "aggSeriesLimitReached": false,
       "aggType": "",
       "arguments": {},
       "columnCustomDisplayInfos": {},
       "data": [
        [
         "2024-03",
         4,
         35,
         23
        ],
        [
         "2024-04",
         0,
         14,
         8
        ]
       ],
       "datasetInfos": [],
       "dbfsResultPath": null,
       "isJsonSchema": true,
       "metadata": {},
       "overflow": false,
       "plotOptions": {
        "customPlotOptions": {},
        "displayType": "table",
        "pivotAggregation": null,
        "pivotColumns": null,
        "xColumns": null,
        "yColumns": null
       },
       "removedWidgets": [],
       "schema": [
        {
         "metadata": "{}",
         "name": "date_published",
         "type": "\"string\""
        },
        {
         "metadata": "{}",
         "name": "epigenetic_keyword_count",
         "type": "\"long\""
        },
        {
         "metadata": "{}",
         "name": "disease_keyword_count",
         "type": "\"long\""
        },
        {
         "metadata": "{}",
         "name": "gene_keyword_count",
         "type": "\"long\""
        }
       ],
       "type": "table"
      }
     },
     "output_type": "display_data"
    },
    {
     "output_type": "display_data",
     "data": {
      "text/html": [
       "<style scoped>\n",
       "  .table-result-container {\n",
       "    max-height: 300px;\n",
       "    overflow: auto;\n",
       "  }\n",
       "  table, th, td {\n",
       "    border: 1px solid black;\n",
       "    border-collapse: collapse;\n",
       "  }\n",
       "  th, td {\n",
       "    padding: 5px;\n",
       "  }\n",
       "  th {\n",
       "    text-align: left;\n",
       "  }\n",
       "</style><div class='table-result-container'><table class='table-result'><thead style='background-color: white'><tr><th>date_published</th><th>epigenetic_keyword_count</th><th>disease_keyword_count</th><th>gene_keyword_count</th></tr></thead><tbody><tr><td>2024-03-07</td><td>1</td><td>2</td><td>4</td></tr><tr><td>2024-03-08</td><td>0</td><td>0</td><td>1</td></tr><tr><td>2024-03-09</td><td>0</td><td>1</td><td>0</td></tr><tr><td>2024-03-10</td><td>0</td><td>0</td><td>0</td></tr><tr><td>2024-03-11</td><td>1</td><td>2</td><td>2</td></tr><tr><td>2024-03-12</td><td>0</td><td>0</td><td>0</td></tr><tr><td>2024-03-13</td><td>0</td><td>3</td><td>3</td></tr><tr><td>2024-03-14</td><td>0</td><td>3</td><td>0</td></tr><tr><td>2024-03-15</td><td>0</td><td>1</td><td>0</td></tr><tr><td>2024-03-17</td><td>0</td><td>0</td><td>0</td></tr><tr><td>2024-03-18</td><td>0</td><td>2</td><td>2</td></tr><tr><td>2024-03-19</td><td>0</td><td>1</td><td>1</td></tr><tr><td>2024-03-20</td><td>0</td><td>1</td><td>2</td></tr><tr><td>2024-03-21</td><td>0</td><td>2</td><td>1</td></tr><tr><td>2024-03-22</td><td>0</td><td>3</td><td>0</td></tr><tr><td>2024-03-23</td><td>0</td><td>0</td><td>0</td></tr><tr><td>2024-03-24</td><td>0</td><td>1</td><td>0</td></tr><tr><td>2024-03-25</td><td>0</td><td>0</td><td>0</td></tr><tr><td>2024-03-26</td><td>1</td><td>4</td><td>3</td></tr><tr><td>2024-03-27</td><td>0</td><td>5</td><td>1</td></tr><tr><td>2024-03-28</td><td>1</td><td>3</td><td>2</td></tr><tr><td>2024-03-29</td><td>0</td><td>1</td><td>0</td></tr><tr><td>2024-03-30</td><td>0</td><td>0</td><td>1</td></tr><tr><td>2024-03-31</td><td>0</td><td>0</td><td>0</td></tr><tr><td>2024-04-01</td><td>0</td><td>3</td><td>1</td></tr><tr><td>2024-04-02</td><td>0</td><td>1</td><td>1</td></tr><tr><td>2024-04-03</td><td>0</td><td>0</td><td>3</td></tr><tr><td>2024-04-04</td><td>0</td><td>6</td><td>3</td></tr><tr><td>2024-04-05</td><td>0</td><td>4</td><td>0</td></tr><tr><td>2024-04-06</td><td>0</td><td>0</td><td>0</td></tr></tbody></table></div>"
      ]
     },
     "metadata": {
      "application/vnd.databricks.v1+output": {
       "addedWidgets": {},
       "aggData": [],
       "aggError": "",
       "aggOverflow": false,
       "aggSchema": [],
       "aggSeriesLimitReached": false,
       "aggType": "",
       "arguments": {},
       "columnCustomDisplayInfos": {},
       "data": [
        [
         "2024-03-07",
         1,
         2,
         4
        ],
        [
         "2024-03-08",
         0,
         0,
         1
        ],
        [
         "2024-03-09",
         0,
         1,
         0
        ],
        [
         "2024-03-10",
         0,
         0,
         0
        ],
        [
         "2024-03-11",
         1,
         2,
         2
        ],
        [
         "2024-03-12",
         0,
         0,
         0
        ],
        [
         "2024-03-13",
         0,
         3,
         3
        ],
        [
         "2024-03-14",
         0,
         3,
         0
        ],
        [
         "2024-03-15",
         0,
         1,
         0
        ],
        [
         "2024-03-17",
         0,
         0,
         0
        ],
        [
         "2024-03-18",
         0,
         2,
         2
        ],
        [
         "2024-03-19",
         0,
         1,
         1
        ],
        [
         "2024-03-20",
         0,
         1,
         2
        ],
        [
         "2024-03-21",
         0,
         2,
         1
        ],
        [
         "2024-03-22",
         0,
         3,
         0
        ],
        [
         "2024-03-23",
         0,
         0,
         0
        ],
        [
         "2024-03-24",
         0,
         1,
         0
        ],
        [
         "2024-03-25",
         0,
         0,
         0
        ],
        [
         "2024-03-26",
         1,
         4,
         3
        ],
        [
         "2024-03-27",
         0,
         5,
         1
        ],
        [
         "2024-03-28",
         1,
         3,
         2
        ],
        [
         "2024-03-29",
         0,
         1,
         0
        ],
        [
         "2024-03-30",
         0,
         0,
         1
        ],
        [
         "2024-03-31",
         0,
         0,
         0
        ],
        [
         "2024-04-01",
         0,
         3,
         1
        ],
        [
         "2024-04-02",
         0,
         1,
         1
        ],
        [
         "2024-04-03",
         0,
         0,
         3
        ],
        [
         "2024-04-04",
         0,
         6,
         3
        ],
        [
         "2024-04-05",
         0,
         4,
         0
        ],
        [
         "2024-04-06",
         0,
         0,
         0
        ]
       ],
       "datasetInfos": [],
       "dbfsResultPath": null,
       "isJsonSchema": true,
       "metadata": {},
       "overflow": false,
       "plotOptions": {
        "customPlotOptions": {},
        "displayType": "table",
        "pivotAggregation": null,
        "pivotColumns": null,
        "xColumns": null,
        "yColumns": null
       },
       "removedWidgets": [],
       "schema": [
        {
         "metadata": "{}",
         "name": "date_published",
         "type": "\"string\""
        },
        {
         "metadata": "{}",
         "name": "epigenetic_keyword_count",
         "type": "\"long\""
        },
        {
         "metadata": "{}",
         "name": "disease_keyword_count",
         "type": "\"long\""
        },
        {
         "metadata": "{}",
         "name": "gene_keyword_count",
         "type": "\"long\""
        }
       ],
       "type": "table"
      }
     },
     "output_type": "display_data"
    }
   ],
   "source": [
    "# Quantidade de aparições de 3 palavras-chave por ano, mês e dia de publicação (as 3 palavras-chave serão as mesmas usadas para fazer os filtros de relevância do item 2 (2. Definir Critérios de Relevância))\n",
    "keyword_day_df = spark.sql(\"\"\"\n",
    "        SELECT *\n",
    "        FROM keyword_day_view\n",
    "    \"\"\")\n",
    "\n",
    "keyword_month_df = spark.sql(\"\"\"\n",
    "        SELECT *\n",
    "        FROM keyword_month_view\n",
    "    \"\"\")\n",
    "\n",
    "keyword_year_df = spark.sql(\"\"\"\n",
    "        SELECT *\n",
    "        FROM keyword_year_view\n",
    "    \"\"\")\n",
    "\n",
    "display(keyword_year_df)\n",
    "display(keyword_month_df)\n",
    "display(keyword_day_df)"
   ]
  },
  {
   "cell_type": "markdown",
   "metadata": {
    "application/vnd.databricks.v1+cell": {
     "cellMetadata": {
      "byteLimit": 2048000,
      "rowLimit": 10000
     },
     "inputWidgets": {},
     "nuid": "0f912612-fad2-4b9c-a675-3219d70d4276",
     "showTitle": false,
     "title": ""
    }
   },
   "source": [
    "## API"
   ]
  },
  {
   "cell_type": "code",
   "execution_count": 0,
   "metadata": {
    "application/vnd.databricks.v1+cell": {
     "cellMetadata": {
      "byteLimit": 2048000,
      "rowLimit": 10000
     },
     "collapsed": true,
     "inputWidgets": {},
     "nuid": "a393615f-9e2a-49f7-8ab9-91cdc7fb2568",
     "showTitle": false,
     "title": ""
    }
   },
   "outputs": [
    {
     "output_type": "stream",
     "name": "stdout",
     "output_type": "stream",
     "text": [
      "Python interpreter will be restarted.\nRequirement already satisfied: flask in /local_disk0/.ephemeral_nfs/envs/pythonEnv-674134c0-9ef7-4c67-a223-747d3a930977/lib/python3.9/site-packages (3.0.3)\nRequirement already satisfied: fastapi in /local_disk0/.ephemeral_nfs/envs/pythonEnv-674134c0-9ef7-4c67-a223-747d3a930977/lib/python3.9/site-packages (0.110.1)\nRequirement already satisfied: uvicorn in /local_disk0/.ephemeral_nfs/envs/pythonEnv-674134c0-9ef7-4c67-a223-747d3a930977/lib/python3.9/site-packages (0.29.0)\nRequirement already satisfied: kafka-python in /local_disk0/.ephemeral_nfs/envs/pythonEnv-674134c0-9ef7-4c67-a223-747d3a930977/lib/python3.9/site-packages (2.0.2)\nRequirement already satisfied: importlib-metadata>=3.6.0 in /local_disk0/.ephemeral_nfs/envs/pythonEnv-674134c0-9ef7-4c67-a223-747d3a930977/lib/python3.9/site-packages (from flask) (7.1.0)\nRequirement already satisfied: Werkzeug>=3.0.0 in /local_disk0/.ephemeral_nfs/envs/pythonEnv-674134c0-9ef7-4c67-a223-747d3a930977/lib/python3.9/site-packages (from flask) (3.0.2)\nRequirement already satisfied: click>=8.1.3 in /local_disk0/.ephemeral_nfs/envs/pythonEnv-674134c0-9ef7-4c67-a223-747d3a930977/lib/python3.9/site-packages (from flask) (8.1.7)\nRequirement already satisfied: blinker>=1.6.2 in /local_disk0/.ephemeral_nfs/envs/pythonEnv-674134c0-9ef7-4c67-a223-747d3a930977/lib/python3.9/site-packages (from flask) (1.7.0)\nRequirement already satisfied: Jinja2>=3.1.2 in /local_disk0/.ephemeral_nfs/envs/pythonEnv-674134c0-9ef7-4c67-a223-747d3a930977/lib/python3.9/site-packages (from flask) (3.1.3)\nRequirement already satisfied: itsdangerous>=2.1.2 in /local_disk0/.ephemeral_nfs/envs/pythonEnv-674134c0-9ef7-4c67-a223-747d3a930977/lib/python3.9/site-packages (from flask) (2.1.2)\nRequirement already satisfied: typing-extensions>=4.8.0 in /local_disk0/.ephemeral_nfs/envs/pythonEnv-674134c0-9ef7-4c67-a223-747d3a930977/lib/python3.9/site-packages (from fastapi) (4.11.0)\nRequirement already satisfied: starlette<0.38.0,>=0.37.2 in /local_disk0/.ephemeral_nfs/envs/pythonEnv-674134c0-9ef7-4c67-a223-747d3a930977/lib/python3.9/site-packages (from fastapi) (0.37.2)\nRequirement already satisfied: pydantic!=1.8,!=1.8.1,!=2.0.0,!=2.0.1,!=2.1.0,<3.0.0,>=1.7.4 in /local_disk0/.ephemeral_nfs/envs/pythonEnv-674134c0-9ef7-4c67-a223-747d3a930977/lib/python3.9/site-packages (from fastapi) (2.6.4)\nRequirement already satisfied: h11>=0.8 in /local_disk0/.ephemeral_nfs/envs/pythonEnv-674134c0-9ef7-4c67-a223-747d3a930977/lib/python3.9/site-packages (from uvicorn) (0.14.0)\nRequirement already satisfied: zipp>=0.5 in /local_disk0/.ephemeral_nfs/envs/pythonEnv-674134c0-9ef7-4c67-a223-747d3a930977/lib/python3.9/site-packages (from importlib-metadata>=3.6.0->flask) (3.18.1)\nRequirement already satisfied: MarkupSafe>=2.0 in /local_disk0/.ephemeral_nfs/envs/pythonEnv-674134c0-9ef7-4c67-a223-747d3a930977/lib/python3.9/site-packages (from Jinja2>=3.1.2->flask) (2.1.5)\nRequirement already satisfied: annotated-types>=0.4.0 in /local_disk0/.ephemeral_nfs/envs/pythonEnv-674134c0-9ef7-4c67-a223-747d3a930977/lib/python3.9/site-packages (from pydantic!=1.8,!=1.8.1,!=2.0.0,!=2.0.1,!=2.1.0,<3.0.0,>=1.7.4->fastapi) (0.6.0)\nRequirement already satisfied: pydantic-core==2.16.3 in /local_disk0/.ephemeral_nfs/envs/pythonEnv-674134c0-9ef7-4c67-a223-747d3a930977/lib/python3.9/site-packages (from pydantic!=1.8,!=1.8.1,!=2.0.0,!=2.0.1,!=2.1.0,<3.0.0,>=1.7.4->fastapi) (2.16.3)\nRequirement already satisfied: anyio<5,>=3.4.0 in /local_disk0/.ephemeral_nfs/envs/pythonEnv-674134c0-9ef7-4c67-a223-747d3a930977/lib/python3.9/site-packages (from starlette<0.38.0,>=0.37.2->fastapi) (4.3.0)\nRequirement already satisfied: idna>=2.8 in /databricks/python3/lib/python3.9/site-packages (from anyio<5,>=3.4.0->starlette<0.38.0,>=0.37.2->fastapi) (3.3)\nRequirement already satisfied: exceptiongroup>=1.0.2 in /local_disk0/.ephemeral_nfs/envs/pythonEnv-674134c0-9ef7-4c67-a223-747d3a930977/lib/python3.9/site-packages (from anyio<5,>=3.4.0->starlette<0.38.0,>=0.37.2->fastapi) (1.2.0)\nRequirement already satisfied: sniffio>=1.1 in /local_disk0/.ephemeral_nfs/envs/pythonEnv-674134c0-9ef7-4c67-a223-747d3a930977/lib/python3.9/site-packages (from anyio<5,>=3.4.0->starlette<0.38.0,>=0.37.2->fastapi) (1.3.1)\nPython interpreter will be restarted.\n"
     ]
    }
   ],
   "source": [
    "pip install flask fastapi uvicorn kafka-python"
   ]
  },
  {
   "cell_type": "code",
   "execution_count": 0,
   "metadata": {
    "application/vnd.databricks.v1+cell": {
     "cellMetadata": {
      "byteLimit": 2048000,
      "rowLimit": 10000
     },
     "inputWidgets": {},
     "nuid": "43de0fd2-38fd-4c51-8177-92056e6ae2e9",
     "showTitle": false,
     "title": ""
    }
   },
   "outputs": [
    {
     "output_type": "stream",
     "name": "stdout",
     "output_type": "stream",
     "text": [
      " * Serving Flask app 'app'\n * Debug mode: off\n"
     ]
    },
    {
     "output_type": "stream",
     "name": "stderr",
     "output_type": "stream",
     "text": [
      "\u001B[31m\u001B[1mWARNING: This is a development server. Do not use it in a production deployment. Use a production WSGI server instead.\u001B[0m\n * Running on http://127.0.0.1:5000\n\u001B[33mPress CTRL+C to quit\u001B[0m\n127.0.0.1 - - [08/Apr/2024 22:34:38] \"GET /ordered_year/<path:ordered_year> HTTP/1.1\" 200 -\n127.0.0.1 - - [08/Apr/2024 22:34:47] \"GET /keyword_day/<path:keyword_day> HTTP/1.1\" 200 -\n127.0.0.1 - - [08/Apr/2024 22:35:06] \"GET /author/<path:author> HTTP/1.1\" 200 -\n"
     ]
    },
    {
     "output_type": "display_data",
     "data": {
      "text/html": [
       "<style scoped>\n",
       "  .ansiout {\n",
       "    display: block;\n",
       "    unicode-bidi: embed;\n",
       "    white-space: pre-wrap;\n",
       "    word-wrap: break-word;\n",
       "    word-break: break-all;\n",
       "    font-family: \"Menlo\", \"Monaco\", \"Consolas\", \"Ubuntu Mono\", \"Source Code Pro\", monospace;\n",
       "    font-size: 13px;\n",
       "    color: #555;\n",
       "    margin-left: 4px;\n",
       "    line-height: 19px;\n",
       "  }\n",
       "</style>"
      ]
     },
     "metadata": {
      "application/vnd.databricks.v1+output": {
       "arguments": {},
       "data": "",
       "errorSummary": "Cancelled",
       "errorTraceType": "html",
       "metadata": {},
       "type": "ipynbError"
      }
     },
     "output_type": "display_data"
    }
   ],
   "source": [
    "from flask import Flask, request\n",
    "from kafka import KafkaProducer\n",
    "import flask,json\n",
    "\n",
    "app = Flask(\"app\")\n",
    "producer= KafkaProducer(bootstrap_servers=['localhost:9092'],api_version=(0,11,5), value_serializer=lambda x: dumps(x).encode('utf-8'))\n",
    "topic = \"views_api\"\n",
    "\n",
    "@app.route(\"/keyword_year/<path:year>\", methods=[\"GET\"])\n",
    "def filter_keyword_by_year(year):\n",
    "    data_list = keyword_year_df.collect()\n",
    "    json_data = json.dumps([row.asDict() for row in data_list])\n",
    "    return json_data\n",
    "\n",
    "@app.route(\"/keyword_month/<path:month>\", methods=[\"GET\"])\n",
    "def filter_keyword_by_month(month):\n",
    "    data_list = keyword_month_df.collect()\n",
    "    json_data = json.dumps([row.asDict() for row in data_list])\n",
    "    return json_data\n",
    "\n",
    "@app.route(\"/keyword_day/<path:day>\", methods=[\"GET\"])\n",
    "def filter_keyword_by_day(day):\n",
    "    data_list = keyword_day_df.collect()\n",
    "    json_data = json.dumps([row.asDict() for row in data_list])\n",
    "    return json_data\n",
    "\n",
    "@app.route(\"/ordered_year/<path:year>\", methods=[\"GET\"])\n",
    "def filter_by_year(year):\n",
    "    data_list = year_ordered_df.collect()\n",
    "    json_data = json.dumps([row.asDict() for row in data_list])\n",
    "    return json_data\n",
    "\n",
    "@app.route(\"/ordered_month/<path:month>\", methods=[\"GET\"])\n",
    "def filter_by_month(month):\n",
    "    data_list = month_ordered_df.collect()\n",
    "    json_data = json.dumps([row.asDict() for row in data_list])\n",
    "    return json_data\n",
    "\n",
    "@app.route(\"/ordered_day/<path:day>\", methods=[\"GET\"])\n",
    "def filter_by_day(day):\n",
    "    data_list = day_ordered_df.collect()\n",
    "    json_data = json.dumps([row.asDict() for row in data_list])\n",
    "    return json_data\n",
    "\n",
    "@app.route(\"/source/<path:source>\", methods=[\"GET\"])\n",
    "def filter_by_source(source):\n",
    "    data_list = source_count_df.collect()\n",
    "    json_data = json.dumps([row.asDict() for row in data_list])\n",
    "    return json_data\n",
    "\n",
    "@app.route(\"/author/<path:author>\", methods=[\"GET\"])\n",
    "def filter_by_author(author):\n",
    "    data_list = author_count_df.collect()\n",
    "    json_data = json.dumps([row.asDict() for row in data_list])\n",
    "    return json_data\n",
    "\n",
    "@app.route(\"/views_api\", methods=[\"POST\"])\n",
    "def consome_dados():\n",
    "    lista = []\n",
    "    data = json_data\n",
    "    mensagem = data\n",
    "    producer.send(topic, mensagem)\n",
    "    return \"Completed\"\n",
    "\n",
    "app.run()"
   ]
  },
  {
   "cell_type": "code",
   "execution_count": 0,
   "metadata": {
    "application/vnd.databricks.v1+cell": {
     "cellMetadata": {},
     "inputWidgets": {},
     "nuid": "2d8967eb-5a2d-4901-ab12-c56054f50262",
     "showTitle": false,
     "title": ""
    }
   },
   "outputs": [],
   "source": []
  }
 ],
 "metadata": {
  "application/vnd.databricks.v1+notebook": {
   "dashboards": [],
   "language": "python",
   "notebookMetadata": {
    "mostRecentlyExecutedCommandWithImplicitDF": {
     "commandId": 2889386426217957,
     "dataframes": [
      "_sqldf"
     ]
    },
    "pythonIndentUnit": 2
   },
   "notebookName": "Data Extraction I - Final Version",
   "widgets": {}
  }
 },
 "nbformat": 4,
 "nbformat_minor": 0
}
