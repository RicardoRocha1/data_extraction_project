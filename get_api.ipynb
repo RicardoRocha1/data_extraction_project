{
 "cells": [
  {
   "cell_type": "code",
   "execution_count": 0,
   "metadata": {
    "application/vnd.databricks.v1+cell": {
     "cellMetadata": {
      "byteLimit": 2048000,
      "rowLimit": 10000
     },
     "inputWidgets": {},
     "nuid": "a43060a1-b8b8-42bf-baa8-d7443516afec",
     "showTitle": false,
     "title": ""
    }
   },
   "outputs": [
    {
     "output_type": "stream",
     "name": "stdout",
     "output_type": "stream",
     "text": [
      "Avaliable data:\nsource, author, ordered_day, ordered_month, ordered_year, keyword_day, keyword_month, keyword_year\n\n"
     ]
    },
    {
     "output_type": "display_data",
     "data": {
      "text/plain": [
       "Insert the desired data. author"
      ]
     },
     "metadata": {},
     "output_type": "display_data"
    },
    {
     "output_type": "stream",
     "name": "stdout",
     "output_type": "stream",
     "text": [
      "Out[46]: [{'author': 'Chris Thomas', 'count': 1},\n {'author': 'Amanda Hoover', 'count': 1},\n {'author': 'Keegan Kelly', 'count': 1},\n {'author': 'Lakshmi Varanasi', 'count': 1},\n {'author': 'Beth Mole', 'count': 2},\n {'author': 'Brendan Lowry', 'count': 1},\n {'author': 'Joe Hernandez', 'count': 1},\n {'author': 'Will Stone', 'count': 1},\n {'author': 'Callum Booth', 'count': 1},\n {'author': 'Alice Park', 'count': 1},\n {'author': 'Sarah Fielding', 'count': 1},\n {'author': None, 'count': 0},\n {'author': 'Emily Mullin', 'count': 2},\n {'author': 'Paul McNally', 'count': 1},\n {'author': 'Lifestyle Desk', 'count': 1},\n {'author': 'Riis Williams', 'count': 1},\n {'author': 'Duke-NUS', 'count': 1},\n {'author': 'Ari Shapiro', 'count': 1},\n {'author': 'Al Jazeera', 'count': 1},\n {'author': 'Kristen French', 'count': 1},\n {'author': 'Charlotte Blease, Michael Bernstein, Cosima Locher, and Walter Brown',\n  'count': 1},\n {'author': 'Charles Pulliam-Moore', 'count': 1},\n {'author': 'Ioanna Lykiardopoulou', 'count': 1},\n {'author': 'Jamie Ducharme', 'count': 1},\n {'author': 'Barton Girdwood', 'count': 1},\n {'author': 'Yale', 'count': 1},\n {'author': 'Kenneth Shepard', 'count': 1},\n {'author': 'Stephen Iervolino', 'count': 1},\n {'author': 'Bess Stillman', 'count': 1},\n {'author': 'Bruce Gil', 'count': 1},\n {'author': 'Katie Balevic,Kenneth Niemeyer', 'count': 1},\n {'author': 'Mary Kekatos', 'count': 1},\n {'author': 'https://www.facebook.com/bbcnews', 'count': 10},\n {'author': 'Virginia Heffernan', 'count': 1},\n {'author': 'Dave Rowntree', 'count': 1},\n {'author': 'Tulika Bose, Tanya Lewis', 'count': 1},\n {'author': 'Grace Wade', 'count': 1},\n {'author': 'Brian Mann', 'count': 1},\n {'author': 'Lee Hedgepeth', 'count': 1},\n {'author': 'Jesse Lennox', 'count': 1},\n {'author': 'BBC Sport', 'count': 1},\n {'author': 'Grace Dean', 'count': 1},\n {'author': 'Markham Heid', 'count': 1},\n {'author': 'James Woodford', 'count': 1},\n {'author': 'Gabrielle Emanuel', 'count': 1},\n {'author': 'MIKE CORDER', 'count': 1},\n {'author': 'Mike Stobbe/AP', 'count': 2},\n {'author': 'Science X', 'count': 3},\n {'author': 'Ed Cara', 'count': 2},\n {'author': 'msmash', 'count': 1},\n {'author': 'William A. Haseltine, Contributor, \\n William A. Haseltine, Contributor\\n https://www.forbes.com/sites/williamhaseltine/',\n  'count': 1},\n {'author': 'Simmone Shah', 'count': 1},\n {'author': 'Ayana Archie', 'count': 1},\n {'author': 'Maggie Fox', 'count': 1},\n {'author': 'Youri Benadjaoud', 'count': 1},\n {'author': 'Malaka Gharib', 'count': 1},\n {'author': 'Carol Cardona, Michelle Kromm', 'count': 1},\n {'author': 'Abdo Riani, Senior Contributor, \\n Abdo Riani, Senior Contributor\\n https://www.forbes.com/sites/abdoriani/',\n  'count': 1},\n {'author': 'Allison Aubrey', 'count': 1},\n {'author': 'Steve Dent', 'count': 1},\n {'author': 'Yuki Noguchi', 'count': 1},\n {'author': 'ABC News', 'count': 1},\n {'author': 'esnodgrass@insider.com (Erin Snodgrass)', 'count': 1},\n {'author': 'Clare Wilson', 'count': 1},\n {'author': 'Diana Gitig', 'count': 1}]"
     ]
    }
   ],
   "source": [
    "import requests\n",
    "\n",
    "base_url = \"http://127.0.0.1:5000\"\n",
    "print(f\"Avaliable data:\\nsource, author, ordered_day, ordered_month, ordered_year, keyword_day, keyword_month, keyword_year\\n\")\n",
    "desired_view = input(\"Insert the desired data.\")\n",
    "\n",
    "def api_get(desired_view):\n",
    "    response = requests.get(f\"{base_url}/{desired_view}/<path:{desired_view}>\")\n",
    "    return response\n",
    "\n",
    "api_data_json = api_get(desired_view).json()\n",
    "api_data_json"
   ]
  },
  {
   "cell_type": "code",
   "execution_count": 0,
   "metadata": {
    "application/vnd.databricks.v1+cell": {
     "cellMetadata": {
      "byteLimit": 2048000,
      "rowLimit": 10000
     },
     "inputWidgets": {},
     "nuid": "cf0ebc08-6d18-430d-aa62-4d2e25192804",
     "showTitle": false,
     "title": ""
    }
   },
   "outputs": [
    {
     "output_type": "stream",
     "name": "stdout",
     "output_type": "stream",
     "text": [
      "5\n"
     ]
    }
   ],
   "source": [
    "print(2+3)"
   ]
  },
  {
   "cell_type": "code",
   "execution_count": 0,
   "metadata": {
    "application/vnd.databricks.v1+cell": {
     "cellMetadata": {},
     "inputWidgets": {},
     "nuid": "6e488154-4368-4cc2-9dbd-b68c816550d8",
     "showTitle": false,
     "title": ""
    }
   },
   "outputs": [],
   "source": []
  }
 ],
 "metadata": {
  "application/vnd.databricks.v1+notebook": {
   "dashboards": [],
   "language": "python",
   "notebookMetadata": {
    "pythonIndentUnit": 4
   },
   "notebookName": "get_api",
   "widgets": {}
  }
 },
 "nbformat": 4,
 "nbformat_minor": 0
}
